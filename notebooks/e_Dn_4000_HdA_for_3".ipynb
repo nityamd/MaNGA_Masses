{
 "cells": [
  {
   "cell_type": "code",
   "execution_count": 1,
   "metadata": {},
   "outputs": [],
   "source": [
    "import numpy as np\n",
    "import scipy\n",
    "from scipy.stats import binned_statistic\n",
    "from scipy.stats import binned_statistic_2d\n",
    "import scipy.interpolate as interp\n",
    "import scipy.stats as st\n",
    "import scipy.signal as sig\n",
    "from scipy.optimize import curve_fit\n",
    "\n",
    "\n",
    "import h5py\n",
    "import gc\n",
    "import sys\n",
    "import subprocess\n",
    "import pickle\n",
    "import os\n",
    "\n",
    "\n",
    "import astropy as ap\n",
    "from astropy.io import fits\n",
    "from astropy import table as t\n",
    "from astropy.table import Table\n",
    "from astropy import wcs\n",
    "from astropy.cosmology import WMAP7\n",
    "\n",
    "\n",
    "import matplotlib.pyplot as plt\n",
    "import matplotlib.patheffects as patheffects\n",
    "from matplotlib import rcParams\n",
    "from matplotlib.path import Path\n",
    "import matplotlib.patches as patches\n",
    "import matplotlib as mpl\n",
    "from matplotlib import rc\n",
    "from matplotlib import colors\n",
    "from __future__ import unicode_literals\n",
    "\n",
    "rcParams[\"font.family\"] = \"DejaVu Sans\"\n",
    "rcParams[\"font.sans-serif\"] = [\"Computer Modern Sans\"]\n",
    "rcParams[\"text.usetex\"] = True\n",
    "rcParams[\"text.latex.preamble\"] = r\"\\usepackage{cmbright}\"\n",
    "rcParams['xtick.major.pad']='10'\n",
    "rcParams['ytick.major.pad']='10'\n",
    "rcParams['font.size'] = 22\n",
    "rcParams['axes.labelsize'] = 22\n",
    "rcParams['axes.labelweight'] = 'bold'\n",
    "rcParams['axes.titlesize'] = 17\n",
    "rcParams['xtick.labelsize'] = 17\n",
    "rcParams['ytick.labelsize'] = 17\n",
    "rcParams['legend.fontsize'] = 15\n",
    "rcParams['figure.titlesize'] = 1"
   ]
  },
  {
   "cell_type": "code",
   "execution_count": 41,
   "metadata": {},
   "outputs": [],
   "source": [
    "os.chdir(\"/Users/nitya/Work/Paper2/mpl7\")\n",
    "\n",
    "drpall = t.Table.read('drpall-v2_4_3.fits')\n",
    "drpall.add_index('plateifu')\n",
    "#drpall.loc['9487-12701']\n",
    "# drp_logcube2 = fits.open('manga-9487-12701-LOGCUBE.fits')\n",
    "index = np.where(drpall2['srvymode']=='MaNGA dither')[0]\n",
    "#print(len(np.unique(drpall2['plateifu'][index])))\n",
    "#print(np.unique(drpall2['plateifu'][index][0:10]))\n",
    "plate_ifu = drpall2['plateifu'][index]"
   ]
  },
  {
   "cell_type": "code",
   "execution_count": 42,
   "metadata": {},
   "outputs": [],
   "source": [
    "drp_logcube = fits.open('manga-7977-12701-LOGCUBE.fits' )\n",
    "wave = drp_logcube['WAVE'].data"
   ]
  },
  {
   "cell_type": "code",
   "execution_count": 47,
   "metadata": {},
   "outputs": [],
   "source": [
    "#dn4000\n",
    "def dn4000_red(wave,spec):\n",
    "    interp_spec = interp.interp1d(wave,spec)\n",
    "    red_wav = np.linspace(4000,4100,100)\n",
    "    d4000_r = np.sum(interp_spec(red_wav))\n",
    "    return d4000_r\n",
    "\n",
    "def dn4000_blue(wave,spec):\n",
    "    interp_spec = interp.interp1d(wave,spec)\n",
    "    blue_wav = np.linspace(3850,3950,100)\n",
    "    d4000_b =  np.sum(interp_spec(blue_wav))\n",
    "    return d4000_b\n",
    "\n",
    "def dn_4000(wave,specs):\n",
    "    dn_4000 = np.sum([dn4000_red(wave,specs[i]) for \n",
    "                      i in range(len(specs))]) / np.sum([dn4000_blue(wave,specs[i]) for \n",
    "                                                         i in range(len(specs))])\n",
    "    return dn_4000"
   ]
  },
  {
   "cell_type": "code",
   "execution_count": 44,
   "metadata": {},
   "outputs": [],
   "source": [
    "#Hdelta\n",
    "bandw_HdA = np.logical_and(wave > 4083.500, wave < 4122.250)   # analogous to MPA-JHU\n",
    "bandw_HdA_blueside = np.logical_and(wave > 4041.600, wave < 4079.750)\n",
    "bandw_HdA_redside = np.logical_and(wave > 4128.500, wave < 4161.000)\n",
    "blues = len(wave[bandw_HdA_blueside])\n",
    "reds = len(wave[bandw_HdA_redside])\n",
    "\n",
    "def tsum(xin, yin):\n",
    "    tsum = np.sum(np.abs((xin[1:]-xin[:-1]))*(yin[1:]+yin[:-1])/2. )\n",
    "    return tsum\n",
    "\n",
    "def HdA(specs):\n",
    "    spec_av_blueside = np.sum([np.sum(specs[i][bandw_HdA_blueside]) \n",
    "                               for i in range(len(specs))])/(blues*len(specs))\n",
    "    spec_av_redside = np.sum([np.sum(specs[i][bandw_HdA_redside]) \n",
    "                               for i in range(len(specs))])/(reds*len(specs))\n",
    "    \n",
    "    a_spec = (spec_av_redside - spec_av_blueside)/((4161.000+4128.500)/2 \n",
    "                                                   - (4079.750+4041.600)/2)\n",
    "    b_spec = spec_av_blueside - a_spec * (4079.750+4041.600)/2\n",
    "    spec_cont_HdA = wave[bandw_HdA] * a_spec + b_spec\n",
    "                              \n",
    "    mean_dip = np.mean([specs[i][bandw_HdA] for i in range(len(specs))])\n",
    "    HdA = tsum(wave[bandw_HdA], np.divide(spec_cont_HdA - mean_dip, spec_cont_HdA))\n",
    "    return HdA"
   ]
  },
  {
   "cell_type": "code",
   "execution_count": 45,
   "metadata": {},
   "outputs": [],
   "source": [
    "#For each galaxy, all the spaxels under 3\"\n",
    "\n",
    "def get_specs(galaxy, NX, NY):\n",
    "\n",
    "    x_ax = np.arange(0, NX) + 0.5 - (NX/2.0)\n",
    "    y = np.outer((np.arange(0, NX) + 0.5) - (NX/2.0), np.ones(NX))\n",
    "    x = np.transpose(y)\n",
    "    grid = np.sqrt((x*x+y*y))\n",
    "    \n",
    "    #unravel the cube\n",
    "    spectra = []\n",
    "    for i in range(NX):\n",
    "        for j in range(NY):\n",
    "            thing = galaxy[:,i,j]\n",
    "            spectra.append(thing)\n",
    "    spectra = np.array(spectra)\n",
    "\n",
    "    #3 arcsec aperture \n",
    "    radii = np.ravel(grid)\n",
    "    index = np.where(radii<=3.0)[0]\n",
    "    spaxels_within = spectra[index]\n",
    "    \n",
    "    return(spaxels_within)\n"
   ]
  },
  {
   "cell_type": "code",
   "execution_count": 50,
   "metadata": {},
   "outputs": [],
   "source": [
    "fits_files = ['manga-'+ str(plate_ifu[i]) + '-LOGCUBE.fits' for i in range(10)]\n",
    "#IFU dimensions\n",
    "n = []\n",
    "dn4 = []\n",
    "hda = []\n",
    "for i in range(len(fits_files)):\n",
    "    drp_logcube = fits.open(fits_files[i])\n",
    "    wave = drp_logcube['WAVE'].data\n",
    "    #print(wavez)\n",
    "    NL, NY, NX = drp_logcube['FLUX'].data.shape\n",
    "    n.append([NX,NY])\n",
    "    flux = drp_logcube['FLUX'].data\n",
    "    \n",
    "    specs = get_specs(flux, NX, NY)\n",
    "    hdelta = HdA(specs)\n",
    "    dn4000 = dn_4000(wave,specs)\n",
    "    dn4.append(dn4000)\n",
    "    hda.append(hdelta)\n",
    "\n",
    "#get_g = np.vectorize(get_galaxies)"
   ]
  },
  {
   "cell_type": "code",
   "execution_count": 51,
   "metadata": {},
   "outputs": [
    {
     "name": "stdout",
     "output_type": "stream",
     "text": [
      "[1.0891782565593018, 1.440270722608165, 1.1614174782865332, 1.1280200433415852, 1.05496047819599, 1.0442278144539379, 1.259637422502666, 1.111068313392984, 1.2968871705750307, 1.12034109587386] [-6.151703374318438, 11.969096795361374, -4.547217298501929, -6.081360479555746, 3.881927680646249, -0.8878219235333611, 4.732618202463739, -4.47641081769025, -12.390461620350887, -7.608349977609652]\n"
     ]
    }
   ],
   "source": [
    "print(dn4, hda)"
   ]
  },
  {
   "cell_type": "code",
   "execution_count": 52,
   "metadata": {},
   "outputs": [
    {
     "data": {
      "image/png": "[encoded data removed]",
      "text/plain": [
       "<Figure size 432x288 with 1 Axes>"
      ]
     },
     "metadata": {},
     "output_type": "display_data"
    }
   ],
   "source": [
    "plt.scatter(dn4,hda)\n",
    "plt.xlabel('Dn4000')\n",
    "plt.ylabel('Hdelta')\n",
    "plt.title('3\"')\n",
    "plt.show()"
   ]
  },
  {
   "cell_type": "code",
   "execution_count": 56,
   "metadata": {},
   "outputs": [
    {
     "name": "stdout",
     "output_type": "stream",
     "text": [
      "(100, 2)\n"
     ]
    },
    {
     "data": {
      "image/png": "[encoded data removed]",
      "text/plain": [
       "<Figure size 432x288 with 1 Axes>"
      ]
     },
     "metadata": {},
     "output_type": "display_data"
    }
   ],
   "source": [
    "file2 = open(r'3_arcsec', 'rb')\n",
    "d = pickle.load(file2, encoding = 'latin')\n",
    "file2.close()\n",
    "print(np.shape(d))\n",
    "plt.scatter(d[:,0],d[:,1])\n",
    "plt.xlabel('Dn4000')\n",
    "plt.ylabel('Hdelta')\n",
    "plt.title('3\" 100 Galaxies')\n",
    "plt.show()"
   ]
  },
  {
   "cell_type": "code",
   "execution_count": 57,
   "metadata": {},
   "outputs": [
    {
     "name": "stdout",
     "output_type": "stream",
     "text": [
      "(250, 2)\n"
     ]
    },
    {
     "data": {
      "image/png": "[encoded data removed]",
      "text/plain": [
       "<Figure size 432x288 with 1 Axes>"
      ]
     },
     "metadata": {},
     "output_type": "display_data"
    }
   ],
   "source": [
    "file2 = open(r'3_arcsec_250_galaxies', 'rb')\n",
    "d = pickle.load(file2, encoding = 'latin')\n",
    "file2.close()\n",
    "print(np.shape(d))\n",
    "plt.scatter(d[:,0],d[:,1])\n",
    "plt.xlabel('Dn4000')\n",
    "plt.ylabel('Hdelta')\n",
    "plt.title('3\" 250 galaxies')\n",
    "plt.show()"
   ]
  },
  {
   "cell_type": "code",
   "execution_count": null,
   "metadata": {},
   "outputs": [],
   "source": []
  }
 ],
 "metadata": {
  "kernelspec": {
   "display_name": "Python 3",
   "language": "python",
   "name": "python3"
  },
  "language_info": {
   "codemirror_mode": {
    "name": "ipython",
    "version": 3
   },
   "file_extension": ".py",
   "mimetype": "text/x-python",
   "name": "python",
   "nbconvert_exporter": "python",
   "pygments_lexer": "ipython3",
   "version": "3.6.6"
  }
 },
 "nbformat": 4,
 "nbformat_minor": 2
}
