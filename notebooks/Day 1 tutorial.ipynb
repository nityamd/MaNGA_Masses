{
 "cells": [
  {
   "cell_type": "markdown",
   "metadata": {
    "deletable": true,
    "editable": true
   },
   "source": [
    "# Introduction to Python\n",
    "\n",
    "Python is a modern programming language popular among scientists, engineers, and amateurs. Unlike Fortran and C/C++, it is not compiled, but rather *interpreted*. This means that Python is a dynamic, flexible, and interactive language. The community of Python users is strong, and a large fraction of physicists & astronomers use Python as their primary language for interfacing with and analyzing data.\n",
    "\n",
    "Python has three main interfaces:\n",
    "* The command-line (or \"shell\"), accessed by typing `python` into your system prompt (\"terminal\")\n",
    "  * I prefer the IPython shell, which has a little more functionality (start with the command `ipython`)\n",
    "* Running a file ending in `.py`  in your terminal (e.g., `python myprogram.py`)\n",
    "  * For Windows users, there may be double- or right-click options, but don't rely on it\n",
    "* (NEW) The Jupyter notebook (formerly the iPython notebook), which is a more visually-friendly interface similar to the Mathematica GUI. You can access this by typing `jupyter notebook` into your terminal."
   ]
  },
  {
   "cell_type": "markdown",
   "metadata": {
    "deletable": true,
    "editable": true
   },
   "source": [
    "Let's start off with a very simple example, illustrating Python's ease of use. Let's say you wanted to make a program to display the words \"Hello, World!\" on the screen. Here is what that program would look like in C++:\n",
    "\n",
    "    #include <iostream>\n",
    "     \n",
    "    int main()\n",
    "    {\n",
    "      std::cout << \"Hello, World!\" << std::endl;\n",
    "      return 0;\n",
    "    }\n",
    "\n",
    "And a similar program in Python:\n",
    "\n",
    "    print('Hello, World!')\n",
    "    \n",
    "Let's give that a try..."
   ]
  },
  {
   "cell_type": "code",
   "execution_count": 1,
   "metadata": {
    "collapsed": false,
    "deletable": true,
    "editable": true
   },
   "outputs": [
    {
     "name": "stdout",
     "output_type": "stream",
     "text": [
      "Hello, World!\n"
     ]
    }
   ],
   "source": [
    "print('Hello, World!')"
   ]
  },
  {
   "cell_type": "markdown",
   "metadata": {
    "deletable": true,
    "editable": true
   },
   "source": [
    "As you can see, Python hides some of the obfuscatory details that C++ requires."
   ]
  },
  {
   "cell_type": "markdown",
   "metadata": {},
   "source": [
    "# The `print` function\n",
    "\n",
    "**Note:** one of the main differences in python 3 vs python 2 is printing (i.e., displaying values on screen). In python 2, `print` is a statement (meaning that what you want to print is offset from the word `print` just by spaces). In python 3, `print` is a function, so what you want to print is surrounded by parentheses:\n",
    "\n",
    "    print('Hello, World!')  # python 3\n",
    "    print 'Hello, World!'   # python 2"
   ]
  },
  {
   "cell_type": "markdown",
   "metadata": {
    "deletable": true,
    "editable": true
   },
   "source": [
    "# Python as a Calculator\n",
    "\n",
    "Python can, of course, do math. Let's try a few examples."
   ]
  },
  {
   "cell_type": "code",
   "execution_count": 2,
   "metadata": {
    "collapsed": false,
    "deletable": true,
    "editable": true
   },
   "outputs": [
    {
     "data": {
      "text/plain": [
       "2"
      ]
     },
     "execution_count": 2,
     "metadata": {},
     "output_type": "execute_result"
    }
   ],
   "source": [
    "1 + 1"
   ]
  },
  {
   "cell_type": "code",
   "execution_count": 3,
   "metadata": {
    "collapsed": false,
    "deletable": true,
    "editable": true
   },
   "outputs": [
    {
     "data": {
      "text/plain": [
       "12"
      ]
     },
     "execution_count": 3,
     "metadata": {},
     "output_type": "execute_result"
    }
   ],
   "source": [
    "2 * 6"
   ]
  },
  {
   "cell_type": "code",
   "execution_count": 4,
   "metadata": {
    "collapsed": false,
    "deletable": true,
    "editable": true
   },
   "outputs": [
    {
     "data": {
      "text/plain": [
       "3.0"
      ]
     },
     "execution_count": 4,
     "metadata": {},
     "output_type": "execute_result"
    }
   ],
   "source": [
    "6 / 2"
   ]
  },
  {
   "cell_type": "code",
   "execution_count": 5,
   "metadata": {
    "collapsed": false,
    "deletable": true,
    "editable": true
   },
   "outputs": [
    {
     "data": {
      "text/plain": [
       "2.5"
      ]
     },
     "execution_count": 5,
     "metadata": {},
     "output_type": "execute_result"
    }
   ],
   "source": [
    "5 / 2"
   ]
  },
  {
   "cell_type": "markdown",
   "metadata": {
    "deletable": true,
    "editable": true
   },
   "source": [
    "As you can see in the last two examples, Python assumes floating-point division (that is, dividing two integers yields a non-integer). This behavior is new by default in Python 3, but is very important to remember."
   ]
  },
  {
   "cell_type": "markdown",
   "metadata": {
    "deletable": true,
    "editable": true
   },
   "source": [
    "But what if you want to do modular arithmetic (\"floor-division\" and remainders)?"
   ]
  },
  {
   "cell_type": "code",
   "execution_count": 6,
   "metadata": {
    "collapsed": false,
    "deletable": true,
    "editable": true
   },
   "outputs": [
    {
     "data": {
      "text/plain": [
       "2"
      ]
     },
     "execution_count": 6,
     "metadata": {},
     "output_type": "execute_result"
    }
   ],
   "source": [
    "5 // 2"
   ]
  },
  {
   "cell_type": "code",
   "execution_count": 7,
   "metadata": {
    "collapsed": false,
    "deletable": true,
    "editable": true
   },
   "outputs": [
    {
     "data": {
      "text/plain": [
       "1"
      ]
     },
     "execution_count": 7,
     "metadata": {},
     "output_type": "execute_result"
    }
   ],
   "source": [
    "5 % 2"
   ]
  },
  {
   "cell_type": "markdown",
   "metadata": {
    "deletable": true,
    "editable": true
   },
   "source": [
    "Exponentiation is accomplished through the `**` operator, and scientific notation can be notated using `e`-syntax (contrast with IDL, which uses `d` for base-10 exponents)..."
   ]
  },
  {
   "cell_type": "code",
   "execution_count": 8,
   "metadata": {
    "collapsed": false,
    "deletable": true,
    "editable": true
   },
   "outputs": [
    {
     "data": {
      "text/plain": [
       "55.90169943749474"
      ]
     },
     "execution_count": 8,
     "metadata": {},
     "output_type": "execute_result"
    }
   ],
   "source": [
    "5**2.5"
   ]
  },
  {
   "cell_type": "code",
   "execution_count": 9,
   "metadata": {
    "collapsed": false,
    "deletable": true,
    "editable": true
   },
   "outputs": [
    {
     "data": {
      "text/plain": [
       "550.0"
      ]
     },
     "execution_count": 9,
     "metadata": {},
     "output_type": "execute_result"
    }
   ],
   "source": [
    "5.5e2"
   ]
  },
  {
   "cell_type": "markdown",
   "metadata": {
    "deletable": true,
    "editable": true
   },
   "source": [
    "Python also respects PEMDAS order of operations, so `(a + b) * c` is different than `a + b * c`."
   ]
  },
  {
   "cell_type": "code",
   "execution_count": 10,
   "metadata": {
    "collapsed": false,
    "deletable": true,
    "editable": true
   },
   "outputs": [
    {
     "name": "stdout",
     "output_type": "stream",
     "text": [
      "1.3946\n",
      "5.4446\n"
     ]
    }
   ],
   "source": [
    "a = 5.\n",
    "b = 2.34\n",
    "c = 0.19\n",
    "\n",
    "print((a + b) * c)\n",
    "print(a + b * c)"
   ]
  },
  {
   "cell_type": "markdown",
   "metadata": {
    "deletable": true,
    "editable": true
   },
   "source": [
    "There are also in-place-modification versions of `+`, `-`, `*`, `/`, `**`, `//`, and `%`. The last three are rarely used."
   ]
  },
  {
   "cell_type": "code",
   "execution_count": 11,
   "metadata": {
    "collapsed": false,
    "deletable": true,
    "editable": true
   },
   "outputs": [
    {
     "name": "stdout",
     "output_type": "stream",
     "text": [
      "6\n"
     ]
    }
   ],
   "source": [
    "a = 5\n",
    "a += 1\n",
    "print(a)"
   ]
  },
  {
   "cell_type": "code",
   "execution_count": 12,
   "metadata": {
    "collapsed": false,
    "deletable": true,
    "editable": true
   },
   "outputs": [
    {
     "name": "stdout",
     "output_type": "stream",
     "text": [
      "2\n"
     ]
    }
   ],
   "source": [
    "a = 2\n",
    "a %= 3\n",
    "print(a)"
   ]
  },
  {
   "cell_type": "markdown",
   "metadata": {
    "deletable": true,
    "editable": true
   },
   "source": [
    "# Variables (Naming Things)\n",
    "\n",
    "Python allows you to name things. Think of a name as a shortcut to a value. So, this bit of code\n",
    "\n",
    "    a = 2.6\n",
    "    b = 1.1\n",
    "    c = a**b\n",
    "    print(c)\n",
    "    \n",
    "is equivalent to\n",
    "\n",
    "    print(2.6**1.1)\n",
    "    \n",
    "(the first is more readable and flexible, though).\n",
    "\n",
    "Fundamentally, Python revolves around \"namespaces\", which are like \"nested\" ways to access values by name. A general rule is that a Python program can access (and sometimes modify) the namespace of the program that called it. This may seem unimportant and abstract now, but it is important to remember. If you find yourself searching on StackOverflow for \"`python global variables`\", you are about to start living a very tough life.\n",
    "\n",
    "Python has certain words that are reserved, like `print`, `and`, `or`, `is`, and `try`. Here's [a more complete list](http://pentangle.net/python/handbook/node52.html). Don't use these words to name things.\n",
    "\n",
    "Single-line comments are notated with a pound sign (`#`) at the beginning. This tells the python interpreter to ignore anything else on that line. You can also use comments mid-line, such as\n",
    "\n",
    "    a = 'badger'\n",
    "    phrase = a * 12  # twelve badgers\n",
    "    \n",
    "Multi-line comments are denoted by triple-quotes (`'''` or `\"\"\"`) at the *beginning and end*. Note that this is the *same syntax as for multi-line strings*, so if you assign a variable name to the stuff in triple-quotes, then you'll end up with potentially a big string in memory!\n",
    "\n",
    "    '''\n",
    "    this is a block comment!\n",
    "    see? it has many lines!\n",
    "    '''\n",
    "    \n",
    "    s = '''this is not a block comment\n",
    "    (because I've called it s)'''"
   ]
  },
  {
   "cell_type": "markdown",
   "metadata": {
    "deletable": true,
    "editable": true
   },
   "source": [
    "# Python data structures\n",
    "\n",
    "You can see what sort of data structure a variable refers to, by using the `type()` function.\n",
    "\n",
    "Python's basic data structures include..."
   ]
  },
  {
   "cell_type": "markdown",
   "metadata": {
    "deletable": true,
    "editable": true
   },
   "source": [
    "## Integers (`int`)"
   ]
  },
  {
   "cell_type": "code",
   "execution_count": 13,
   "metadata": {
    "collapsed": false,
    "deletable": true,
    "editable": true
   },
   "outputs": [
    {
     "data": {
      "text/plain": [
       "int"
      ]
     },
     "execution_count": 13,
     "metadata": {},
     "output_type": "execute_result"
    }
   ],
   "source": [
    "a = 5\n",
    "type(a)"
   ]
  },
  {
   "cell_type": "markdown",
   "metadata": {
    "deletable": true,
    "editable": true
   },
   "source": [
    "## floating-point decimals (`float`)"
   ]
  },
  {
   "cell_type": "code",
   "execution_count": 14,
   "metadata": {
    "collapsed": false,
    "deletable": true,
    "editable": true
   },
   "outputs": [
    {
     "data": {
      "text/plain": [
       "float"
      ]
     },
     "execution_count": 14,
     "metadata": {},
     "output_type": "execute_result"
    }
   ],
   "source": [
    "a = 5.0\n",
    "type(a)"
   ]
  },
  {
   "cell_type": "markdown",
   "metadata": {
    "deletable": true,
    "editable": true
   },
   "source": [
    "## booleans (`bool`)\n",
    "\n",
    "`bool`s express binary logic: yes or no (`True` or `False`). The keyword `not` negates a `bool`."
   ]
  },
  {
   "cell_type": "code",
   "execution_count": 15,
   "metadata": {
    "collapsed": false,
    "deletable": true,
    "editable": true
   },
   "outputs": [
    {
     "data": {
      "text/plain": [
       "(bool, bool)"
      ]
     },
     "execution_count": 15,
     "metadata": {},
     "output_type": "execute_result"
    }
   ],
   "source": [
    "a = True\n",
    "b = False\n",
    "type(a), type(b)"
   ]
  },
  {
   "cell_type": "code",
   "execution_count": 16,
   "metadata": {
    "collapsed": false,
    "deletable": true,
    "editable": true
   },
   "outputs": [
    {
     "data": {
      "text/plain": [
       "False"
      ]
     },
     "execution_count": 16,
     "metadata": {},
     "output_type": "execute_result"
    }
   ],
   "source": [
    "not True"
   ]
  },
  {
   "cell_type": "markdown",
   "metadata": {
    "deletable": true,
    "editable": true
   },
   "source": [
    "### Testing truth\n",
    "\n",
    "Python has several ways of testing whether a statement is true or false. Equality between two objects can be evaluated with the double-equals operator, `==`"
   ]
  },
  {
   "cell_type": "code",
   "execution_count": 17,
   "metadata": {
    "collapsed": false,
    "deletable": true,
    "editable": true
   },
   "outputs": [
    {
     "data": {
      "text/plain": [
       "True"
      ]
     },
     "execution_count": 17,
     "metadata": {},
     "output_type": "execute_result"
    }
   ],
   "source": [
    "a = 1\n",
    "b = 1\n",
    "a == b"
   ]
  },
  {
   "cell_type": "code",
   "execution_count": 18,
   "metadata": {
    "collapsed": false,
    "deletable": true,
    "editable": true
   },
   "outputs": [
    {
     "data": {
      "text/plain": [
       "(False, bool)"
      ]
     },
     "execution_count": 18,
     "metadata": {},
     "output_type": "execute_result"
    }
   ],
   "source": [
    "b = 2\n",
    "truth = (a == b)\n",
    "truth, type(truth)"
   ]
  },
  {
   "cell_type": "markdown",
   "metadata": {},
   "source": [
    "One somewhat common operation is to test the type of something. Here's an example of that."
   ]
  },
  {
   "cell_type": "code",
   "execution_count": 19,
   "metadata": {
    "collapsed": false
   },
   "outputs": [
    {
     "data": {
      "text/plain": [
       "(True, False)"
      ]
     },
     "execution_count": 19,
     "metadata": {},
     "output_type": "execute_result"
    }
   ],
   "source": [
    "a = 'this is a string'\n",
    "b = 'this is also a string'\n",
    "type(a) is str, type(b) is int"
   ]
  },
  {
   "cell_type": "markdown",
   "metadata": {},
   "source": [
    "The `is` statement is distinct from checking for equality. This means that `2.0 is 2` evaluates to `False`, but `2.0 == 2` evaluates to `True`. Think about `is` like checking whether two values occupy the same place in your computer's memory. This is similar to how you might build two identical houses, but place them at different addresses, so they are different things. This may seem abstract and picayune, but it can become important."
   ]
  },
  {
   "cell_type": "markdown",
   "metadata": {},
   "source": [
    "### Formal logic\n",
    "\n",
    "Python has statements that you may be familiar with from classes in formal logic:\n",
    "\n",
    "* `not` \n",
    "* `and` (abbr. `&` and sometimes `*`)\n",
    "* `or` (abbr. `|`)"
   ]
  },
  {
   "cell_type": "code",
   "execution_count": 20,
   "metadata": {
    "collapsed": false
   },
   "outputs": [
    {
     "data": {
      "text/plain": [
       "True"
      ]
     },
     "execution_count": 20,
     "metadata": {},
     "output_type": "execute_result"
    }
   ],
   "source": [
    "True and not False"
   ]
  },
  {
   "cell_type": "markdown",
   "metadata": {
    "deletable": true,
    "editable": true
   },
   "source": [
    "## strings (`str`)\n",
    "\n",
    "* delimited using quotes (either single or double, but be consistent)\n",
    "* use literal `\\` when in doubt to offset quotation-marks within strings\n",
    "* triple-quotes can be used to delimit multi-line strings"
   ]
  },
  {
   "cell_type": "code",
   "execution_count": 21,
   "metadata": {
    "collapsed": false,
    "deletable": true,
    "editable": true
   },
   "outputs": [
    {
     "data": {
      "text/plain": [
       "True"
      ]
     },
     "execution_count": 21,
     "metadata": {},
     "output_type": "execute_result"
    }
   ],
   "source": [
    "g1 = 'Hello, World!'\n",
    "g2 = \"Hello, World!\"\n",
    "g1 == g2"
   ]
  },
  {
   "cell_type": "code",
   "execution_count": 22,
   "metadata": {
    "collapsed": false,
    "deletable": true,
    "editable": true
   },
   "outputs": [
    {
     "name": "stdout",
     "output_type": "stream",
     "text": [
      "Brian said, \"Hello, World!\"\n",
      "Susan said, \"My name's not 'World', Brian\"\n"
     ]
    }
   ],
   "source": [
    "q1 = 'Brian said, \"Hello, World!\"'\n",
    "q2 = 'Susan said, \"My name\\'s not \\'World\\', Brian\"'\n",
    "print(q1)\n",
    "print(q2)"
   ]
  },
  {
   "cell_type": "code",
   "execution_count": 23,
   "metadata": {
    "collapsed": false,
    "deletable": true,
    "editable": true
   },
   "outputs": [
    {
     "name": "stdout",
     "output_type": "stream",
     "text": [
      "this\n",
      "is \n",
      "a\n",
      "multi-line\n",
      "string\n"
     ]
    }
   ],
   "source": [
    "bq = '''this\n",
    "is \n",
    "a\n",
    "multi-line\n",
    "string'''\n",
    "\n",
    "print(bq)"
   ]
  },
  {
   "cell_type": "markdown",
   "metadata": {},
   "source": [
    "There are some specific best-practices governing how to concatenate (join) strings and turn values into strings. These are a little involved to explain, but here are a few starting points...\n",
    "\n",
    "* `'my' + ' ' + 'mother'` is a valid operation, but is clumsy and inefficient. Use `' '.join(('my', 'mother'))` instead.\n",
    "* You can turn some values into strings, just by calling `str()` on them. You're better off using string formatting, instead. String formatting denotes locations within one string for string representations of other values to be placed using curly-braces (`{}`)."
   ]
  },
  {
   "cell_type": "code",
   "execution_count": 24,
   "metadata": {
    "collapsed": false
   },
   "outputs": [
    {
     "name": "stdout",
     "output_type": "stream",
     "text": [
      "Influence of temperature on spectral lines at 0.050 level\n"
     ]
    }
   ],
   "source": [
    "mystring = 'Influence of {} on {} at {:.3f} level'.format('temperature', 'spectral lines', .05)\n",
    "print(mystring)"
   ]
  },
  {
   "cell_type": "markdown",
   "metadata": {},
   "source": [
    "**Python 3 users** can also build strings from named things passed to `format()`:"
   ]
  },
  {
   "cell_type": "code",
   "execution_count": 25,
   "metadata": {
    "collapsed": false
   },
   "outputs": [
    {
     "name": "stdout",
     "output_type": "stream",
     "text": [
      "Influence of temperature on spectral lines at 0.050 level\n"
     ]
    }
   ],
   "source": [
    "print('Influence of {quantity} on {observable} at {significance:.3f} level'.format(\n",
    "    quantity = 'temperature', observable = 'spectral lines', significance = .05))"
   ]
  },
  {
   "cell_type": "markdown",
   "metadata": {},
   "source": [
    "You can find more about string formatting [here](https://docs.python.org/3.4/library/string.html#format-string-syntax). Don't feel bad about never remembering the correct syntax."
   ]
  },
  {
   "cell_type": "markdown",
   "metadata": {
    "deletable": true,
    "editable": true
   },
   "source": [
    "## tuple (`tuple`)\n",
    "\n",
    "* frequently constructed simply with parentheses `()` and with elements delimited by a comma\n",
    "* `(3) * 3` is `9`, but `(3, ) * 3` is `(3, 3, 3)`\n",
    "  * be careful about your use of commas and parentheses!\n",
    "* Access elements of a tuple using square brackets, so `(3, 4, 5)[1]` is `4`\n",
    "  * Python indices start at zero\n",
    "* elements can be basically any type you want, even other tuples!\n",
    "* Use tuples to interchange variables\n",
    "* Pack/unpack them using `*` (called \"splat\")\n",
    "* tuples are *immutable*, meaning you can't modify elements in-place\n",
    "* test membership with `in`"
   ]
  },
  {
   "cell_type": "code",
   "execution_count": 26,
   "metadata": {
    "collapsed": false,
    "deletable": true,
    "editable": true
   },
   "outputs": [
    {
     "data": {
      "text/plain": [
       "tuple"
      ]
     },
     "execution_count": 26,
     "metadata": {},
     "output_type": "execute_result"
    }
   ],
   "source": [
    "tup = (1, 2, 3)\n",
    "type(tup)"
   ]
  },
  {
   "cell_type": "code",
   "execution_count": 27,
   "metadata": {
    "collapsed": false,
    "deletable": true,
    "editable": true
   },
   "outputs": [
    {
     "name": "stdout",
     "output_type": "stream",
     "text": [
      "(1, 2, 3, 1, 2, 3, 1, 2, 3)\n"
     ]
    }
   ],
   "source": [
    "tup *= 3\n",
    "print(tup)"
   ]
  },
  {
   "cell_type": "code",
   "execution_count": 28,
   "metadata": {
    "collapsed": false,
    "deletable": true,
    "editable": true
   },
   "outputs": [
    {
     "data": {
      "text/plain": [
       "9"
      ]
     },
     "execution_count": 28,
     "metadata": {},
     "output_type": "execute_result"
    }
   ],
   "source": [
    "len(tup)"
   ]
  },
  {
   "cell_type": "code",
   "execution_count": 29,
   "metadata": {
    "collapsed": false,
    "deletable": true,
    "editable": true
   },
   "outputs": [
    {
     "data": {
      "text/plain": [
       "2"
      ]
     },
     "execution_count": 29,
     "metadata": {},
     "output_type": "execute_result"
    }
   ],
   "source": [
    "tup = (1, 2, 3)\n",
    "tup[1]"
   ]
  },
  {
   "cell_type": "code",
   "execution_count": 30,
   "metadata": {
    "collapsed": false,
    "deletable": true,
    "editable": true
   },
   "outputs": [
    {
     "name": "stdout",
     "output_type": "stream",
     "text": [
      "3 2\n"
     ]
    }
   ],
   "source": [
    "a = 2\n",
    "b = 3\n",
    "a, b = b, a\n",
    "print(a, b)"
   ]
  },
  {
   "cell_type": "code",
   "execution_count": 31,
   "metadata": {
    "collapsed": false,
    "deletable": true,
    "editable": true
   },
   "outputs": [
    {
     "name": "stdout",
     "output_type": "stream",
     "text": [
      "1 3 5\n"
     ]
    }
   ],
   "source": [
    "a, b, c = (1, 3, 5)\n",
    "print(a, b, c)"
   ]
  },
  {
   "cell_type": "code",
   "execution_count": 32,
   "metadata": {
    "collapsed": false,
    "deletable": true,
    "editable": true
   },
   "outputs": [
    {
     "name": "stdout",
     "output_type": "stream",
     "text": [
      "1 [3, 5, 7, 9]\n",
      "('i', 'saw', 'a', 'bear', 'oh', 'way', 'up', 'there')\n",
      "i saw a bear oh way up there\n"
     ]
    }
   ],
   "source": [
    "a, *b = (1, 3, 5, 7, 9)\n",
    "print(a, b)\n",
    "\n",
    "t1 = ('i', 'saw', 'a', 'bear')\n",
    "t2 = ('oh', 'way', 'up', 'there')\n",
    "t3 = (*t1, *t2)\n",
    "print(t3)\n",
    "(w1, w2, w3, w4, w5, w6, w7, w8) = t3\n",
    "print(w1, w2, w3, w4, w5, w6, w7, w8)"
   ]
  },
  {
   "cell_type": "code",
   "execution_count": 33,
   "metadata": {
    "collapsed": false,
    "deletable": true,
    "editable": true
   },
   "outputs": [
    {
     "ename": "TypeError",
     "evalue": "'tuple' object does not support item assignment",
     "output_type": "error",
     "traceback": [
      "\u001b[0;31m---------------------------------------------------------------------------\u001b[0m",
      "\u001b[0;31mTypeError\u001b[0m                                 Traceback (most recent call last)",
      "\u001b[0;32m<ipython-input-33-2c8b993e6fdb>\u001b[0m in \u001b[0;36m<module>\u001b[0;34m()\u001b[0m\n\u001b[0;32m----> 1\u001b[0;31m \u001b[0mtup\u001b[0m\u001b[0;34m[\u001b[0m\u001b[0;36m0\u001b[0m\u001b[0;34m]\u001b[0m \u001b[0;34m=\u001b[0m \u001b[0;36m3\u001b[0m\u001b[0;34m\u001b[0m\u001b[0m\n\u001b[0m",
      "\u001b[0;31mTypeError\u001b[0m: 'tuple' object does not support item assignment"
     ]
    }
   ],
   "source": [
    "tup[0] = 3"
   ]
  },
  {
   "cell_type": "code",
   "execution_count": 34,
   "metadata": {
    "collapsed": false,
    "deletable": true,
    "editable": true
   },
   "outputs": [
    {
     "name": "stdout",
     "output_type": "stream",
     "text": [
      "('a', 1, 2, 4.5, False, (0, 1))\n"
     ]
    }
   ],
   "source": [
    "tup = ('a', 1, 2, 4.5, False, tuple(range(2)))\n",
    "print(tup)"
   ]
  },
  {
   "cell_type": "code",
   "execution_count": 35,
   "metadata": {
    "collapsed": false,
    "deletable": true,
    "editable": true
   },
   "outputs": [
    {
     "name": "stdout",
     "output_type": "stream",
     "text": [
      "(0, 1, 2, 3, 4, 5)\n",
      "True\n",
      "False\n"
     ]
    }
   ],
   "source": [
    "tup = tuple(range(6))\n",
    "print(tup)\n",
    "print(5 in tup)\n",
    "print(8 in tup)"
   ]
  },
  {
   "cell_type": "markdown",
   "metadata": {
    "deletable": true,
    "editable": true
   },
   "source": [
    "## list (`list`)\n",
    "\n",
    "* also constructed using square-brackets `[]`\n",
    "* element access same as tuples\n",
    "* item assignment works"
   ]
  },
  {
   "cell_type": "code",
   "execution_count": 36,
   "metadata": {
    "collapsed": false,
    "deletable": true,
    "editable": true
   },
   "outputs": [
    {
     "data": {
      "text/plain": [
       "list"
      ]
     },
     "execution_count": 36,
     "metadata": {},
     "output_type": "execute_result"
    }
   ],
   "source": [
    "type(b)"
   ]
  },
  {
   "cell_type": "code",
   "execution_count": 37,
   "metadata": {
    "collapsed": false,
    "deletable": true,
    "editable": true
   },
   "outputs": [
    {
     "name": "stdout",
     "output_type": "stream",
     "text": [
      "[1, 2, 3, 0]\n"
     ]
    }
   ],
   "source": [
    "a = list(range(1, 5)) # range is a generator, but don't worry about that yet\n",
    "a[-1] = 0\n",
    "print(a)"
   ]
  },
  {
   "cell_type": "code",
   "execution_count": 38,
   "metadata": {
    "collapsed": false,
    "deletable": true,
    "editable": true
   },
   "outputs": [
    {
     "data": {
      "text/plain": [
       "True"
      ]
     },
     "execution_count": 38,
     "metadata": {},
     "output_type": "execute_result"
    }
   ],
   "source": [
    "2 in a"
   ]
  },
  {
   "cell_type": "markdown",
   "metadata": {
    "deletable": true,
    "editable": true
   },
   "source": [
    "## dictionary (`dict`)\n",
    "\n",
    "* often delimited with curly-braces `{}`\n",
    "* key-value pairs separated by colon `:` and comma `,`\n",
    "* keys and values can be (almost) anything\n",
    "* access value for given key with square-brackets\n",
    "* can pack like tuples, but using `**` (\"double-splat\")\n",
    "* access keys through `.keys()` and values through `.values()`\n",
    "  * access key-value pairs through `.items()` (`.iteritems()` in python 2) -- this actually returns an iterator, so if you want it as a tuple or list, wrap it appropriately"
   ]
  },
  {
   "cell_type": "code",
   "execution_count": 39,
   "metadata": {
    "collapsed": false,
    "deletable": true,
    "editable": true
   },
   "outputs": [
    {
     "name": "stdout",
     "output_type": "stream",
     "text": [
      "this is a string\n",
      "True\n"
     ]
    }
   ],
   "source": [
    "d = {1: 'this is a string', 'k1': True}\n",
    "print(d[1])\n",
    "print(d['k1'])"
   ]
  },
  {
   "cell_type": "code",
   "execution_count": 40,
   "metadata": {
    "collapsed": false,
    "deletable": true,
    "editable": true
   },
   "outputs": [
    {
     "name": "stdout",
     "output_type": "stream",
     "text": [
      "True\n",
      "False\n"
     ]
    }
   ],
   "source": [
    "print(1 in d)\n",
    "print('this is a string' in d)"
   ]
  },
  {
   "cell_type": "code",
   "execution_count": 41,
   "metadata": {
    "collapsed": false,
    "deletable": true,
    "editable": true
   },
   "outputs": [
    {
     "data": {
      "text/plain": [
       "(True, True)"
      ]
     },
     "execution_count": 41,
     "metadata": {},
     "output_type": "execute_result"
    }
   ],
   "source": [
    "a = 'hello'\n",
    "b = 'world'\n",
    "d = {a: b}\n",
    "a in d, b not in d"
   ]
  },
  {
   "cell_type": "code",
   "execution_count": 42,
   "metadata": {
    "collapsed": false
   },
   "outputs": [
    {
     "name": "stdout",
     "output_type": "stream",
     "text": [
      "{'a': 1, 'b': 2, 'c': 3, 'x': 'such namespace', 'y': 'many efficiency', 'z': 'wow'}\n",
      "such namespace. many efficiency. wow\n"
     ]
    }
   ],
   "source": [
    "d1 = {'a': 1, 'b': 2, 'c': 3}\n",
    "d2 = {'x': 'such namespace', 'y': 'many efficiency', 'z': 'wow'}\n",
    "\n",
    "# (PYTHON 3 ONLY)\n",
    "df = {**d1, **d2}\n",
    "print(df)\n",
    "print('. '.join(d2.values()))"
   ]
  },
  {
   "cell_type": "markdown",
   "metadata": {
    "deletable": true,
    "editable": true
   },
   "source": [
    "## set (`set`)\n",
    "\n",
    "* seldom-used\n",
    "* group of unique objects"
   ]
  },
  {
   "cell_type": "code",
   "execution_count": 43,
   "metadata": {
    "collapsed": false,
    "deletable": true,
    "editable": true
   },
   "outputs": [
    {
     "data": {
      "text/plain": [
       "True"
      ]
     },
     "execution_count": 43,
     "metadata": {},
     "output_type": "execute_result"
    }
   ],
   "source": [
    "s = set(range(5))\n",
    "1 in s"
   ]
  },
  {
   "cell_type": "markdown",
   "metadata": {
    "deletable": true,
    "editable": true
   },
   "source": [
    "# First steps\n",
    "\n",
    "## Functions\n",
    "\n",
    "Python relies heavily on functions, bits of code that take in arguments and (usually) return results. \n",
    "\n",
    "Defining a function allows you to specify values that are accepted, as well as what to do with any extra unnamed arguments (which are packed into a tuple) and keyword arguments (which are packed into a dictionary). The body of a function ***must*** be indented (I recommend a four-space tab).\n",
    "\n",
    "For example..."
   ]
  },
  {
   "cell_type": "code",
   "execution_count": 44,
   "metadata": {
    "collapsed": true,
    "deletable": true,
    "editable": true
   },
   "outputs": [],
   "source": [
    "def my_func(a, *args, **kwargs):\n",
    "    '''\n",
    "    this is a docstring, a bit of plain text with info about the function\n",
    "    '''\n",
    "    # perform some computation in here\n",
    "    \n",
    "    return a**2., args, kwargs"
   ]
  },
  {
   "cell_type": "markdown",
   "metadata": {},
   "source": [
    "`*args` and `**kwargs` have a very specific meaning: `*args` means to take all extra, *unnamed* arguments and shove them into a `tuple` called `args`; and `**kwargs` means to take all extra, *named* arguments (also called \"keyword arguments\") and shove the into a `dict` called `**kwargs`.\n",
    "\n",
    "In reality, `*args` could be called anything (e.g., `*vals`), and so could `**kwargs` (e.g., `**toggles`), but `*args` and `**kwargs` are the conventional names.\n",
    "\n",
    "You may guess that this is a manifestation of the unpacking syntax for tuples and dictionaries that we saw earlier, and you'd be correct!"
   ]
  },
  {
   "cell_type": "code",
   "execution_count": 45,
   "metadata": {
    "collapsed": false,
    "deletable": true,
    "editable": true
   },
   "outputs": [
    {
     "name": "stdout",
     "output_type": "stream",
     "text": [
      "25.0 ('some', 'extra', 'info') {'k1': 'still', 'k2': 'more', 'k3': 'irrelevant', 'k4': 'data'}\n"
     ]
    }
   ],
   "source": [
    "z = 5.\n",
    "a1, a2, a3 = 'some', 'extra', 'info'\n",
    "res, a, k = my_func(z, a1, a2, a3, k1='still', k2='more', k3='irrelevant', k4='data')\n",
    "print(res, a, k)"
   ]
  },
  {
   "cell_type": "markdown",
   "metadata": {
    "deletable": true,
    "editable": true
   },
   "source": [
    "If you want a quick function, just use `lambda`, which is Python syntax for an anonymous function"
   ]
  },
  {
   "cell_type": "code",
   "execution_count": 46,
   "metadata": {
    "collapsed": false,
    "deletable": true,
    "editable": true
   },
   "outputs": [
    {
     "data": {
      "text/plain": [
       "4"
      ]
     },
     "execution_count": 46,
     "metadata": {},
     "output_type": "execute_result"
    }
   ],
   "source": [
    "another_func = lambda x, y: x // y\n",
    "another_func(25, 6)"
   ]
  },
  {
   "cell_type": "markdown",
   "metadata": {
    "deletable": true,
    "editable": true
   },
   "source": [
    "## Loops\n",
    "\n",
    "* `for`-loops perform an operation for each element of an iterable (most lists, sets, and tuples are iterables)\n",
    "* `while`-loops perform an action for as long as some sentinel value evaluates to `True`"
   ]
  },
  {
   "cell_type": "code",
   "execution_count": 47,
   "metadata": {
    "collapsed": false,
    "deletable": true,
    "editable": true
   },
   "outputs": [
    {
     "name": "stdout",
     "output_type": "stream",
     "text": [
      "0\n",
      "1\n",
      "2\n",
      "3\n",
      "4\n",
      "0\n"
     ]
    }
   ],
   "source": [
    "for a in range(6):\n",
    "    print(a % 5)"
   ]
  },
  {
   "cell_type": "code",
   "execution_count": 48,
   "metadata": {
    "collapsed": false,
    "deletable": true,
    "editable": true
   },
   "outputs": [
    {
     "name": "stdout",
     "output_type": "stream",
     "text": [
      "Current value: 2\n",
      "Current value: 1\n",
      "Current value: 0\n",
      "Current value: -1\n",
      "Current value: -2\n",
      "Final value: -3\n"
     ]
    }
   ],
   "source": [
    "i = 2\n",
    "while i >= -2:\n",
    "    print('Current value:', i)\n",
    "    i -= 1\n",
    "print('Final value:', i)"
   ]
  },
  {
   "cell_type": "markdown",
   "metadata": {
    "deletable": true,
    "editable": true
   },
   "source": [
    "## Conditional statements (`if`, `elif`, and `else`)\n",
    "\n",
    "`if` and `else` denote actions to be taken in the cases that a statement evaluates as `True` or `False`, respectively. Let's look at this, along with a function and a `for`-loop..."
   ]
  },
  {
   "cell_type": "code",
   "execution_count": 49,
   "metadata": {
    "collapsed": false,
    "deletable": true,
    "editable": true
   },
   "outputs": [
    {
     "name": "stdout",
     "output_type": "stream",
     "text": [
      "Oops! Dave\n",
      "Oops! FRank uNderwood\n",
      "Oops! \n"
     ]
    }
   ],
   "source": [
    "def proper_format(name):\n",
    "    '''\n",
    "    is the name provided syntactically correct?\n",
    "    '''\n",
    "    firstlast = name.split() # split the name at whitespace\n",
    "    twowords = (len(firstlast) >= 2) # are there two words?\n",
    "    goodcase = name.istitle() # does each word start with upper case?\n",
    "    \n",
    "    return twowords & goodcase\n",
    "\n",
    "names = ['Josiah Edward Bartlet', 'Dave', 'FRank uNderwood', '']\n",
    "\n",
    "for n in names:\n",
    "    if proper_format(n):\n",
    "        pass\n",
    "    else:\n",
    "        print('Oops!', n)"
   ]
  },
  {
   "cell_type": "markdown",
   "metadata": {
    "deletable": true,
    "editable": true
   },
   "source": [
    "Let's write a function that tests whether an integer is prime..."
   ]
  },
  {
   "cell_type": "code",
   "execution_count": 50,
   "metadata": {
    "collapsed": false,
    "deletable": true,
    "editable": true
   },
   "outputs": [
    {
     "name": "stdout",
     "output_type": "stream",
     "text": [
      "10 equals 2 * 5\n",
      "11 is a prime number\n",
      "12 equals 2 * 6\n",
      "13 is a prime number\n",
      "14 equals 2 * 7\n"
     ]
    }
   ],
   "source": [
    "def isprime(n):\n",
    "    '''\n",
    "    tests primality by exhaustion\n",
    "    '''\n",
    "    for x in range(2, n):\n",
    "        if n % x == 0:\n",
    "            print(n, 'equals', x, '*', n // x)\n",
    "            break\n",
    "    else:\n",
    "        # loop fell through without finding a factor\n",
    "        print(n, 'is a prime number')\n",
    "        \n",
    "for i in range(10, 15):\n",
    "    isprime(i)"
   ]
  },
  {
   "cell_type": "markdown",
   "metadata": {
    "deletable": true,
    "editable": true
   },
   "source": [
    "Notice the keyword `break` inside the `for`-loop. This means \"stop the loop!\" An `else` statement after a `for` block means \"do the stuff here if you completed the loop without a `break`!\""
   ]
  },
  {
   "cell_type": "markdown",
   "metadata": {
    "deletable": true,
    "editable": true
   },
   "source": [
    "## `import` statements\n",
    "\n",
    "You don't always have to roll your own code! Sometimes, there are libraries that you can use. Some examples of valid import statements..."
   ]
  },
  {
   "cell_type": "code",
   "execution_count": 51,
   "metadata": {
    "collapsed": true,
    "deletable": true,
    "editable": true
   },
   "outputs": [],
   "source": [
    "import os\n",
    "import math as m\n",
    "from sys import path as pth\n",
    "# from copy import * # (AVOID DOING THIS!)"
   ]
  },
  {
   "cell_type": "markdown",
   "metadata": {
    "deletable": true,
    "editable": true
   },
   "source": [
    "# `numpy`, `scipy`, and `matplotlib`\n",
    "\n",
    "Three very popular libraries among astronomers are `numpy`, which performs computations on arrays (matrices & tensors) using wrappers on C/C++ and Fortran code; `scipy`, which has statistics, special functions, numerical integration, and Fourier transforms (among other things); and `matplotlib`, a very flexible and capable plotting library. Let's explore each in turn."
   ]
  },
  {
   "cell_type": "markdown",
   "metadata": {
    "deletable": true,
    "editable": true
   },
   "source": [
    "## `numpy`\n",
    "\n",
    "Some examples of useful numpy code, and their added value..."
   ]
  },
  {
   "cell_type": "code",
   "execution_count": 52,
   "metadata": {
    "collapsed": false,
    "deletable": true,
    "editable": true
   },
   "outputs": [
    {
     "data": {
      "text/plain": [
       "(4,)"
      ]
     },
     "execution_count": 52,
     "metadata": {},
     "output_type": "execute_result"
    }
   ],
   "source": [
    "import numpy as np\n",
    "\n",
    "arr = np.array([1., 2., 5. ,3.])\n",
    "arr.shape"
   ]
  },
  {
   "cell_type": "code",
   "execution_count": 53,
   "metadata": {
    "collapsed": false,
    "deletable": true,
    "editable": true
   },
   "outputs": [
    {
     "name": "stdout",
     "output_type": "stream",
     "text": [
      "1 loop, best of 1: 19.1 µs per loop\n"
     ]
    }
   ],
   "source": [
    "arr = np.arange(1., 10., .1)\n",
    "\n",
    "# how long does it take to square every element in a numpy array?\n",
    "%timeit -n 1 -r 1 arr**2."
   ]
  },
  {
   "cell_type": "code",
   "execution_count": 54,
   "metadata": {
    "collapsed": false,
    "deletable": true,
    "editable": true
   },
   "outputs": [
    {
     "name": "stdout",
     "output_type": "stream",
     "text": [
      "1 loop, best of 1: 26.5 µs per loop\n"
     ]
    }
   ],
   "source": [
    "sq = lambda a: [i**2. for i in a]\n",
    "l = list(arr)\n",
    "%timeit -n 1 -r 1 sq(l)"
   ]
  },
  {
   "cell_type": "markdown",
   "metadata": {
    "deletable": true,
    "editable": true
   },
   "source": [
    "## scipy\n",
    "\n",
    "Let's try to integrate $x^2 + 1$ from -1 to 5"
   ]
  },
  {
   "cell_type": "code",
   "execution_count": 55,
   "metadata": {
    "collapsed": false,
    "deletable": true,
    "editable": true
   },
   "outputs": [
    {
     "name": "stdout",
     "output_type": "stream",
     "text": [
      "47.99999999999999\n"
     ]
    }
   ],
   "source": [
    "p2 = lambda x: x**2. + 1\n",
    "\n",
    "from scipy.integrate import quad\n",
    "\n",
    "res, _ = quad(p2, -1, 5)\n",
    "print(res)"
   ]
  },
  {
   "cell_type": "markdown",
   "metadata": {
    "deletable": true,
    "editable": true
   },
   "source": [
    "## matplotlib\n",
    "\n",
    "Let's plot the region we just integrated!"
   ]
  },
  {
   "cell_type": "code",
   "execution_count": 56,
   "metadata": {
    "collapsed": true,
    "deletable": true,
    "editable": true
   },
   "outputs": [],
   "source": [
    "import matplotlib.pyplot as plt\n",
    "%matplotlib inline"
   ]
  },
  {
   "cell_type": "code",
   "execution_count": 57,
   "metadata": {
    "collapsed": false,
    "deletable": true,
    "editable": true
   },
   "outputs": [
    {
     "data": {
      "image/png": "[encoded data removed]",
      "text/plain": [
       "<matplotlib.figure.Figure at 0x7fe23b0be4a8>"
      ]
     },
     "metadata": {},
     "output_type": "display_data"
    }
   ],
   "source": [
    "x = np.linspace(-1., 5., 100)\n",
    "xfull = np.linspace(-1.5, 5.5, 100)\n",
    "y = p2(x)\n",
    "yfull = p2(xfull)\n",
    "zero = np.zeros_like(x)\n",
    "\n",
    "plt.figure(figsize=(4, 3), dpi=300)\n",
    "plt.plot(xfull, yfull, color='k')\n",
    "plt.fill_between(x, zero, y)\n",
    "plt.axvline(-1., color='g')\n",
    "plt.axvline(5., color='g')\n",
    "plt.xlabel(r'$x$', size=10)\n",
    "plt.ylabel(r'$x^2 + 1$', size=10)\n",
    "plt.title('My first matplotlib figure!')\n",
    "plt.show()"
   ]
  },
  {
   "cell_type": "markdown",
   "metadata": {
    "deletable": true,
    "editable": true
   },
   "source": [
    "`matplotlib` can also show images."
   ]
  },
  {
   "cell_type": "code",
   "execution_count": 58,
   "metadata": {
    "collapsed": false,
    "deletable": true,
    "editable": true
   },
   "outputs": [
    {
     "data": {
      "image/png": "[encoded data removed]",
      "text/plain": [
       "<matplotlib.figure.Figure at 0x7fe229b7b668>"
      ]
     },
     "metadata": {},
     "output_type": "display_data"
    }
   ],
   "source": [
    "ar = np.random.randn(200, 200)\n",
    "plt.figure(figsize=(4, 4), dpi=300)\n",
    "im = plt.imshow(ar, extent=[-100, 100, -100, 100])\n",
    "cb = plt.colorbar(im)\n",
    "cb.set_label('scale')\n",
    "plt.xlabel('x coords')\n",
    "plt.ylabel('y coords')\n",
    "plt.show()"
   ]
  }
 ],
 "metadata": {
  "kernelspec": {
   "display_name": "Python 3",
   "language": "python",
   "name": "python3"
  },
  "language_info": {
   "codemirror_mode": {
    "name": "ipython",
    "version": 3
   },
   "file_extension": ".py",
   "mimetype": "text/x-python",
   "name": "python",
   "nbconvert_exporter": "python",
   "pygments_lexer": "ipython3",
   "version": "3.6.0"
  }
 },
 "nbformat": 4,
 "nbformat_minor": 2
}
