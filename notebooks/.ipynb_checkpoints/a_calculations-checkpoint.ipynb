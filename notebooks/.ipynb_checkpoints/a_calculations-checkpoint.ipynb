{
 "cells": [
  {
   "cell_type": "code",
   "execution_count": 59,
   "metadata": {},
   "outputs": [],
   "source": [
    "import numpy as np\n",
    "import scipy\n",
    "from scipy.stats import binned_statistic\n",
    "from scipy.stats import binned_statistic_2d\n",
    "import scipy.interpolate as interp\n",
    "import scipy.stats as st\n",
    "import scipy.signal as sig\n",
    "from scipy.optimize import curve_fit\n",
    "\n",
    "\n",
    "import h5py\n",
    "import gc\n",
    "import sys\n",
    "import subprocess\n",
    "import pickle\n",
    "import os\n",
    "\n",
    "\n",
    "import astropy as ap\n",
    "from astropy.io import fits\n",
    "from astropy import table as t\n",
    "from astropy.table import Table\n",
    "from astropy import wcs\n",
    "from astropy.cosmology import WMAP7\n",
    "\n",
    "\n",
    "import matplotlib.pyplot as plt\n",
    "import matplotlib.patheffects as patheffects\n",
    "from matplotlib import rcParams\n",
    "from matplotlib.path import Path\n",
    "import matplotlib.patches as patches\n",
    "import matplotlib as mpl\n",
    "from matplotlib import rc\n",
    "from matplotlib import colors\n",
    "\n",
    "rcParams[\"font.family\"] = \"DejaVu Sans\"\n",
    "rcParams[\"font.sans-serif\"] = [\"Computer Modern Sans\"]\n",
    "rcParams[\"text.usetex\"] = True\n",
    "rcParams[\"text.latex.preamble\"] = r\"\\usepackage{cmbright}\"\n",
    "rcParams['xtick.major.pad']='10'\n",
    "rcParams['ytick.major.pad']='10'\n",
    "rcParams['font.size'] = 22\n",
    "rcParams['axes.labelsize'] = 22\n",
    "rcParams['axes.labelweight'] = 'bold'\n",
    "rcParams['axes.titlesize'] = 17\n",
    "rcParams['xtick.labelsize'] = 17\n",
    "rcParams['ytick.labelsize'] = 17\n",
    "rcParams['legend.fontsize'] = 15\n",
    "rcParams['figure.titlesize'] = 1"
   ]
  },
  {
   "cell_type": "code",
   "execution_count": 60,
   "metadata": {},
   "outputs": [
    {
     "name": "stderr",
     "output_type": "stream",
     "text": [
      "WARNING: hdu= was not specified but multiple tables are present, reading in first available table (hdu=1) [astropy.io.fits.connect]\n"
     ]
    }
   ],
   "source": [
    "os.chdir(\"/Volumes/500GB/nmd299/data/mpl7\")\n",
    "\n",
    "drpall = t.Table.read('drpall-v2_5_3.fits')\n",
    "drpall.add_index('plateifu')\n",
    "\n",
    "index = np.where(drpall['srvymode']=='MaNGA dither')[0]\n",
    "plate_ifu = drpall['plateifu'][index]\n",
    "# drp_logcube = fits.open('manga-7977-12701-LOGCUBE.fits')\n",
    "# wave = drp_logcube['WAVE'].data"
   ]
  },
  {
   "cell_type": "code",
   "execution_count": 1,
   "metadata": {},
   "outputs": [
    {
     "ename": "NameError",
     "evalue": "name 'plate_ifu' is not defined",
     "output_type": "error",
     "traceback": [
      "\u001b[0;31m---------------------------------------------------------------------------\u001b[0m",
      "\u001b[0;31mNameError\u001b[0m                                 Traceback (most recent call last)",
      "\u001b[0;32m<ipython-input-1-66087bdd2117>\u001b[0m in \u001b[0;36m<module>\u001b[0;34m\u001b[0m\n\u001b[0;32m----> 1\u001b[0;31m \u001b[0mplate_ifu\u001b[0m\u001b[0;34m[\u001b[0m\u001b[0;36m0\u001b[0m\u001b[0;34m:\u001b[0m\u001b[0;36m1500\u001b[0m\u001b[0;34m]\u001b[0m\u001b[0;34m\u001b[0m\u001b[0;34m\u001b[0m\u001b[0m\n\u001b[0m",
      "\u001b[0;31mNameError\u001b[0m: name 'plate_ifu' is not defined"
     ]
    }
   ],
   "source": [
    "plate_ifu[0:1500]"
   ]
  },
  {
   "cell_type": "code",
   "execution_count": 62,
   "metadata": {},
   "outputs": [
    {
     "name": "stdout",
     "output_type": "stream",
     "text": [
      "  srvymode  \n",
      "------------\n",
      " MaNGA 10min\n",
      "MaNGA dither\n",
      "6779\n",
      "6661\n",
      "118\n"
     ]
    }
   ],
   "source": [
    "print(np.unique(drpall['srvymode']))\n",
    "\n",
    "index = np.where(drpall['srvymode']=='MaNGA dither')[0]\n",
    "plate_ifu = drpall['plateifu'][index]\n",
    "index2 = np.where(drpall['srvymode']=='MaNGA 10min')[0]\n",
    "plate_ifu2 = drpall['plateifu'][index2]\n",
    "\n",
    "print(len(drpall))\n",
    "print(len(index))\n",
    "print(len(index2))"
   ]
  },
  {
   "cell_type": "code",
   "execution_count": 55,
   "metadata": {},
   "outputs": [
    {
     "data": {
      "text/html": [
       "&lt;Column name=&apos;plateifu&apos; dtype=&apos;bytes11&apos; length=1300&gt;\n",
       "<table>\n",
       "<tr><td>10001-12701</td></tr>\n",
       "<tr><td>10001-12702</td></tr>\n",
       "<tr><td>10001-12703</td></tr>\n",
       "<tr><td>10001-12704</td></tr>\n",
       "<tr><td>10001-12705</td></tr>\n",
       "<tr><td>10001-1901</td></tr>\n",
       "<tr><td>10001-1902</td></tr>\n",
       "<tr><td>10001-3701</td></tr>\n",
       "<tr><td>10001-3702</td></tr>\n",
       "<tr><td>10001-3703</td></tr>\n",
       "<tr><td>10001-3704</td></tr>\n",
       "<tr><td>10001-6101</td></tr>\n",
       "<tr><td>...</td></tr>\n",
       "<tr><td>8146-9102</td></tr>\n",
       "<tr><td>8147-12701</td></tr>\n",
       "<tr><td>8147-12702</td></tr>\n",
       "<tr><td>8147-12703</td></tr>\n",
       "<tr><td>8147-12704</td></tr>\n",
       "<tr><td>8147-12705</td></tr>\n",
       "<tr><td>8147-1901</td></tr>\n",
       "<tr><td>8147-1902</td></tr>\n",
       "<tr><td>8147-3701</td></tr>\n",
       "<tr><td>8147-3702</td></tr>\n",
       "<tr><td>8147-3703</td></tr>\n",
       "<tr><td>8147-3704</td></tr>\n",
       "</table>"
      ],
      "text/plain": [
       "<Column name='plateifu' dtype='bytes11' length=1300>\n",
       "10001-12701\n",
       "10001-12702\n",
       "10001-12703\n",
       "10001-12704\n",
       "10001-12705\n",
       " 10001-1901\n",
       " 10001-1902\n",
       " 10001-3701\n",
       " 10001-3702\n",
       " 10001-3703\n",
       " 10001-3704\n",
       " 10001-6101\n",
       "        ...\n",
       "  8146-9102\n",
       " 8147-12701\n",
       " 8147-12702\n",
       " 8147-12703\n",
       " 8147-12704\n",
       " 8147-12705\n",
       "  8147-1901\n",
       "  8147-1902\n",
       "  8147-3701\n",
       "  8147-3702\n",
       "  8147-3703\n",
       "  8147-3704"
      ]
     },
     "execution_count": 55,
     "metadata": {},
     "output_type": "execute_result"
    }
   ],
   "source": [
    "plate_ifu[0:1300]"
   ]
  },
  {
   "cell_type": "code",
   "execution_count": 56,
   "metadata": {},
   "outputs": [
    {
     "name": "stdout",
     "output_type": "stream",
     "text": [
      "6779\n",
      "6661\n",
      "5\n",
      "95\n",
      "97\n",
      "7\n",
      " drp3qual \n",
      "----------\n",
      "         2\n",
      "        64\n",
      "        66\n",
      "1073742080\n",
      "1073742144\n",
      "1073742146\n",
      "1073742848\n",
      "1073743168\n"
     ]
    }
   ],
   "source": [
    "drpall2 = drpall[index]\n",
    "print(len(drpall))\n",
    "print(len(drpall2))\n",
    "q = drpall2['drp3qual'][0:1300]\n",
    "#np.unique(q)\n",
    "print(len(plate_ifu[0:1300][q==66]))\n",
    "print(len(plate_ifu[0:1300][q==64]))\n",
    "print(len(plate_ifu[0:1300][q==2]))\n",
    "\n",
    "print(len(plate_ifu[0:1300][q==1073742080]))\n",
    "print(np.unique(q[q!=0]))\n"
   ]
  },
  {
   "cell_type": "code",
   "execution_count": 58,
   "metadata": {},
   "outputs": [
    {
     "name": "stdout",
     "output_type": "stream",
     "text": [
      "  plateifu \n",
      "-----------\n",
      "10001-12701\n",
      "10001-12702\n",
      "10001-12703\n",
      "10001-12705\n",
      " 10001-1901\n",
      " 10001-1902\n",
      " 10001-3701\n",
      " 10001-3702\n",
      " 10001-3703\n",
      " 10001-3704\n",
      "        ...\n",
      " 8147-12701\n",
      " 8147-12702\n",
      " 8147-12703\n",
      " 8147-12704\n",
      " 8147-12705\n",
      "  8147-1901\n",
      "  8147-1902\n",
      "  8147-3701\n",
      "  8147-3702\n",
      "  8147-3703\n",
      "  8147-3704\n",
      "Length = 1079 rows\n",
      "  plateifu \n",
      "-----------\n",
      "10001-12704\n",
      "10213-12702\n",
      "10213-12703\n",
      " 10213-9102\n",
      "10214-12701\n",
      "10214-12703\n",
      "10221-12703\n",
      " 10221-6104\n",
      "10493-12703\n",
      "10497-12701\n",
      "        ...\n",
      " 8134-12703\n",
      "  8138-1901\n",
      " 8139-12703\n",
      " 8140-12704\n",
      " 8140-12705\n",
      "  8143-3702\n",
      " 8144-12702\n",
      "  8144-9101\n",
      "  8144-9102\n",
      "  8146-9101\n",
      "  8146-9102\n",
      "Length = 95 rows\n",
      " plateifu \n",
      "----------\n",
      "10493-3704\n",
      "10493-6101\n",
      " 8081-6102\n",
      " 8081-6103\n",
      " 8081-6104\n",
      " 8081-9101\n",
      " 8081-9102\n",
      "8082-12701\n",
      "8082-12702\n",
      "8082-12703\n",
      "       ...\n",
      "8147-12701\n",
      "8147-12702\n",
      "8147-12703\n",
      "8147-12704\n",
      "8147-12705\n",
      " 8147-1901\n",
      " 8147-1902\n",
      " 8147-3701\n",
      " 8147-3702\n",
      " 8147-3703\n",
      " 8147-3704\n",
      "Length = 106 rows\n"
     ]
    }
   ],
   "source": [
    "print(plate_ifu[0:1300][q==0])\n",
    "print(plate_ifu[0:1300][q==64])\n",
    "print(a)"
   ]
  },
  {
   "cell_type": "code",
   "execution_count": 34,
   "metadata": {},
   "outputs": [
    {
     "name": "stdout",
     "output_type": "stream",
     "text": [
      "<Table length=6779>\n",
      "         name          dtype  shape\n",
      "--------------------- ------- -----\n",
      "                plate   int64      \n",
      "              ifudsgn bytes21      \n",
      "             plateifu bytes11      \n",
      "              mangaid bytes22      \n",
      "             versdrp2  bytes6      \n",
      "             versdrp3  bytes6      \n",
      "             verscore  bytes6      \n",
      "             versutil  bytes7      \n",
      "             versprim  bytes4      \n",
      "             platetyp bytes14      \n",
      "             srvymode bytes12      \n",
      "                objra float64      \n",
      "               objdec float64      \n",
      "              ifuglon float64      \n",
      "              ifuglat float64      \n",
      "                ifura float64      \n",
      "               ifudec float64      \n",
      "               ebvgal float64      \n",
      "                 nexp   int64      \n",
      "              exptime float64      \n",
      "             drp3qual   int64      \n",
      "              bluesn2 float64      \n",
      "               redsn2 float64      \n",
      "              harname bytes35      \n",
      "              frlplug   int64      \n",
      "               cartid bytes11      \n",
      "             designid   int64      \n",
      "                cenra float64      \n",
      "               cendec float64      \n",
      "             airmsmin float64      \n",
      "             airmsmed float64      \n",
      "             airmsmax float64      \n",
      "               seemin float64      \n",
      "               seemed float64      \n",
      "               seemax float64      \n",
      "             transmin float64      \n",
      "             transmed float64      \n",
      "             transmax float64      \n",
      "               mjdmin   int64      \n",
      "               mjdmed   int64      \n",
      "               mjdmax   int64      \n",
      "                gfwhm float64      \n",
      "                rfwhm float64      \n",
      "                ifwhm float64      \n",
      "                zfwhm float64      \n",
      "             mngtarg1   int64      \n",
      "             mngtarg2   int64      \n",
      "             mngtarg3   int64      \n",
      "             catidnum   int64      \n",
      "              plttarg bytes19      \n",
      "         manga_tileid   int64      \n",
      "          nsa_iauname bytes19      \n",
      "        ifudesignsize   int64      \n",
      "        ifutargetsize   int64      \n",
      "   ifudesignwrongsize   int64      \n",
      "                    z float64      \n",
      "                 zmin float64      \n",
      "                 zmax float64      \n",
      "                szmin float64      \n",
      "                szmax float64      \n",
      "                ezmin float64      \n",
      "                ezmax float64      \n",
      "                probs float64      \n",
      "              pweight float64      \n",
      "             psweight float64      \n",
      "            psrweight float64      \n",
      "              sweight float64      \n",
      "             srweight float64      \n",
      "              eweight float64      \n",
      "             esweight float64      \n",
      "            esrweight float64      \n",
      "            nsa_field   int64      \n",
      "              nsa_run   int64      \n",
      "           nsa_camcol   int64      \n",
      "          nsa_version  bytes6      \n",
      "            nsa_nsaid   int64      \n",
      "        nsa_nsaid_v1b   int64      \n",
      "                nsa_z float64      \n",
      "            nsa_zdist float64      \n",
      "    nsa_sersic_absmag float64  (7,)\n",
      "   nsa_elpetro_absmag float64  (7,)\n",
      "   nsa_elpetro_amivar float64  (7,)\n",
      "      nsa_sersic_mass float64      \n",
      "     nsa_elpetro_mass float64      \n",
      "       nsa_elpetro_ba float64      \n",
      "      nsa_elpetro_phi float64      \n",
      "       nsa_extinction float64  (7,)\n",
      "   nsa_elpetro_th50_r float64      \n",
      "       nsa_petro_th50 float64      \n",
      "       nsa_petro_flux float64  (7,)\n",
      "  nsa_petro_flux_ivar float64  (7,)\n",
      "     nsa_elpetro_flux float64  (7,)\n",
      "nsa_elpetro_flux_ivar float64  (7,)\n",
      "        nsa_sersic_ba float64      \n",
      "         nsa_sersic_n float64      \n",
      "       nsa_sersic_phi float64      \n",
      "      nsa_sersic_th50 float64      \n",
      "      nsa_sersic_flux float64  (7,)\n",
      " nsa_sersic_flux_ivar float64  (7,)\n"
     ]
    }
   ],
   "source": [
    "drpall.info()"
   ]
  },
  {
   "cell_type": "code",
   "execution_count": 22,
   "metadata": {},
   "outputs": [],
   "source": [
    "drpnos = plate_ifu[0:1300]"
   ]
  },
  {
   "cell_type": "code",
   "execution_count": 23,
   "metadata": {},
   "outputs": [
    {
     "name": "stdout",
     "output_type": "stream",
     "text": [
      "['manga-10001-12701-LOGCUBE.fits', 'manga-10001-12702-LOGCUBE.fits', 'manga-10001-12703-LOGCUBE.fits', 'manga-10001-12704-LOGCUBE.fits', 'manga-10001-12705-LOGCUBE.fits', 'manga-10001-1901-LOGCUBE.fits', 'manga-10001-1902-LOGCUBE.fits', 'manga-10001-3701-LOGCUBE.fits', 'manga-10001-3702-LOGCUBE.fits', 'manga-10001-3703-LOGCUBE.fits', 'manga-10001-3704-LOGCUBE.fits', 'manga-10001-6101-LOGCUBE.fits', 'manga-10001-6102-LOGCUBE.fits', 'manga-10001-6103-LOGCUBE.fits', 'manga-10001-6104-LOGCUBE.fits', 'manga-10001-9101-LOGCUBE.fits', 'manga-10001-9102-LOGCUBE.fits', 'manga-10141-12701-LOGCUBE.fits', 'manga-10141-12702-LOGCUBE.fits', 'manga-10141-12703-LOGCUBE.fits', 'manga-10141-12704-LOGCUBE.fits', 'manga-10141-12705-LOGCUBE.fits', 'manga-10141-1901-LOGCUBE.fits', 'manga-10141-1902-LOGCUBE.fits', 'manga-10141-3701-LOGCUBE.fits', 'manga-10141-3702-LOGCUBE.fits', 'manga-10141-3703-LOGCUBE.fits', 'manga-10141-3704-LOGCUBE.fits', 'manga-10141-6101-LOGCUBE.fits', 'manga-10141-6102-LOGCUBE.fits', 'manga-10141-6103-LOGCUBE.fits', 'manga-10141-6104-LOGCUBE.fits', 'manga-10141-9101-LOGCUBE.fits', 'manga-10141-9102-LOGCUBE.fits', 'manga-10145-12701-LOGCUBE.fits', 'manga-10145-12702-LOGCUBE.fits', 'manga-10145-12703-LOGCUBE.fits', 'manga-10145-12704-LOGCUBE.fits', 'manga-10145-12705-LOGCUBE.fits', 'manga-10145-1901-LOGCUBE.fits', 'manga-10145-1902-LOGCUBE.fits', 'manga-10145-3701-LOGCUBE.fits', 'manga-10145-3702-LOGCUBE.fits', 'manga-10145-3703-LOGCUBE.fits', 'manga-10145-3704-LOGCUBE.fits', 'manga-10145-6101-LOGCUBE.fits', 'manga-10145-6102-LOGCUBE.fits', 'manga-10145-6103-LOGCUBE.fits', 'manga-10145-6104-LOGCUBE.fits', 'manga-10145-9101-LOGCUBE.fits', 'manga-10145-9102-LOGCUBE.fits', 'manga-10146-12701-LOGCUBE.fits', 'manga-10146-12702-LOGCUBE.fits', 'manga-10146-12703-LOGCUBE.fits', 'manga-10146-12704-LOGCUBE.fits', 'manga-10146-12705-LOGCUBE.fits', 'manga-10146-1901-LOGCUBE.fits', 'manga-10146-1902-LOGCUBE.fits', 'manga-10146-3701-LOGCUBE.fits', 'manga-10146-3702-LOGCUBE.fits', 'manga-10146-3703-LOGCUBE.fits', 'manga-10146-3704-LOGCUBE.fits', 'manga-10146-6101-LOGCUBE.fits', 'manga-10146-6102-LOGCUBE.fits', 'manga-10146-6103-LOGCUBE.fits', 'manga-10146-6104-LOGCUBE.fits', 'manga-10146-9101-LOGCUBE.fits', 'manga-10146-9102-LOGCUBE.fits', 'manga-10213-12701-LOGCUBE.fits', 'manga-10213-12702-LOGCUBE.fits', 'manga-10213-12703-LOGCUBE.fits', 'manga-10213-12704-LOGCUBE.fits', 'manga-10213-12705-LOGCUBE.fits', 'manga-10213-1901-LOGCUBE.fits', 'manga-10213-1902-LOGCUBE.fits', 'manga-10213-3701-LOGCUBE.fits', 'manga-10213-3702-LOGCUBE.fits', 'manga-10213-3703-LOGCUBE.fits', 'manga-10213-3704-LOGCUBE.fits', 'manga-10213-6101-LOGCUBE.fits', 'manga-10213-6102-LOGCUBE.fits', 'manga-10213-6103-LOGCUBE.fits', 'manga-10213-6104-LOGCUBE.fits', 'manga-10213-9101-LOGCUBE.fits', 'manga-10213-9102-LOGCUBE.fits', 'manga-10214-12701-LOGCUBE.fits', 'manga-10214-12702-LOGCUBE.fits', 'manga-10214-12703-LOGCUBE.fits', 'manga-10214-12704-LOGCUBE.fits', 'manga-10214-12705-LOGCUBE.fits', 'manga-10214-1901-LOGCUBE.fits', 'manga-10214-1902-LOGCUBE.fits', 'manga-10214-3701-LOGCUBE.fits', 'manga-10214-3702-LOGCUBE.fits', 'manga-10214-3703-LOGCUBE.fits', 'manga-10214-3704-LOGCUBE.fits', 'manga-10214-6101-LOGCUBE.fits', 'manga-10214-6102-LOGCUBE.fits', 'manga-10214-6103-LOGCUBE.fits', 'manga-10214-6104-LOGCUBE.fits', 'manga-10214-9101-LOGCUBE.fits', 'manga-10214-9102-LOGCUBE.fits', 'manga-10215-12701-LOGCUBE.fits', 'manga-10215-12702-LOGCUBE.fits', 'manga-10215-12703-LOGCUBE.fits', 'manga-10215-12704-LOGCUBE.fits', 'manga-10215-12705-LOGCUBE.fits', 'manga-10215-1901-LOGCUBE.fits', 'manga-10215-1902-LOGCUBE.fits', 'manga-10215-3701-LOGCUBE.fits', 'manga-10215-3702-LOGCUBE.fits', 'manga-10215-3703-LOGCUBE.fits', 'manga-10215-3704-LOGCUBE.fits', 'manga-10215-6101-LOGCUBE.fits', 'manga-10215-6102-LOGCUBE.fits', 'manga-10215-6103-LOGCUBE.fits', 'manga-10215-6104-LOGCUBE.fits', 'manga-10215-9101-LOGCUBE.fits', 'manga-10215-9102-LOGCUBE.fits', 'manga-10216-12701-LOGCUBE.fits', 'manga-10216-12702-LOGCUBE.fits', 'manga-10216-12703-LOGCUBE.fits', 'manga-10216-12704-LOGCUBE.fits', 'manga-10216-12705-LOGCUBE.fits', 'manga-10216-1901-LOGCUBE.fits', 'manga-10216-1902-LOGCUBE.fits', 'manga-10216-3701-LOGCUBE.fits', 'manga-10216-3702-LOGCUBE.fits', 'manga-10216-3703-LOGCUBE.fits', 'manga-10216-3704-LOGCUBE.fits', 'manga-10216-6101-LOGCUBE.fits', 'manga-10216-6102-LOGCUBE.fits', 'manga-10216-6103-LOGCUBE.fits', 'manga-10216-6104-LOGCUBE.fits', 'manga-10216-9101-LOGCUBE.fits', 'manga-10216-9102-LOGCUBE.fits', 'manga-10217-12701-LOGCUBE.fits', 'manga-10217-12702-LOGCUBE.fits', 'manga-10217-12703-LOGCUBE.fits', 'manga-10217-12704-LOGCUBE.fits', 'manga-10217-12705-LOGCUBE.fits', 'manga-10217-1901-LOGCUBE.fits', 'manga-10217-1902-LOGCUBE.fits', 'manga-10217-3701-LOGCUBE.fits', 'manga-10217-3702-LOGCUBE.fits', 'manga-10217-3703-LOGCUBE.fits', 'manga-10217-3704-LOGCUBE.fits', 'manga-10217-6101-LOGCUBE.fits', 'manga-10217-6102-LOGCUBE.fits', 'manga-10217-6103-LOGCUBE.fits', 'manga-10217-6104-LOGCUBE.fits', 'manga-10217-9101-LOGCUBE.fits', 'manga-10217-9102-LOGCUBE.fits', 'manga-10218-12701-LOGCUBE.fits', 'manga-10218-12702-LOGCUBE.fits', 'manga-10218-12703-LOGCUBE.fits', 'manga-10218-12704-LOGCUBE.fits', 'manga-10218-12705-LOGCUBE.fits', 'manga-10218-1901-LOGCUBE.fits', 'manga-10218-1902-LOGCUBE.fits', 'manga-10218-3701-LOGCUBE.fits', 'manga-10218-3702-LOGCUBE.fits', 'manga-10218-3703-LOGCUBE.fits', 'manga-10218-3704-LOGCUBE.fits', 'manga-10218-6101-LOGCUBE.fits', 'manga-10218-6102-LOGCUBE.fits', 'manga-10218-6103-LOGCUBE.fits', 'manga-10218-6104-LOGCUBE.fits', 'manga-10218-9101-LOGCUBE.fits', 'manga-10218-9102-LOGCUBE.fits', 'manga-10219-12701-LOGCUBE.fits', 'manga-10219-12702-LOGCUBE.fits', 'manga-10219-12703-LOGCUBE.fits', 'manga-10219-12704-LOGCUBE.fits', 'manga-10219-12705-LOGCUBE.fits', 'manga-10219-1901-LOGCUBE.fits', 'manga-10219-1902-LOGCUBE.fits', 'manga-10219-3701-LOGCUBE.fits', 'manga-10219-3702-LOGCUBE.fits', 'manga-10219-3703-LOGCUBE.fits', 'manga-10219-3704-LOGCUBE.fits', 'manga-10219-6101-LOGCUBE.fits', 'manga-10219-6102-LOGCUBE.fits', 'manga-10219-6103-LOGCUBE.fits', 'manga-10219-6104-LOGCUBE.fits', 'manga-10219-9101-LOGCUBE.fits', 'manga-10219-9102-LOGCUBE.fits', 'manga-10220-12701-LOGCUBE.fits', 'manga-10220-12702-LOGCUBE.fits', 'manga-10220-12703-LOGCUBE.fits', 'manga-10220-12704-LOGCUBE.fits', 'manga-10220-12705-LOGCUBE.fits', 'manga-10220-1901-LOGCUBE.fits', 'manga-10220-1902-LOGCUBE.fits', 'manga-10220-3701-LOGCUBE.fits', 'manga-10220-3702-LOGCUBE.fits', 'manga-10220-3703-LOGCUBE.fits', 'manga-10220-3704-LOGCUBE.fits', 'manga-10220-6101-LOGCUBE.fits', 'manga-10220-6102-LOGCUBE.fits', 'manga-10220-6103-LOGCUBE.fits', 'manga-10220-6104-LOGCUBE.fits', 'manga-10220-9101-LOGCUBE.fits', 'manga-10220-9102-LOGCUBE.fits', 'manga-10221-12701-LOGCUBE.fits', 'manga-10221-12702-LOGCUBE.fits', 'manga-10221-12703-LOGCUBE.fits', 'manga-10221-12704-LOGCUBE.fits', 'manga-10221-12705-LOGCUBE.fits', 'manga-10221-1901-LOGCUBE.fits', 'manga-10221-1902-LOGCUBE.fits', 'manga-10221-3701-LOGCUBE.fits', 'manga-10221-3702-LOGCUBE.fits', 'manga-10221-3703-LOGCUBE.fits', 'manga-10221-3704-LOGCUBE.fits', 'manga-10221-6101-LOGCUBE.fits', 'manga-10221-6102-LOGCUBE.fits', 'manga-10221-6103-LOGCUBE.fits', 'manga-10221-6104-LOGCUBE.fits', 'manga-10221-9101-LOGCUBE.fits', 'manga-10221-9102-LOGCUBE.fits', 'manga-10492-12701-LOGCUBE.fits', 'manga-10492-12702-LOGCUBE.fits', 'manga-10492-12703-LOGCUBE.fits', 'manga-10492-12704-LOGCUBE.fits', 'manga-10492-12705-LOGCUBE.fits', 'manga-10492-1901-LOGCUBE.fits', 'manga-10492-1902-LOGCUBE.fits', 'manga-10492-3701-LOGCUBE.fits', 'manga-10492-3702-LOGCUBE.fits', 'manga-10492-3703-LOGCUBE.fits', 'manga-10492-3704-LOGCUBE.fits', 'manga-10492-6101-LOGCUBE.fits', 'manga-10492-6102-LOGCUBE.fits', 'manga-10492-6103-LOGCUBE.fits', 'manga-10492-6104-LOGCUBE.fits', 'manga-10492-9101-LOGCUBE.fits', 'manga-10492-9102-LOGCUBE.fits', 'manga-10493-12701-LOGCUBE.fits', 'manga-10493-12702-LOGCUBE.fits', 'manga-10493-12703-LOGCUBE.fits', 'manga-10493-12704-LOGCUBE.fits', 'manga-10493-12705-LOGCUBE.fits', 'manga-10493-1901-LOGCUBE.fits', 'manga-10493-1902-LOGCUBE.fits', 'manga-10493-3701-LOGCUBE.fits', 'manga-10493-3702-LOGCUBE.fits', 'manga-10493-3703-LOGCUBE.fits', 'manga-10493-6102-LOGCUBE.fits', 'manga-10493-6103-LOGCUBE.fits', 'manga-10493-6104-LOGCUBE.fits', 'manga-10493-9101-LOGCUBE.fits', 'manga-10493-9102-LOGCUBE.fits', 'manga-10494-12701-LOGCUBE.fits', 'manga-10494-12702-LOGCUBE.fits', 'manga-10494-12703-LOGCUBE.fits', 'manga-10494-12704-LOGCUBE.fits', 'manga-10494-12705-LOGCUBE.fits', 'manga-10494-1901-LOGCUBE.fits', 'manga-10494-1902-LOGCUBE.fits', 'manga-10494-3701-LOGCUBE.fits', 'manga-10494-3702-LOGCUBE.fits', 'manga-10494-3703-LOGCUBE.fits', 'manga-10494-3704-LOGCUBE.fits', 'manga-10494-6101-LOGCUBE.fits', 'manga-10494-6102-LOGCUBE.fits', 'manga-10494-6103-LOGCUBE.fits', 'manga-10494-6104-LOGCUBE.fits', 'manga-10494-9101-LOGCUBE.fits', 'manga-10494-9102-LOGCUBE.fits', 'manga-10496-12701-LOGCUBE.fits', 'manga-10496-12702-LOGCUBE.fits', 'manga-10496-12703-LOGCUBE.fits', 'manga-10496-12704-LOGCUBE.fits', 'manga-10496-12705-LOGCUBE.fits', 'manga-10496-1901-LOGCUBE.fits', 'manga-10496-1902-LOGCUBE.fits', 'manga-10496-3701-LOGCUBE.fits', 'manga-10496-3702-LOGCUBE.fits', 'manga-10496-3703-LOGCUBE.fits', 'manga-10496-3704-LOGCUBE.fits', 'manga-10496-6101-LOGCUBE.fits', 'manga-10496-6102-LOGCUBE.fits', 'manga-10496-6103-LOGCUBE.fits', 'manga-10496-6104-LOGCUBE.fits', 'manga-10496-9101-LOGCUBE.fits', 'manga-10496-9102-LOGCUBE.fits', 'manga-10497-12701-LOGCUBE.fits', 'manga-10497-12702-LOGCUBE.fits', 'manga-10497-12703-LOGCUBE.fits', 'manga-10497-12704-LOGCUBE.fits', 'manga-10497-12705-LOGCUBE.fits', 'manga-10497-1901-LOGCUBE.fits', 'manga-10497-1902-LOGCUBE.fits', 'manga-10497-3701-LOGCUBE.fits', 'manga-10497-3702-LOGCUBE.fits', 'manga-10497-3703-LOGCUBE.fits', 'manga-10497-3704-LOGCUBE.fits', 'manga-10497-6101-LOGCUBE.fits', 'manga-10497-6102-LOGCUBE.fits', 'manga-10497-6103-LOGCUBE.fits', 'manga-10497-6104-LOGCUBE.fits', 'manga-10497-9101-LOGCUBE.fits', 'manga-10497-9102-LOGCUBE.fits', 'manga-10498-12701-LOGCUBE.fits', 'manga-10498-12702-LOGCUBE.fits', 'manga-10498-12703-LOGCUBE.fits', 'manga-10498-12704-LOGCUBE.fits', 'manga-10498-12705-LOGCUBE.fits', 'manga-10498-1901-LOGCUBE.fits', 'manga-10498-1902-LOGCUBE.fits', 'manga-10498-3701-LOGCUBE.fits', 'manga-10498-3702-LOGCUBE.fits', 'manga-10498-3703-LOGCUBE.fits', 'manga-10498-3704-LOGCUBE.fits', 'manga-10498-6101-LOGCUBE.fits', 'manga-10498-6102-LOGCUBE.fits', 'manga-10498-6103-LOGCUBE.fits', 'manga-10498-6104-LOGCUBE.fits', 'manga-10498-9101-LOGCUBE.fits', 'manga-10498-9102-LOGCUBE.fits', 'manga-10499-12701-LOGCUBE.fits', 'manga-10499-12702-LOGCUBE.fits', 'manga-10499-12703-LOGCUBE.fits', 'manga-10499-12704-LOGCUBE.fits', 'manga-10499-12705-LOGCUBE.fits', 'manga-10499-1901-LOGCUBE.fits', 'manga-10499-1902-LOGCUBE.fits', 'manga-10499-3701-LOGCUBE.fits', 'manga-10499-3702-LOGCUBE.fits', 'manga-10499-3703-LOGCUBE.fits', 'manga-10499-3704-LOGCUBE.fits', 'manga-10499-6101-LOGCUBE.fits', 'manga-10499-6102-LOGCUBE.fits', 'manga-10499-6103-LOGCUBE.fits', 'manga-10499-6104-LOGCUBE.fits', 'manga-10499-9101-LOGCUBE.fits', 'manga-10499-9102-LOGCUBE.fits', 'manga-10503-12701-LOGCUBE.fits', 'manga-10503-12702-LOGCUBE.fits', 'manga-10503-12703-LOGCUBE.fits', 'manga-10503-12704-LOGCUBE.fits', 'manga-10503-12705-LOGCUBE.fits', 'manga-10503-1901-LOGCUBE.fits', 'manga-10503-1902-LOGCUBE.fits', 'manga-10503-3701-LOGCUBE.fits', 'manga-10503-3702-LOGCUBE.fits', 'manga-10503-3703-LOGCUBE.fits', 'manga-10503-3704-LOGCUBE.fits', 'manga-10503-6101-LOGCUBE.fits', 'manga-10503-6102-LOGCUBE.fits', 'manga-10503-6103-LOGCUBE.fits', 'manga-10503-6104-LOGCUBE.fits', 'manga-10503-9101-LOGCUBE.fits', 'manga-10503-9102-LOGCUBE.fits', 'manga-10504-12701-LOGCUBE.fits', 'manga-10504-12702-LOGCUBE.fits', 'manga-10504-12703-LOGCUBE.fits', 'manga-10504-12704-LOGCUBE.fits', 'manga-10504-12705-LOGCUBE.fits', 'manga-10504-1901-LOGCUBE.fits', 'manga-10504-1902-LOGCUBE.fits', 'manga-10504-3701-LOGCUBE.fits', 'manga-10504-3702-LOGCUBE.fits', 'manga-10504-3703-LOGCUBE.fits', 'manga-10504-3704-LOGCUBE.fits', 'manga-10504-6101-LOGCUBE.fits', 'manga-10504-6102-LOGCUBE.fits', 'manga-10504-6103-LOGCUBE.fits', 'manga-10504-6104-LOGCUBE.fits', 'manga-10504-9101-LOGCUBE.fits', 'manga-10504-9102-LOGCUBE.fits', 'manga-10506-12701-LOGCUBE.fits', 'manga-10506-12702-LOGCUBE.fits', 'manga-10506-12703-LOGCUBE.fits', 'manga-10506-12704-LOGCUBE.fits', 'manga-10506-12705-LOGCUBE.fits', 'manga-10506-1901-LOGCUBE.fits', 'manga-10506-1902-LOGCUBE.fits', 'manga-10506-3701-LOGCUBE.fits', 'manga-10506-3702-LOGCUBE.fits', 'manga-10506-3703-LOGCUBE.fits', 'manga-10506-3704-LOGCUBE.fits', 'manga-10506-6101-LOGCUBE.fits', 'manga-10506-6102-LOGCUBE.fits', 'manga-10506-6103-LOGCUBE.fits', 'manga-10506-6104-LOGCUBE.fits', 'manga-10506-9101-LOGCUBE.fits', 'manga-10506-9102-LOGCUBE.fits', 'manga-10507-12701-LOGCUBE.fits', 'manga-10507-12702-LOGCUBE.fits', 'manga-10507-12703-LOGCUBE.fits', 'manga-10507-12704-LOGCUBE.fits', 'manga-10507-12705-LOGCUBE.fits', 'manga-10507-1901-LOGCUBE.fits', 'manga-10507-1902-LOGCUBE.fits', 'manga-10507-3701-LOGCUBE.fits', 'manga-10507-3702-LOGCUBE.fits', 'manga-10507-3703-LOGCUBE.fits', 'manga-10507-3704-LOGCUBE.fits', 'manga-10507-6101-LOGCUBE.fits', 'manga-10507-6102-LOGCUBE.fits', 'manga-10507-6103-LOGCUBE.fits', 'manga-10507-6104-LOGCUBE.fits', 'manga-10507-9101-LOGCUBE.fits', 'manga-10507-9102-LOGCUBE.fits', 'manga-10508-12701-LOGCUBE.fits', 'manga-10508-12702-LOGCUBE.fits', 'manga-10508-12703-LOGCUBE.fits', 'manga-10508-12704-LOGCUBE.fits', 'manga-10508-12705-LOGCUBE.fits', 'manga-10508-1901-LOGCUBE.fits', 'manga-10508-1902-LOGCUBE.fits', 'manga-10508-3701-LOGCUBE.fits', 'manga-10508-3703-LOGCUBE.fits', 'manga-10508-3704-LOGCUBE.fits', 'manga-10508-6101-LOGCUBE.fits', 'manga-10508-6102-LOGCUBE.fits', 'manga-10508-6103-LOGCUBE.fits', 'manga-10508-6104-LOGCUBE.fits', 'manga-10508-9101-LOGCUBE.fits', 'manga-10508-9102-LOGCUBE.fits', 'manga-10509-12701-LOGCUBE.fits', 'manga-10509-12702-LOGCUBE.fits', 'manga-10509-12703-LOGCUBE.fits', 'manga-10509-12704-LOGCUBE.fits', 'manga-10509-12705-LOGCUBE.fits', 'manga-10509-1901-LOGCUBE.fits', 'manga-10509-1902-LOGCUBE.fits', 'manga-10509-3701-LOGCUBE.fits', 'manga-10509-3702-LOGCUBE.fits', 'manga-10509-3703-LOGCUBE.fits', 'manga-10509-3704-LOGCUBE.fits', 'manga-10509-6101-LOGCUBE.fits', 'manga-10509-6102-LOGCUBE.fits', 'manga-10509-6103-LOGCUBE.fits', 'manga-10509-6104-LOGCUBE.fits', 'manga-10509-9101-LOGCUBE.fits', 'manga-10509-9102-LOGCUBE.fits', 'manga-10510-12701-LOGCUBE.fits', 'manga-10510-12702-LOGCUBE.fits', 'manga-10510-12703-LOGCUBE.fits', 'manga-10510-12704-LOGCUBE.fits', 'manga-10510-12705-LOGCUBE.fits', 'manga-10510-1901-LOGCUBE.fits', 'manga-10510-1902-LOGCUBE.fits', 'manga-10510-3701-LOGCUBE.fits', 'manga-10510-3702-LOGCUBE.fits', 'manga-10510-3703-LOGCUBE.fits', 'manga-10510-3704-LOGCUBE.fits', 'manga-10510-6101-LOGCUBE.fits', 'manga-10510-6102-LOGCUBE.fits', 'manga-10510-6103-LOGCUBE.fits', 'manga-10510-6104-LOGCUBE.fits', 'manga-10510-9101-LOGCUBE.fits', 'manga-10510-9102-LOGCUBE.fits', 'manga-10511-12701-LOGCUBE.fits', 'manga-10511-12702-LOGCUBE.fits', 'manga-10511-12703-LOGCUBE.fits', 'manga-10511-12704-LOGCUBE.fits', 'manga-10511-12705-LOGCUBE.fits', 'manga-10511-1901-LOGCUBE.fits', 'manga-10511-1902-LOGCUBE.fits', 'manga-10511-3701-LOGCUBE.fits', 'manga-10511-3702-LOGCUBE.fits', 'manga-10511-3703-LOGCUBE.fits', 'manga-10511-3704-LOGCUBE.fits', 'manga-10511-6101-LOGCUBE.fits', 'manga-10511-6102-LOGCUBE.fits', 'manga-10511-6103-LOGCUBE.fits', 'manga-10511-6104-LOGCUBE.fits', 'manga-10511-9101-LOGCUBE.fits', 'manga-10511-9102-LOGCUBE.fits', 'manga-10512-12701-LOGCUBE.fits', 'manga-10512-12702-LOGCUBE.fits', 'manga-10512-12703-LOGCUBE.fits', 'manga-10512-12704-LOGCUBE.fits', 'manga-10512-12705-LOGCUBE.fits', 'manga-10512-1901-LOGCUBE.fits', 'manga-10512-1902-LOGCUBE.fits', 'manga-10512-3701-LOGCUBE.fits', 'manga-10512-3702-LOGCUBE.fits', 'manga-10512-3703-LOGCUBE.fits', 'manga-10512-3704-LOGCUBE.fits', 'manga-10512-6101-LOGCUBE.fits', 'manga-10512-6102-LOGCUBE.fits', 'manga-10512-6103-LOGCUBE.fits', 'manga-10512-6104-LOGCUBE.fits', 'manga-10512-9101-LOGCUBE.fits', 'manga-10512-9102-LOGCUBE.fits', 'manga-10514-12701-LOGCUBE.fits', 'manga-10514-12702-LOGCUBE.fits', 'manga-10514-12703-LOGCUBE.fits', 'manga-10514-12704-LOGCUBE.fits', 'manga-10514-12705-LOGCUBE.fits', 'manga-10514-1901-LOGCUBE.fits', 'manga-10514-1902-LOGCUBE.fits', 'manga-10514-3701-LOGCUBE.fits', 'manga-10514-3702-LOGCUBE.fits', 'manga-10514-3703-LOGCUBE.fits', 'manga-10514-3704-LOGCUBE.fits', 'manga-10514-6101-LOGCUBE.fits', 'manga-10514-6102-LOGCUBE.fits', 'manga-10514-6103-LOGCUBE.fits', 'manga-10514-6104-LOGCUBE.fits', 'manga-10514-9101-LOGCUBE.fits', 'manga-10514-9102-LOGCUBE.fits', 'manga-10516-12701-LOGCUBE.fits', 'manga-10516-12702-LOGCUBE.fits', 'manga-10516-12703-LOGCUBE.fits', 'manga-10516-12704-LOGCUBE.fits', 'manga-10516-12705-LOGCUBE.fits', 'manga-10516-1901-LOGCUBE.fits', 'manga-10516-1902-LOGCUBE.fits', 'manga-10516-3701-LOGCUBE.fits', 'manga-10516-3702-LOGCUBE.fits', 'manga-10516-3703-LOGCUBE.fits', 'manga-10516-3704-LOGCUBE.fits', 'manga-10516-6101-LOGCUBE.fits', 'manga-10516-6102-LOGCUBE.fits', 'manga-10516-6103-LOGCUBE.fits', 'manga-10516-6104-LOGCUBE.fits', 'manga-10516-9101-LOGCUBE.fits', 'manga-10516-9102-LOGCUBE.fits', 'manga-10517-12701-LOGCUBE.fits', 'manga-10517-12702-LOGCUBE.fits', 'manga-10517-12703-LOGCUBE.fits', 'manga-10517-12704-LOGCUBE.fits', 'manga-10517-12705-LOGCUBE.fits', 'manga-10517-1901-LOGCUBE.fits', 'manga-10517-1902-LOGCUBE.fits', 'manga-10517-3701-LOGCUBE.fits', 'manga-10517-3702-LOGCUBE.fits', 'manga-10517-3703-LOGCUBE.fits', 'manga-10517-3704-LOGCUBE.fits', 'manga-10517-6101-LOGCUBE.fits', 'manga-10517-6102-LOGCUBE.fits', 'manga-10517-6103-LOGCUBE.fits', 'manga-10517-6104-LOGCUBE.fits', 'manga-10517-9101-LOGCUBE.fits', 'manga-10517-9102-LOGCUBE.fits', 'manga-10519-12701-LOGCUBE.fits', 'manga-10519-12702-LOGCUBE.fits', 'manga-10519-12703-LOGCUBE.fits', 'manga-10519-12704-LOGCUBE.fits', 'manga-10519-12705-LOGCUBE.fits', 'manga-10519-1901-LOGCUBE.fits', 'manga-10519-1902-LOGCUBE.fits', 'manga-10519-3701-LOGCUBE.fits', 'manga-10519-3702-LOGCUBE.fits', 'manga-10519-3703-LOGCUBE.fits', 'manga-10519-3704-LOGCUBE.fits', 'manga-10519-6101-LOGCUBE.fits', 'manga-10519-6102-LOGCUBE.fits', 'manga-10519-6103-LOGCUBE.fits', 'manga-10519-6104-LOGCUBE.fits', 'manga-10519-9101-LOGCUBE.fits', 'manga-10519-9102-LOGCUBE.fits', 'manga-7443-12701-LOGCUBE.fits', 'manga-7443-12702-LOGCUBE.fits', 'manga-7443-12703-LOGCUBE.fits', 'manga-7443-12704-LOGCUBE.fits', 'manga-7443-12705-LOGCUBE.fits', 'manga-7443-1901-LOGCUBE.fits', 'manga-7443-1902-LOGCUBE.fits', 'manga-7443-3701-LOGCUBE.fits', 'manga-7443-3702-LOGCUBE.fits', 'manga-7443-3703-LOGCUBE.fits', 'manga-7443-3704-LOGCUBE.fits', 'manga-7443-6101-LOGCUBE.fits', 'manga-7443-6102-LOGCUBE.fits', 'manga-7443-6103-LOGCUBE.fits', 'manga-7443-6104-LOGCUBE.fits', 'manga-7443-9101-LOGCUBE.fits', 'manga-7443-9102-LOGCUBE.fits', 'manga-7444-12701-LOGCUBE.fits', 'manga-7444-12702-LOGCUBE.fits', 'manga-7444-12703-LOGCUBE.fits', 'manga-7444-12704-LOGCUBE.fits', 'manga-7444-12705-LOGCUBE.fits', 'manga-7444-1901-LOGCUBE.fits', 'manga-7444-1902-LOGCUBE.fits', 'manga-7444-3701-LOGCUBE.fits', 'manga-7444-3702-LOGCUBE.fits', 'manga-7444-3703-LOGCUBE.fits', 'manga-7444-3704-LOGCUBE.fits', 'manga-7444-6101-LOGCUBE.fits', 'manga-7444-6102-LOGCUBE.fits', 'manga-7444-6103-LOGCUBE.fits', 'manga-7444-6104-LOGCUBE.fits', 'manga-7444-704-LOGCUBE.fits', 'manga-7444-708-LOGCUBE.fits', 'manga-7444-9101-LOGCUBE.fits', 'manga-7444-9102-LOGCUBE.fits', 'manga-7495-12701-LOGCUBE.fits', 'manga-7495-12702-LOGCUBE.fits', 'manga-7495-12703-LOGCUBE.fits', 'manga-7495-12704-LOGCUBE.fits', 'manga-7495-12705-LOGCUBE.fits', 'manga-7495-1901-LOGCUBE.fits', 'manga-7495-1902-LOGCUBE.fits', 'manga-7495-3701-LOGCUBE.fits', 'manga-7495-3702-LOGCUBE.fits', 'manga-7495-3703-LOGCUBE.fits', 'manga-7495-3704-LOGCUBE.fits', 'manga-7495-6101-LOGCUBE.fits', 'manga-7495-6102-LOGCUBE.fits', 'manga-7495-6103-LOGCUBE.fits', 'manga-7495-6104-LOGCUBE.fits', 'manga-7495-9101-LOGCUBE.fits', 'manga-7495-9102-LOGCUBE.fits', 'manga-7815-12701-LOGCUBE.fits', 'manga-7815-12702-LOGCUBE.fits', 'manga-7815-12703-LOGCUBE.fits', 'manga-7815-12704-LOGCUBE.fits', 'manga-7815-12705-LOGCUBE.fits', 'manga-7815-1901-LOGCUBE.fits', 'manga-7815-1902-LOGCUBE.fits', 'manga-7815-3701-LOGCUBE.fits', 'manga-7815-3702-LOGCUBE.fits', 'manga-7815-3703-LOGCUBE.fits', 'manga-7815-3704-LOGCUBE.fits', 'manga-7815-6101-LOGCUBE.fits', 'manga-7815-6102-LOGCUBE.fits', 'manga-7815-6103-LOGCUBE.fits', 'manga-7815-6104-LOGCUBE.fits', 'manga-7815-9101-LOGCUBE.fits', 'manga-7815-9102-LOGCUBE.fits', 'manga-7957-12701-LOGCUBE.fits', 'manga-7957-12702-LOGCUBE.fits', 'manga-7957-12703-LOGCUBE.fits', 'manga-7957-12704-LOGCUBE.fits', 'manga-7957-12705-LOGCUBE.fits', 'manga-7957-1901-LOGCUBE.fits', 'manga-7957-1902-LOGCUBE.fits', 'manga-7957-3701-LOGCUBE.fits', 'manga-7957-3702-LOGCUBE.fits', 'manga-7957-3703-LOGCUBE.fits', 'manga-7957-3704-LOGCUBE.fits', 'manga-7957-6101-LOGCUBE.fits', 'manga-7957-6102-LOGCUBE.fits', 'manga-7957-6103-LOGCUBE.fits', 'manga-7957-6104-LOGCUBE.fits', 'manga-7957-9101-LOGCUBE.fits', 'manga-7957-9102-LOGCUBE.fits', 'manga-7958-12701-LOGCUBE.fits', 'manga-7958-12702-LOGCUBE.fits', 'manga-7958-12703-LOGCUBE.fits', 'manga-7958-12704-LOGCUBE.fits', 'manga-7958-12705-LOGCUBE.fits', 'manga-7958-1901-LOGCUBE.fits', 'manga-7958-1902-LOGCUBE.fits', 'manga-7958-3701-LOGCUBE.fits', 'manga-7958-3702-LOGCUBE.fits', 'manga-7958-3703-LOGCUBE.fits', 'manga-7958-3704-LOGCUBE.fits', 'manga-7958-6101-LOGCUBE.fits', 'manga-7958-6102-LOGCUBE.fits', 'manga-7958-6103-LOGCUBE.fits', 'manga-7958-6104-LOGCUBE.fits', 'manga-7958-9101-LOGCUBE.fits', 'manga-7958-9102-LOGCUBE.fits', 'manga-7960-12701-LOGCUBE.fits', 'manga-7960-12702-LOGCUBE.fits', 'manga-7960-12703-LOGCUBE.fits', 'manga-7960-12704-LOGCUBE.fits', 'manga-7960-12705-LOGCUBE.fits', 'manga-7960-1901-LOGCUBE.fits', 'manga-7960-1902-LOGCUBE.fits', 'manga-7960-3701-LOGCUBE.fits', 'manga-7960-3702-LOGCUBE.fits', 'manga-7960-3703-LOGCUBE.fits', 'manga-7960-3704-LOGCUBE.fits', 'manga-7960-6101-LOGCUBE.fits', 'manga-7960-6102-LOGCUBE.fits', 'manga-7960-6103-LOGCUBE.fits', 'manga-7960-6104-LOGCUBE.fits', 'manga-7960-9101-LOGCUBE.fits', 'manga-7960-9102-LOGCUBE.fits', 'manga-7962-12701-LOGCUBE.fits', 'manga-7962-12702-LOGCUBE.fits', 'manga-7962-12703-LOGCUBE.fits', 'manga-7962-12704-LOGCUBE.fits', 'manga-7962-12705-LOGCUBE.fits', 'manga-7962-1901-LOGCUBE.fits', 'manga-7962-1902-LOGCUBE.fits', 'manga-7962-3701-LOGCUBE.fits', 'manga-7962-3702-LOGCUBE.fits', 'manga-7962-3703-LOGCUBE.fits', 'manga-7962-3704-LOGCUBE.fits', 'manga-7962-6101-LOGCUBE.fits', 'manga-7962-6102-LOGCUBE.fits', 'manga-7962-6103-LOGCUBE.fits', 'manga-7962-6104-LOGCUBE.fits', 'manga-7962-9101-LOGCUBE.fits', 'manga-7962-9102-LOGCUBE.fits', 'manga-7964-12701-LOGCUBE.fits', 'manga-7964-12702-LOGCUBE.fits', 'manga-7964-12703-LOGCUBE.fits', 'manga-7964-12704-LOGCUBE.fits', 'manga-7964-12705-LOGCUBE.fits', 'manga-7964-1901-LOGCUBE.fits', 'manga-7964-1902-LOGCUBE.fits', 'manga-7964-3701-LOGCUBE.fits', 'manga-7964-3702-LOGCUBE.fits', 'manga-7964-3703-LOGCUBE.fits', 'manga-7964-3704-LOGCUBE.fits', 'manga-7964-6101-LOGCUBE.fits', 'manga-7964-6102-LOGCUBE.fits', 'manga-7964-6103-LOGCUBE.fits', 'manga-7964-6104-LOGCUBE.fits', 'manga-7964-9101-LOGCUBE.fits', 'manga-7964-9102-LOGCUBE.fits', 'manga-7968-12701-LOGCUBE.fits', 'manga-7968-12702-LOGCUBE.fits', 'manga-7968-12703-LOGCUBE.fits', 'manga-7968-12704-LOGCUBE.fits', 'manga-7968-12705-LOGCUBE.fits', 'manga-7968-1901-LOGCUBE.fits', 'manga-7968-1902-LOGCUBE.fits', 'manga-7968-3701-LOGCUBE.fits', 'manga-7968-3702-LOGCUBE.fits', 'manga-7968-3703-LOGCUBE.fits', 'manga-7968-3704-LOGCUBE.fits', 'manga-7968-6101-LOGCUBE.fits', 'manga-7968-6102-LOGCUBE.fits', 'manga-7968-6103-LOGCUBE.fits', 'manga-7968-6104-LOGCUBE.fits', 'manga-7968-9101-LOGCUBE.fits', 'manga-7968-9102-LOGCUBE.fits', 'manga-7972-12701-LOGCUBE.fits', 'manga-7972-12702-LOGCUBE.fits', 'manga-7972-12703-LOGCUBE.fits', 'manga-7972-12704-LOGCUBE.fits', 'manga-7972-12705-LOGCUBE.fits', 'manga-7972-1901-LOGCUBE.fits', 'manga-7972-1902-LOGCUBE.fits', 'manga-7972-3701-LOGCUBE.fits', 'manga-7972-3702-LOGCUBE.fits', 'manga-7972-3703-LOGCUBE.fits', 'manga-7972-3704-LOGCUBE.fits', 'manga-7972-6101-LOGCUBE.fits', 'manga-7972-6102-LOGCUBE.fits', 'manga-7972-6103-LOGCUBE.fits', 'manga-7972-6104-LOGCUBE.fits', 'manga-7972-9101-LOGCUBE.fits', 'manga-7972-9102-LOGCUBE.fits', 'manga-7975-12701-LOGCUBE.fits', 'manga-7975-12702-LOGCUBE.fits', 'manga-7975-12703-LOGCUBE.fits', 'manga-7975-12704-LOGCUBE.fits', 'manga-7975-12705-LOGCUBE.fits', 'manga-7975-1901-LOGCUBE.fits', 'manga-7975-1902-LOGCUBE.fits', 'manga-7975-3701-LOGCUBE.fits', 'manga-7975-3702-LOGCUBE.fits', 'manga-7975-3703-LOGCUBE.fits', 'manga-7975-3704-LOGCUBE.fits', 'manga-7975-6101-LOGCUBE.fits', 'manga-7975-6102-LOGCUBE.fits', 'manga-7975-6103-LOGCUBE.fits', 'manga-7975-6104-LOGCUBE.fits', 'manga-7975-9101-LOGCUBE.fits', 'manga-7975-9102-LOGCUBE.fits', 'manga-7977-12701-LOGCUBE.fits', 'manga-7977-12702-LOGCUBE.fits', 'manga-7977-12703-LOGCUBE.fits', 'manga-7977-12704-LOGCUBE.fits', 'manga-7977-12705-LOGCUBE.fits', 'manga-7977-1901-LOGCUBE.fits', 'manga-7977-1902-LOGCUBE.fits', 'manga-7977-3701-LOGCUBE.fits', 'manga-7977-3702-LOGCUBE.fits', 'manga-7977-3703-LOGCUBE.fits', 'manga-7977-3704-LOGCUBE.fits', 'manga-7977-6101-LOGCUBE.fits', 'manga-7977-6102-LOGCUBE.fits', 'manga-7977-6103-LOGCUBE.fits', 'manga-7977-6104-LOGCUBE.fits', 'manga-7977-9101-LOGCUBE.fits', 'manga-7977-9102-LOGCUBE.fits', 'manga-7979-12701-LOGCUBE.fits', 'manga-7979-12702-LOGCUBE.fits', 'manga-7979-12703-LOGCUBE.fits', 'manga-7979-12704-LOGCUBE.fits', 'manga-7979-12705-LOGCUBE.fits', 'manga-7979-1901-LOGCUBE.fits', 'manga-7979-1902-LOGCUBE.fits', 'manga-7979-3701-LOGCUBE.fits', 'manga-7979-3702-LOGCUBE.fits', 'manga-7979-3703-LOGCUBE.fits', 'manga-7979-3704-LOGCUBE.fits', 'manga-7979-6101-LOGCUBE.fits', 'manga-7979-6102-LOGCUBE.fits', 'manga-7979-6103-LOGCUBE.fits', 'manga-7979-6104-LOGCUBE.fits', 'manga-7979-9101-LOGCUBE.fits', 'manga-7979-9102-LOGCUBE.fits', 'manga-7990-12701-LOGCUBE.fits', 'manga-7990-12702-LOGCUBE.fits', 'manga-7990-12703-LOGCUBE.fits', 'manga-7990-12704-LOGCUBE.fits', 'manga-7990-12705-LOGCUBE.fits', 'manga-7990-1901-LOGCUBE.fits', 'manga-7990-1902-LOGCUBE.fits', 'manga-7990-3701-LOGCUBE.fits', 'manga-7990-3702-LOGCUBE.fits', 'manga-7990-3703-LOGCUBE.fits', 'manga-7990-3704-LOGCUBE.fits', 'manga-7990-6101-LOGCUBE.fits', 'manga-7990-6102-LOGCUBE.fits', 'manga-7990-6103-LOGCUBE.fits', 'manga-7990-6104-LOGCUBE.fits', 'manga-7990-9101-LOGCUBE.fits', 'manga-7990-9102-LOGCUBE.fits', 'manga-7991-12701-LOGCUBE.fits', 'manga-7991-12702-LOGCUBE.fits', 'manga-7991-12703-LOGCUBE.fits', 'manga-7991-12704-LOGCUBE.fits', 'manga-7991-12705-LOGCUBE.fits', 'manga-7991-1901-LOGCUBE.fits', 'manga-7991-1902-LOGCUBE.fits', 'manga-7991-3701-LOGCUBE.fits', 'manga-7991-3702-LOGCUBE.fits', 'manga-7991-3703-LOGCUBE.fits', 'manga-7991-3704-LOGCUBE.fits', 'manga-7991-6101-LOGCUBE.fits', 'manga-7991-6102-LOGCUBE.fits', 'manga-7991-6103-LOGCUBE.fits', 'manga-7991-6104-LOGCUBE.fits', 'manga-7991-9101-LOGCUBE.fits', 'manga-7991-9102-LOGCUBE.fits', 'manga-7992-12701-LOGCUBE.fits', 'manga-7992-12702-LOGCUBE.fits', 'manga-7992-12703-LOGCUBE.fits', 'manga-7992-12704-LOGCUBE.fits', 'manga-7992-12705-LOGCUBE.fits', 'manga-7992-1901-LOGCUBE.fits', 'manga-7992-1902-LOGCUBE.fits', 'manga-7992-3701-LOGCUBE.fits', 'manga-7992-3702-LOGCUBE.fits', 'manga-7992-3703-LOGCUBE.fits', 'manga-7992-3704-LOGCUBE.fits', 'manga-7992-6101-LOGCUBE.fits', 'manga-7992-6102-LOGCUBE.fits', 'manga-7992-6103-LOGCUBE.fits', 'manga-7992-6104-LOGCUBE.fits', 'manga-7992-9101-LOGCUBE.fits', 'manga-7992-9102-LOGCUBE.fits', 'manga-7993-12701-LOGCUBE.fits', 'manga-7993-12702-LOGCUBE.fits', 'manga-7993-12703-LOGCUBE.fits', 'manga-7993-12704-LOGCUBE.fits', 'manga-7993-12705-LOGCUBE.fits', 'manga-7993-1901-LOGCUBE.fits', 'manga-7993-1902-LOGCUBE.fits', 'manga-7993-3701-LOGCUBE.fits', 'manga-7993-3702-LOGCUBE.fits', 'manga-7993-3703-LOGCUBE.fits', 'manga-7993-3704-LOGCUBE.fits', 'manga-7993-6101-LOGCUBE.fits', 'manga-7993-6102-LOGCUBE.fits', 'manga-7993-6103-LOGCUBE.fits', 'manga-7993-6104-LOGCUBE.fits', 'manga-7993-9101-LOGCUBE.fits', 'manga-7993-9102-LOGCUBE.fits', 'manga-8077-12701-LOGCUBE.fits', 'manga-8077-12702-LOGCUBE.fits', 'manga-8077-12703-LOGCUBE.fits', 'manga-8077-12704-LOGCUBE.fits', 'manga-8077-12705-LOGCUBE.fits', 'manga-8077-1901-LOGCUBE.fits', 'manga-8077-1902-LOGCUBE.fits', 'manga-8077-3701-LOGCUBE.fits', 'manga-8077-3702-LOGCUBE.fits', 'manga-8077-3703-LOGCUBE.fits', 'manga-8077-3704-LOGCUBE.fits', 'manga-8077-6101-LOGCUBE.fits', 'manga-8077-6102-LOGCUBE.fits', 'manga-8077-6103-LOGCUBE.fits', 'manga-8077-6104-LOGCUBE.fits', 'manga-8077-9101-LOGCUBE.fits', 'manga-8077-9102-LOGCUBE.fits', 'manga-8078-12701-LOGCUBE.fits', 'manga-8078-12702-LOGCUBE.fits', 'manga-8078-12703-LOGCUBE.fits', 'manga-8078-12704-LOGCUBE.fits', 'manga-8078-12705-LOGCUBE.fits', 'manga-8078-1901-LOGCUBE.fits', 'manga-8078-1902-LOGCUBE.fits', 'manga-8078-3701-LOGCUBE.fits', 'manga-8078-3702-LOGCUBE.fits', 'manga-8078-3703-LOGCUBE.fits', 'manga-8078-3704-LOGCUBE.fits', 'manga-8078-6101-LOGCUBE.fits', 'manga-8078-6102-LOGCUBE.fits', 'manga-8078-6103-LOGCUBE.fits', 'manga-8078-6104-LOGCUBE.fits', 'manga-8078-9101-LOGCUBE.fits', 'manga-8078-9102-LOGCUBE.fits', 'manga-8079-12701-LOGCUBE.fits', 'manga-8079-12702-LOGCUBE.fits', 'manga-8079-12703-LOGCUBE.fits', 'manga-8079-12704-LOGCUBE.fits', 'manga-8079-12705-LOGCUBE.fits', 'manga-8079-1901-LOGCUBE.fits', 'manga-8079-1902-LOGCUBE.fits', 'manga-8079-3701-LOGCUBE.fits', 'manga-8079-3702-LOGCUBE.fits', 'manga-8079-3703-LOGCUBE.fits', 'manga-8079-3704-LOGCUBE.fits', 'manga-8079-6101-LOGCUBE.fits', 'manga-8079-6102-LOGCUBE.fits', 'manga-8079-6103-LOGCUBE.fits', 'manga-8079-6104-LOGCUBE.fits', 'manga-8079-9101-LOGCUBE.fits', 'manga-8079-9102-LOGCUBE.fits', 'manga-8080-12701-LOGCUBE.fits', 'manga-8080-12702-LOGCUBE.fits', 'manga-8080-12703-LOGCUBE.fits', 'manga-8080-12704-LOGCUBE.fits', 'manga-8080-12705-LOGCUBE.fits', 'manga-8080-1901-LOGCUBE.fits', 'manga-8080-1902-LOGCUBE.fits', 'manga-8080-3701-LOGCUBE.fits', 'manga-8080-3702-LOGCUBE.fits', 'manga-8080-3703-LOGCUBE.fits', 'manga-8080-3704-LOGCUBE.fits', 'manga-8080-6101-LOGCUBE.fits', 'manga-8080-6102-LOGCUBE.fits', 'manga-8080-6103-LOGCUBE.fits', 'manga-8080-6104-LOGCUBE.fits', 'manga-8080-9101-LOGCUBE.fits', 'manga-8080-9102-LOGCUBE.fits', 'manga-8081-12701-LOGCUBE.fits', 'manga-8081-12702-LOGCUBE.fits', 'manga-8081-12703-LOGCUBE.fits', 'manga-8081-12704-LOGCUBE.fits', 'manga-8081-12705-LOGCUBE.fits', 'manga-8081-1901-LOGCUBE.fits', 'manga-8081-1902-LOGCUBE.fits', 'manga-8081-3701-LOGCUBE.fits', 'manga-8081-3702-LOGCUBE.fits', 'manga-8081-3703-LOGCUBE.fits', 'manga-8081-3704-LOGCUBE.fits', 'manga-8081-6101-LOGCUBE.fits', 'manga-8084-9101-LOGCUBE.fits.gz', 'manga-8084-9102-LOGCUBE.fits.gz', 'manga-8085-12701-LOGCUBE.fits.gz', 'manga-8085-12702-LOGCUBE.fits.gz', 'manga-8085-12703-LOGCUBE.fits.gz', 'manga-8085-12704-LOGCUBE.fits.gz', 'manga-8085-12705-LOGCUBE.fits.gz', 'manga-8085-1901-LOGCUBE.fits.gz', 'manga-8085-1902-LOGCUBE.fits.gz', 'manga-8085-3701-LOGCUBE.fits.gz', 'manga-8085-3702-LOGCUBE.fits.gz', 'manga-8085-3703-LOGCUBE.fits.gz', 'manga-8085-3704-LOGCUBE.fits.gz', 'manga-8085-6101-LOGCUBE.fits.gz', 'manga-8085-6102-LOGCUBE.fits.gz', 'manga-8085-6103-LOGCUBE.fits.gz', 'manga-8085-6104-LOGCUBE.fits.gz', 'manga-8085-9101-LOGCUBE.fits.gz', 'manga-8085-9102-LOGCUBE.fits.gz', 'manga-8086-12701-LOGCUBE.fits.gz', 'manga-8086-12702-LOGCUBE.fits.gz', 'manga-8086-12703-LOGCUBE.fits.gz', 'manga-8086-12704-LOGCUBE.fits.gz', 'manga-8086-12705-LOGCUBE.fits.gz', 'manga-8086-1901-LOGCUBE.fits.gz', 'manga-8086-1902-LOGCUBE.fits.gz', 'manga-8086-3701-LOGCUBE.fits.gz', 'manga-8086-3702-LOGCUBE.fits.gz', 'manga-8086-3703-LOGCUBE.fits.gz', 'manga-8086-3704-LOGCUBE.fits.gz', 'manga-8086-6101-LOGCUBE.fits.gz', 'manga-8086-6102-LOGCUBE.fits.gz', 'manga-8086-6103-LOGCUBE.fits.gz', 'manga-8086-6104-LOGCUBE.fits.gz', 'manga-8086-9101-LOGCUBE.fits.gz', 'manga-8086-9102-LOGCUBE.fits.gz', 'manga-8097-12701-LOGCUBE.fits.gz', 'manga-8097-12702-LOGCUBE.fits.gz', 'manga-8097-12703-LOGCUBE.fits.gz', 'manga-8097-12704-LOGCUBE.fits.gz', 'manga-8097-12705-LOGCUBE.fits.gz', 'manga-8097-1901-LOGCUBE.fits.gz', 'manga-8097-1902-LOGCUBE.fits.gz', 'manga-8097-3701-LOGCUBE.fits.gz', 'manga-8097-3702-LOGCUBE.fits.gz', 'manga-8097-3703-LOGCUBE.fits.gz', 'manga-8097-3704-LOGCUBE.fits.gz', 'manga-8097-6101-LOGCUBE.fits.gz', 'manga-8097-6102-LOGCUBE.fits.gz', 'manga-8097-6103-LOGCUBE.fits.gz', 'manga-8097-6104-LOGCUBE.fits.gz', 'manga-8097-9101-LOGCUBE.fits.gz', 'manga-8097-9102-LOGCUBE.fits.gz', 'manga-8131-12701-LOGCUBE.fits.gz', 'manga-8131-12702-LOGCUBE.fits.gz', 'manga-8131-12703-LOGCUBE.fits.gz', 'manga-8131-12704-LOGCUBE.fits.gz', 'manga-8131-12705-LOGCUBE.fits.gz', 'manga-8131-1901-LOGCUBE.fits.gz', 'manga-8131-1902-LOGCUBE.fits.gz', 'manga-8131-3701-LOGCUBE.fits.gz', 'manga-8131-3702-LOGCUBE.fits.gz', 'manga-8131-3703-LOGCUBE.fits.gz', 'manga-8131-3704-LOGCUBE.fits.gz', 'manga-8131-6101-LOGCUBE.fits.gz', 'manga-8131-6102-LOGCUBE.fits.gz', 'manga-8131-6103-LOGCUBE.fits.gz', 'manga-8131-6104-LOGCUBE.fits.gz', 'manga-8131-9101-LOGCUBE.fits.gz', 'manga-8131-9102-LOGCUBE.fits.gz', 'manga-8132-12701-LOGCUBE.fits.gz', 'manga-8132-12702-LOGCUBE.fits.gz', 'manga-8132-12703-LOGCUBE.fits.gz', 'manga-8132-12704-LOGCUBE.fits.gz', 'manga-8132-12705-LOGCUBE.fits.gz', 'manga-8132-1901-LOGCUBE.fits.gz', 'manga-8132-1902-LOGCUBE.fits.gz', 'manga-8132-3701-LOGCUBE.fits.gz', 'manga-8132-3702-LOGCUBE.fits.gz', 'manga-8132-3703-LOGCUBE.fits.gz', 'manga-8132-3704-LOGCUBE.fits.gz', 'manga-8132-6101-LOGCUBE.fits.gz', 'manga-8132-6102-LOGCUBE.fits.gz', 'manga-8132-6103-LOGCUBE.fits.gz', 'manga-8132-6104-LOGCUBE.fits.gz', 'manga-8132-9101-LOGCUBE.fits.gz', 'manga-8132-9102-LOGCUBE.fits.gz', 'manga-8133-12703-LOGCUBE.fits.gz', 'manga-8133-12704-LOGCUBE.fits.gz', 'manga-8133-12705-LOGCUBE.fits.gz', 'manga-8133-1901-LOGCUBE.fits.gz', 'manga-8133-1902-LOGCUBE.fits.gz', 'manga-8133-3701-LOGCUBE.fits.gz', 'manga-8133-3702-LOGCUBE.fits.gz', 'manga-8133-3703-LOGCUBE.fits.gz', 'manga-8133-3704-LOGCUBE.fits.gz', 'manga-8133-6101-LOGCUBE.fits.gz', 'manga-8133-6102-LOGCUBE.fits.gz', 'manga-8133-6103-LOGCUBE.fits.gz', 'manga-8133-6104-LOGCUBE.fits.gz', 'manga-8133-9101-LOGCUBE.fits.gz', 'manga-8133-9102-LOGCUBE.fits.gz', 'manga-8134-12701-LOGCUBE.fits.gz', 'manga-8134-12702-LOGCUBE.fits.gz', 'manga-8134-12703-LOGCUBE.fits.gz', 'manga-8134-12704-LOGCUBE.fits.gz', 'manga-8134-12705-LOGCUBE.fits.gz', 'manga-8134-1901-LOGCUBE.fits.gz', 'manga-8134-1902-LOGCUBE.fits.gz', 'manga-8134-3701-LOGCUBE.fits.gz', 'manga-8134-3702-LOGCUBE.fits.gz', 'manga-8134-3703-LOGCUBE.fits.gz', 'manga-8134-3704-LOGCUBE.fits.gz', 'manga-8134-6101-LOGCUBE.fits.gz', 'manga-8134-6102-LOGCUBE.fits.gz', 'manga-8134-6103-LOGCUBE.fits.gz', 'manga-8134-6104-LOGCUBE.fits.gz', 'manga-8134-9101-LOGCUBE.fits.gz', 'manga-8134-9102-LOGCUBE.fits.gz', 'manga-8135-12701-LOGCUBE.fits.gz', 'manga-8135-12702-LOGCUBE.fits.gz', 'manga-8135-12703-LOGCUBE.fits.gz', 'manga-8135-12704-LOGCUBE.fits.gz', 'manga-8135-12705-LOGCUBE.fits.gz', 'manga-8135-1901-LOGCUBE.fits.gz', 'manga-8135-1902-LOGCUBE.fits.gz', 'manga-8135-3701-LOGCUBE.fits.gz', 'manga-8135-3702-LOGCUBE.fits.gz', 'manga-8135-3703-LOGCUBE.fits.gz', 'manga-8135-3704-LOGCUBE.fits.gz', 'manga-8135-6101-LOGCUBE.fits.gz', 'manga-8135-6102-LOGCUBE.fits.gz', 'manga-8135-6103-LOGCUBE.fits.gz', 'manga-8135-6104-LOGCUBE.fits.gz', 'manga-8135-9101-LOGCUBE.fits.gz', 'manga-8135-9102-LOGCUBE.fits.gz', 'manga-8137-12701-LOGCUBE.fits.gz', 'manga-8137-12702-LOGCUBE.fits.gz', 'manga-8137-12703-LOGCUBE.fits.gz', 'manga-8137-12704-LOGCUBE.fits.gz', 'manga-8137-12705-LOGCUBE.fits.gz', 'manga-8137-1901-LOGCUBE.fits.gz', 'manga-8137-1902-LOGCUBE.fits.gz', 'manga-8137-3701-LOGCUBE.fits.gz', 'manga-8137-3702-LOGCUBE.fits.gz', 'manga-8137-3703-LOGCUBE.fits.gz', 'manga-8137-3704-LOGCUBE.fits.gz', 'manga-8137-6101-LOGCUBE.fits.gz', 'manga-8137-6102-LOGCUBE.fits.gz', 'manga-8137-6103-LOGCUBE.fits.gz', 'manga-8137-6104-LOGCUBE.fits.gz', 'manga-8137-9101-LOGCUBE.fits.gz', 'manga-8137-9102-LOGCUBE.fits.gz', 'manga-8138-12701-LOGCUBE.fits.gz', 'manga-8138-12702-LOGCUBE.fits.gz', 'manga-8138-12703-LOGCUBE.fits.gz', 'manga-8138-12704-LOGCUBE.fits.gz', 'manga-8138-12705-LOGCUBE.fits.gz', 'manga-8138-1901-LOGCUBE.fits.gz', 'manga-8138-3701-LOGCUBE.fits.gz', 'manga-8138-3702-LOGCUBE.fits.gz', 'manga-8138-3703-LOGCUBE.fits.gz', 'manga-8138-3704-LOGCUBE.fits.gz', 'manga-8138-6101-LOGCUBE.fits.gz', 'manga-8138-6102-LOGCUBE.fits.gz', 'manga-8138-6103-LOGCUBE.fits.gz', 'manga-8138-6104-LOGCUBE.fits.gz', 'manga-8138-9101-LOGCUBE.fits.gz', 'manga-8138-9102-LOGCUBE.fits.gz', 'manga-8139-12701-LOGCUBE.fits.gz', 'manga-8139-12702-LOGCUBE.fits.gz', 'manga-8139-12703-LOGCUBE.fits.gz', 'manga-8139-12704-LOGCUBE.fits.gz', 'manga-8139-12705-LOGCUBE.fits.gz', 'manga-8139-1901-LOGCUBE.fits.gz', 'manga-8139-1902-LOGCUBE.fits.gz', 'manga-8139-3701-LOGCUBE.fits.gz', 'manga-8139-3702-LOGCUBE.fits.gz', 'manga-8139-3703-LOGCUBE.fits.gz', 'manga-8139-3704-LOGCUBE.fits.gz', 'manga-8139-6101-LOGCUBE.fits.gz', 'manga-8139-6102-LOGCUBE.fits.gz', 'manga-8139-6103-LOGCUBE.fits.gz', 'manga-8139-6104-LOGCUBE.fits.gz', 'manga-8139-9101-LOGCUBE.fits.gz', 'manga-8139-9102-LOGCUBE.fits.gz', 'manga-8140-12701-LOGCUBE.fits.gz', 'manga-8140-12702-LOGCUBE.fits.gz', 'manga-8140-12703-LOGCUBE.fits.gz', 'manga-8140-12704-LOGCUBE.fits.gz', 'manga-8140-12705-LOGCUBE.fits.gz', 'manga-8140-1901-LOGCUBE.fits.gz', 'manga-8140-1902-LOGCUBE.fits.gz', 'manga-8140-3701-LOGCUBE.fits.gz', 'manga-8140-3702-LOGCUBE.fits.gz', 'manga-8140-3703-LOGCUBE.fits.gz', 'manga-8140-3704-LOGCUBE.fits.gz', 'manga-8140-6101-LOGCUBE.fits.gz', 'manga-8140-6102-LOGCUBE.fits.gz', 'manga-8140-6103-LOGCUBE.fits.gz', 'manga-8140-6104-LOGCUBE.fits.gz', 'manga-8140-9101-LOGCUBE.fits.gz', 'manga-8140-9102-LOGCUBE.fits.gz', 'manga-8141-12701-LOGCUBE.fits.gz', 'manga-8141-12702-LOGCUBE.fits.gz', 'manga-8141-12703-LOGCUBE.fits.gz', 'manga-8141-12704-LOGCUBE.fits.gz', 'manga-8141-12705-LOGCUBE.fits.gz', 'manga-8141-1901-LOGCUBE.fits.gz', 'manga-8141-1902-LOGCUBE.fits.gz', 'manga-8141-3701-LOGCUBE.fits.gz', 'manga-8141-3702-LOGCUBE.fits.gz', 'manga-8141-3703-LOGCUBE.fits.gz', 'manga-8141-3704-LOGCUBE.fits.gz', 'manga-8141-6101-LOGCUBE.fits.gz', 'manga-8141-6102-LOGCUBE.fits.gz', 'manga-8141-6103-LOGCUBE.fits.gz', 'manga-8141-6104-LOGCUBE.fits.gz', 'manga-8141-9101-LOGCUBE.fits.gz', 'manga-8141-9102-LOGCUBE.fits.gz', 'manga-8143-12701-LOGCUBE.fits.gz', 'manga-8143-12702-LOGCUBE.fits.gz', 'manga-8143-12703-LOGCUBE.fits.gz', 'manga-8143-12704-LOGCUBE.fits.gz', 'manga-8143-12705-LOGCUBE.fits.gz', 'manga-8143-1901-LOGCUBE.fits.gz', 'manga-8143-1902-LOGCUBE.fits.gz', 'manga-8143-3701-LOGCUBE.fits.gz', 'manga-8143-3702-LOGCUBE.fits.gz', 'manga-8143-3703-LOGCUBE.fits.gz', 'manga-8143-3704-LOGCUBE.fits.gz', 'manga-8143-6101-LOGCUBE.fits.gz', 'manga-8143-6102-LOGCUBE.fits.gz', 'manga-8143-6103-LOGCUBE.fits.gz', 'manga-8143-6104-LOGCUBE.fits.gz', 'manga-8143-9101-LOGCUBE.fits.gz', 'manga-8143-9102-LOGCUBE.fits.gz', 'manga-8144-12701-LOGCUBE.fits.gz', 'manga-8144-12702-LOGCUBE.fits.gz', 'manga-8144-12703-LOGCUBE.fits.gz', 'manga-8144-12704-LOGCUBE.fits.gz', 'manga-8144-12705-LOGCUBE.fits.gz', 'manga-8144-1901-LOGCUBE.fits.gz', 'manga-8144-1902-LOGCUBE.fits.gz', 'manga-8144-3701-LOGCUBE.fits.gz', 'manga-8144-3702-LOGCUBE.fits.gz', 'manga-8144-3703-LOGCUBE.fits.gz', 'manga-8144-3704-LOGCUBE.fits.gz']\n"
     ]
    }
   ],
   "source": [
    "tings = os.listdir(\"/Volumes/500GB/nmd299/data/mpl7\")[2:]\n",
    "print(tings)"
   ]
  },
  {
   "cell_type": "code",
   "execution_count": 32,
   "metadata": {},
   "outputs": [
    {
     "name": "stdout",
     "output_type": "stream",
     "text": [
      "1194\n",
      "1194\n",
      "1300\n"
     ]
    }
   ],
   "source": [
    "print(len(tings))\n",
    "#tings = [ting.replace('.gz','') for ting in tings]\n",
    "#print(tings)\n",
    "print(len(np.unique(tings)))\n",
    "print(len(np.unique(drpnos)))\n",
    "\n",
    "a = np.setdiff1d(drpnos,tings)"
   ]
  },
  {
   "cell_type": "code",
   "execution_count": 54,
   "metadata": {},
   "outputs": [
    {
     "name": "stdout",
     "output_type": "stream",
     "text": [
      "106\n",
      " plateifu \n",
      "----------\n",
      "10493-3704\n",
      "10493-6101\n",
      " 8081-6102\n",
      " 8081-6103\n",
      " 8081-6104\n",
      " 8081-9101\n",
      " 8081-9102\n",
      "8082-12701\n",
      "8082-12702\n",
      "8082-12703\n",
      "       ...\n",
      "8147-12701\n",
      "8147-12702\n",
      "8147-12703\n",
      "8147-12704\n",
      "8147-12705\n",
      " 8147-1901\n",
      " 8147-1902\n",
      " 8147-3701\n",
      " 8147-3702\n",
      " 8147-3703\n",
      " 8147-3704\n",
      "Length = 106 rows\n"
     ]
    }
   ],
   "source": [
    "print(len(a))\n",
    "print(a)"
   ]
  },
  {
   "cell_type": "code",
   "execution_count": 14,
   "metadata": {},
   "outputs": [
    {
     "data": {
      "text/plain": [
       "6661"
      ]
     },
     "execution_count": 14,
     "metadata": {},
     "output_type": "execute_result"
    }
   ],
   "source": [
    "len(index)"
   ]
  },
  {
   "cell_type": "code",
   "execution_count": 17,
   "metadata": {},
   "outputs": [
    {
     "data": {
      "text/html": [
       "&lt;Column name=&apos;plateifu&apos; dtype=&apos;bytes11&apos; length=250&gt;\n",
       "<table>\n",
       "<tr><td>10001-12701</td></tr>\n",
       "<tr><td>10001-12702</td></tr>\n",
       "<tr><td>10001-12703</td></tr>\n",
       "<tr><td>10001-12704</td></tr>\n",
       "<tr><td>10001-12705</td></tr>\n",
       "<tr><td>10001-1901</td></tr>\n",
       "<tr><td>10001-1902</td></tr>\n",
       "<tr><td>10001-3701</td></tr>\n",
       "<tr><td>10001-3702</td></tr>\n",
       "<tr><td>10001-3703</td></tr>\n",
       "<tr><td>10001-3704</td></tr>\n",
       "<tr><td>10001-6101</td></tr>\n",
       "<tr><td>...</td></tr>\n",
       "<tr><td>10493-12701</td></tr>\n",
       "<tr><td>10493-12702</td></tr>\n",
       "<tr><td>10493-12703</td></tr>\n",
       "<tr><td>10493-12704</td></tr>\n",
       "<tr><td>10493-12705</td></tr>\n",
       "<tr><td>10493-1901</td></tr>\n",
       "<tr><td>10493-1902</td></tr>\n",
       "<tr><td>10493-3701</td></tr>\n",
       "<tr><td>10493-3702</td></tr>\n",
       "<tr><td>10493-3703</td></tr>\n",
       "<tr><td>10493-3704</td></tr>\n",
       "<tr><td>10493-6101</td></tr>\n",
       "</table>"
      ],
      "text/plain": [
       "<Column name='plateifu' dtype='bytes11' length=250>\n",
       "10001-12701\n",
       "10001-12702\n",
       "10001-12703\n",
       "10001-12704\n",
       "10001-12705\n",
       " 10001-1901\n",
       " 10001-1902\n",
       " 10001-3701\n",
       " 10001-3702\n",
       " 10001-3703\n",
       " 10001-3704\n",
       " 10001-6101\n",
       "        ...\n",
       "10493-12701\n",
       "10493-12702\n",
       "10493-12703\n",
       "10493-12704\n",
       "10493-12705\n",
       " 10493-1901\n",
       " 10493-1902\n",
       " 10493-3701\n",
       " 10493-3702\n",
       " 10493-3703\n",
       " 10493-3704\n",
       " 10493-6101"
      ]
     },
     "execution_count": 17,
     "metadata": {},
     "output_type": "execute_result"
    }
   ],
   "source": [
    "plate_ifu[0:250]"
   ]
  },
  {
   "cell_type": "code",
   "execution_count": 8,
   "metadata": {},
   "outputs": [
    {
     "data": {
      "text/html": [
       "&lt;Column name=&apos;srvymode&apos; dtype=&apos;bytes12&apos; length=2&gt;\n",
       "<table>\n",
       "<tr><td>MaNGA 10min</td></tr>\n",
       "<tr><td>MaNGA dither</td></tr>\n",
       "</table>"
      ],
      "text/plain": [
       "<Column name='srvymode' dtype='bytes12' length=2>\n",
       " MaNGA 10min\n",
       "MaNGA dither"
      ]
     },
     "execution_count": 8,
     "metadata": {},
     "output_type": "execute_result"
    }
   ],
   "source": [
    "np.unique(drpall['srvymode'])"
   ]
  },
  {
   "cell_type": "code",
   "execution_count": 3,
   "metadata": {},
   "outputs": [],
   "source": [
    "def dn4000_red(wave,spec):\n",
    "        interp_spec = interp.interp1d(wave,spec)\n",
    "        red_wav = np.linspace(4000,4100,100)\n",
    "        d4000_r = np.sum(interp_spec(red_wav))\n",
    "        return d4000_r\n",
    "\n",
    "def dn4000_blue(wave,spec):\n",
    "    interp_spec = interp.interp1d(wave,spec)\n",
    "    blue_wav = np.linspace(3850,3950,100)\n",
    "    d4000_b =  np.sum(interp_spec(blue_wav))\n",
    "    return d4000_b\n",
    "\n",
    "def dn_4000(wave,specs):\n",
    "    dn_4000 = np.sum([dn4000_red(wave,specs[i]) for i in\n",
    "        range(len(specs))]) / np.sum([dn4000_blue(wave,specs[i])\n",
    "            for i in range(len(specs))])\n",
    "    return dn_4000"
   ]
  },
  {
   "cell_type": "code",
   "execution_count": 4,
   "metadata": {},
   "outputs": [],
   "source": [
    "#Hdelta\n",
    "bandw_HdA = np.logical_and(wave > 4083.500, wave < 4122.250)\n",
    "bandw_HdA_blueside = np.logical_and(wave > 4041.600, wave < 4079.750)\n",
    "bandw_HdA_redside = np.logical_and(wave > 4128.500, wave < 4161.000)\n",
    "blues = len(wave[bandw_HdA_blueside])\n",
    "reds = len(wave[bandw_HdA_redside])"
   ]
  },
  {
   "cell_type": "code",
   "execution_count": 5,
   "metadata": {},
   "outputs": [],
   "source": [
    "def tsum(xin, yin):\n",
    "    tsum = np.sum(np.abs((xin[1:]-xin[:-1]))*(yin[1:]+yin[:-1])/2. )\n",
    "    return tsum"
   ]
  },
  {
   "cell_type": "code",
   "execution_count": 6,
   "metadata": {},
   "outputs": [],
   "source": [
    "def HdA(specs):\n",
    "    spec_av_blueside = np.sum([np.sum(specs[i][bandw_HdA_blueside])\n",
    "        for i in range(len(specs))])/(blues*len(specs))\n",
    "    spec_av_redside = np.sum([np.sum(specs[i][bandw_HdA_redside])\n",
    "        for i in range(len(specs))])/(reds*len(specs))\n",
    "\n",
    "    a_spec = (spec_av_redside - spec_av_blueside)/(\n",
    "            (4161.000+4128.500)/2.0 - (4079.750+4041.600)/2.0)\n",
    "    b_spec = spec_av_blueside - a_spec * (4079.750+4041.600)/2\n",
    "    spec_cont_HdA = wave[bandw_HdA] * a_spec + b_spec\n",
    "    mean_dip = np.mean([specs[i][bandw_HdA] for i in range(len(specs))])\n",
    "    HdA = tsum(wave[bandw_HdA], np.divide(spec_cont_HdA - mean_dip, spec_cont_HdA))\n",
    "    return HdA"
   ]
  },
  {
   "cell_type": "code",
   "execution_count": 7,
   "metadata": {},
   "outputs": [],
   "source": [
    "def get_specs(galaxy, NX, NY):\n",
    "    x_ax = np.arange(0, NX) + 0.5 - (NX/2.0)\n",
    "    y = np.outer((np.arange(0, NX) + 0.5) - (NX/2.0), np.ones(NX))\n",
    "    x = np.transpose(y)\n",
    "    grid = np.sqrt((x*x+y*y))\n",
    "    #unravel the cube\n",
    "    spectra = []\n",
    "    for i in range(NX):\n",
    "        for j in range(NY):\n",
    "            thing = galaxy[:,i,j]\n",
    "            spectra.append(thing)\n",
    "\n",
    "    spectra = np.array(spectra)\n",
    "    #3 arcsec aperture\n",
    "    radii = np.ravel(grid)\n",
    "    index = np.where(radii<=3.0)[0]\n",
    "    spaxels_within = spectra[index]\n",
    "    return(spaxels_within)\n"
   ]
  },
  {
   "cell_type": "code",
   "execution_count": 8,
   "metadata": {},
   "outputs": [],
   "source": [
    "fits_files = ['manga-'+ str(plate_ifu[i]) + '-LOGCUBE.fits' for i in range(470)]"
   ]
  },
  {
   "cell_type": "code",
   "execution_count": 9,
   "metadata": {},
   "outputs": [
    {
     "name": "stdout",
     "output_type": "stream",
     "text": [
      "321\n",
      "322\n",
      "323\n",
      "324\n"
     ]
    }
   ],
   "source": [
    "n = []\n",
    "dn4 = []\n",
    "hda = []\n",
    "\n",
    "# drp_logcube = fits.open(fits_files[i])\n",
    "# wave = drp_logcube['WAVE'].data\n",
    "\n",
    "for i in range(321,325):\n",
    "    drp_logcube = fits.open(fits_files[i])\n",
    "    wave = drp_logcube['WAVE'].data\n",
    "    print(i)\n",
    "    #print(wavez)\n",
    "#     NL, NY, NX = drp_logcube['FLUX'].data.shape\n",
    "#     n.append([NX,NY])\n",
    "#     flux = drp_logcube['FLUX'].data\n",
    "#     specs = get_specs(flux, NX, NY)\n",
    "#     hdelta = HdA(specs)\n",
    "#     dn4000 = dn_4000(wave,specs)\n",
    "#     dn4.append(dn4000)\n",
    "#     hda.append(hdelta)\n",
    "\n",
    "#print(dn4, hda)\n",
    "dn4 = np.array(dn4)\n",
    "hda = np.array(hda)\n",
    "stuff = np.column_stack((dn4,hda))"
   ]
  },
  {
   "cell_type": "code",
   "execution_count": null,
   "metadata": {},
   "outputs": [],
   "source": [
    "plt.scatter(dn4,hda)\n",
    "plt.show()"
   ]
  },
  {
   "cell_type": "code",
   "execution_count": null,
   "metadata": {},
   "outputs": [],
   "source": [
    "print(plate_ifu[0:250], min(plate_ifu[0:250]), max(plate_ifu[0:250]))"
   ]
  },
  {
   "cell_type": "code",
   "execution_count": 20,
   "metadata": {},
   "outputs": [],
   "source": [
    "woo = [plate_ifu[i] for i in range(318,322)]"
   ]
  },
  {
   "cell_type": "code",
   "execution_count": 21,
   "metadata": {},
   "outputs": [
    {
     "data": {
      "text/plain": [
       "4"
      ]
     },
     "execution_count": 21,
     "metadata": {},
     "output_type": "execute_result"
    }
   ],
   "source": [
    "len(woo)"
   ]
  },
  {
   "cell_type": "code",
   "execution_count": 10,
   "metadata": {},
   "outputs": [
    {
     "name": "stdout",
     "output_type": "stream",
     "text": [
      "manga-7977-12702-LOGCUBE.fits\n"
     ]
    }
   ],
   "source": [
    "print(fits_files[320])"
   ]
  },
  {
   "cell_type": "code",
   "execution_count": 11,
   "metadata": {},
   "outputs": [
    {
     "name": "stderr",
     "output_type": "stream",
     "text": [
      "WARNING: File may have been truncated: actual file length (22085632) is smaller than the expected size (105442560) [astropy.io.fits.file]\n"
     ]
    },
    {
     "ename": "KeyError",
     "evalue": "\"Extension 'WAVE' not found.\"",
     "output_type": "error",
     "traceback": [
      "\u001b[0;31m---------------------------------------------------------------------------\u001b[0m",
      "\u001b[0;31mKeyError\u001b[0m                                  Traceback (most recent call last)",
      "\u001b[0;32m<ipython-input-11-c61e0779be77>\u001b[0m in \u001b[0;36m<module>\u001b[0;34m()\u001b[0m\n\u001b[1;32m      1\u001b[0m \u001b[0mdrp_logcube\u001b[0m \u001b[0;34m=\u001b[0m \u001b[0mfits\u001b[0m\u001b[0;34m.\u001b[0m\u001b[0mopen\u001b[0m\u001b[0;34m(\u001b[0m\u001b[0mfits_files\u001b[0m\u001b[0;34m[\u001b[0m\u001b[0;36m320\u001b[0m\u001b[0;34m]\u001b[0m\u001b[0;34m)\u001b[0m\u001b[0;34m\u001b[0m\u001b[0m\n\u001b[0;32m----> 2\u001b[0;31m \u001b[0mwave\u001b[0m \u001b[0;34m=\u001b[0m \u001b[0mdrp_logcube\u001b[0m\u001b[0;34m[\u001b[0m\u001b[0;34m'WAVE'\u001b[0m\u001b[0;34m]\u001b[0m\u001b[0;34m.\u001b[0m\u001b[0mdata\u001b[0m\u001b[0;34m\u001b[0m\u001b[0m\n\u001b[0m",
      "\u001b[0;32m/usr/local/lib/python3.6/site-packages/astropy/io/fits/hdu/hdulist.py\u001b[0m in \u001b[0;36m__getitem__\u001b[0;34m(self, key)\u001b[0m\n\u001b[1;32m    313\u001b[0m         \u001b[0;32mtry\u001b[0m\u001b[0;34m:\u001b[0m\u001b[0;34m\u001b[0m\u001b[0m\n\u001b[1;32m    314\u001b[0m             return self._try_while_unread_hdus(super().__getitem__,\n\u001b[0;32m--> 315\u001b[0;31m                                                self._positive_index_of(key))\n\u001b[0m\u001b[1;32m    316\u001b[0m         \u001b[0;32mexcept\u001b[0m \u001b[0mIndexError\u001b[0m \u001b[0;32mas\u001b[0m \u001b[0me\u001b[0m\u001b[0;34m:\u001b[0m\u001b[0;34m\u001b[0m\u001b[0m\n\u001b[1;32m    317\u001b[0m             \u001b[0;31m# Raise a more helpful IndexError if the file was not fully read.\u001b[0m\u001b[0;34m\u001b[0m\u001b[0;34m\u001b[0m\u001b[0m\n",
      "\u001b[0;32m/usr/local/lib/python3.6/site-packages/astropy/io/fits/hdu/hdulist.py\u001b[0m in \u001b[0;36m_positive_index_of\u001b[0;34m(self, key)\u001b[0m\n\u001b[1;32m    702\u001b[0m         \"\"\"\n\u001b[1;32m    703\u001b[0m \u001b[0;34m\u001b[0m\u001b[0m\n\u001b[0;32m--> 704\u001b[0;31m         \u001b[0mindex\u001b[0m \u001b[0;34m=\u001b[0m \u001b[0mself\u001b[0m\u001b[0;34m.\u001b[0m\u001b[0mindex_of\u001b[0m\u001b[0;34m(\u001b[0m\u001b[0mkey\u001b[0m\u001b[0;34m)\u001b[0m\u001b[0;34m\u001b[0m\u001b[0m\n\u001b[0m\u001b[1;32m    705\u001b[0m \u001b[0;34m\u001b[0m\u001b[0m\n\u001b[1;32m    706\u001b[0m         \u001b[0;32mif\u001b[0m \u001b[0mindex\u001b[0m \u001b[0;34m>=\u001b[0m \u001b[0;36m0\u001b[0m\u001b[0;34m:\u001b[0m\u001b[0;34m\u001b[0m\u001b[0m\n",
      "\u001b[0;32m/usr/local/lib/python3.6/site-packages/astropy/io/fits/hdu/hdulist.py\u001b[0m in \u001b[0;36mindex_of\u001b[0;34m(self, key)\u001b[0m\n\u001b[1;32m    683\u001b[0m \u001b[0;34m\u001b[0m\u001b[0m\n\u001b[1;32m    684\u001b[0m         \u001b[0;32mif\u001b[0m \u001b[0;34m(\u001b[0m\u001b[0mfound\u001b[0m \u001b[0;32mis\u001b[0m \u001b[0;32mNone\u001b[0m\u001b[0;34m)\u001b[0m\u001b[0;34m:\u001b[0m\u001b[0;34m\u001b[0m\u001b[0m\n\u001b[0;32m--> 685\u001b[0;31m             \u001b[0;32mraise\u001b[0m \u001b[0mKeyError\u001b[0m\u001b[0;34m(\u001b[0m\u001b[0;34m'Extension {!r} not found.'\u001b[0m\u001b[0;34m.\u001b[0m\u001b[0mformat\u001b[0m\u001b[0;34m(\u001b[0m\u001b[0mkey\u001b[0m\u001b[0;34m)\u001b[0m\u001b[0;34m)\u001b[0m\u001b[0;34m\u001b[0m\u001b[0m\n\u001b[0m\u001b[1;32m    686\u001b[0m         \u001b[0;32melse\u001b[0m\u001b[0;34m:\u001b[0m\u001b[0;34m\u001b[0m\u001b[0m\n\u001b[1;32m    687\u001b[0m             \u001b[0;32mreturn\u001b[0m \u001b[0mfound\u001b[0m\u001b[0;34m\u001b[0m\u001b[0m\n",
      "\u001b[0;31mKeyError\u001b[0m: \"Extension 'WAVE' not found.\""
     ]
    }
   ],
   "source": [
    "drp_logcube = fits.open(fits_files[320])\n",
    "wave = drp_logcube['WAVE'].data"
   ]
  },
  {
   "cell_type": "code",
   "execution_count": null,
   "metadata": {},
   "outputs": [],
   "source": []
  }
 ],
 "metadata": {
  "kernelspec": {
   "display_name": "Python [default]",
   "language": "python",
   "name": "python3"
  },
  "language_info": {
   "codemirror_mode": {
    "name": "ipython",
    "version": 3
   },
   "file_extension": ".py",
   "mimetype": "text/x-python",
   "name": "python",
   "nbconvert_exporter": "python",
   "pygments_lexer": "ipython3",
   "version": "3.6.6"
  }
 },
 "nbformat": 4,
 "nbformat_minor": 2
}
