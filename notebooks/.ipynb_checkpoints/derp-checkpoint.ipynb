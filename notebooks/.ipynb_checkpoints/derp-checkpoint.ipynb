{
 "cells": [
  {
   "cell_type": "code",
   "execution_count": 1,
   "metadata": {},
   "outputs": [],
   "source": [
    "import numpy as np\n",
    "import pyfits\n",
    "import math\n",
    "from math import log10\n",
    "import matplotlib.pyplot as plt\n",
    "import scipy\n",
    "from scipy.stats import binned_statistic\n",
    "from scipy.stats import binned_statistic_2d\n",
    "from matplotlib import rc\n",
    "import pickle\n",
    "import os\n",
    "import astropy as ap\n",
    "from astropy.cosmology import WMAP7\n",
    "from scipy import interpolate\n",
    "import corner\n",
    "import matplotlib.patheffects as patheffects\n",
    "from matplotlib import rcParams\n",
    "from matplotlib.path import Path\n",
    "import matplotlib.patches as patches\n",
    "import matplotlib as mpl\n",
    "from matplotlib import rc\n",
    "from matplotlib import colors\n",
    "from __future__ import unicode_literals\n",
    "# rcParams[\"font.size\"] = 16\n",
    "rcParams[\"font.family\"] = \"sans-serif\"\n",
    "rcParams[\"font.sans-serif\"] = [\"Computer Modern Sans\"]\n",
    "rcParams[\"text.usetex\"] = True\n",
    "rcParams[\"text.latex.preamble\"] = r\"\\usepackage{cmbright}\"\n",
    "\n",
    "rcParams['xtick.major.pad']='10'\n",
    "rcParams['ytick.major.pad']='10'\n",
    "\n",
    "# rcParams['font.family'] = 'serif'\n",
    "# rcParams['font.serif'] = 'Ubuntu'\n",
    "# rcParams['font.monospace'] = 'Ubuntu Mono'\n",
    "rcParams['font.size'] = 20\n",
    "rcParams['axes.labelsize'] = 17\n",
    "rcParams['axes.labelweight'] = 'bold'\n",
    "rcParams['axes.titlesize'] = 16\n",
    "rcParams['xtick.labelsize'] = 13\n",
    "rcParams['ytick.labelsize'] = 13\n",
    "rcParams['legend.fontsize'] = 15\n",
    "rcParams['figure.titlesize'] = 1\n",
    "\n",
    "\n"
   ]
  },
  {
   "cell_type": "code",
   "execution_count": 2,
   "metadata": {},
   "outputs": [
    {
     "ename": "SyntaxError",
     "evalue": "invalid syntax (<ipython-input-2-4001d2f6d340>, line 1)",
     "output_type": "error",
     "traceback": [
      "\u001b[0;36m  File \u001b[0;32m\"<ipython-input-2-4001d2f6d340>\"\u001b[0;36m, line \u001b[0;32m1\u001b[0m\n\u001b[0;31m    oschdir(../mpl7)\u001b[0m\n\u001b[0m            ^\u001b[0m\n\u001b[0;31mSyntaxError\u001b[0m\u001b[0;31m:\u001b[0m invalid syntax\n"
     ]
    }
   ],
   "source": [
    "oschdir(/mpl7)\n",
    "\n",
    "a = pyfits.open(\"drpall-v2_4_3.fits\")\n",
    "a = a[1].data\n",
    "print(a.columns)"
   ]
  },
  {
   "cell_type": "code",
   "execution_count": null,
   "metadata": {},
   "outputs": [],
   "source": []
  },
  {
   "cell_type": "code",
   "execution_count": 17,
   "metadata": {},
   "outputs": [
    {
     "name": "stdout",
     "output_type": "stream",
     "text": [
      "11465\n",
      "34\n",
      "[228137 116913 102256 150984 230855 151023 150990 102317 151006 102206\n",
      " 102198 130514  63894 150980 230927 150795 102252 228195 130525 209153\n",
      " 102195 150970 150782 102312 209134 228132 102246 150971 150892 102259\n",
      " 102241 150982 102261 150981]\n",
      "11465\n",
      "4682\n",
      "6719\n",
      "64\n",
      "11465\n",
      "['v1_0_1' '-9999' 'v1_0_1' ... 'v1_0_1' 'v1_0_1' '-9999']\n"
     ]
    }
   ],
   "source": [
    "id1 = a['nsa_nsaid_v1b']\n",
    "print(len(id1))\n",
    "print(len(id1[id1>0]))\n",
    "print(id1[id1>0])\n",
    "\n",
    "id1 = a['nsa_nsaid']\n",
    "b = a['nsa_z']\n",
    "print(len(id1))\n",
    "print(len(id1[id1>0]))\n",
    "print(len(b[id1<0]))\n",
    "print(len(b[id1==0]))\n",
    "\n",
    "id1 = a['nsa_version']\n",
    "print(len(id1))\n",
    "print(id1)"
   ]
  },
  {
   "cell_type": "code",
   "execution_count": 23,
   "metadata": {},
   "outputs": [
    {
     "name": "stdout",
     "output_type": "stream",
     "text": [
      "4609\n",
      "11465\n"
     ]
    }
   ],
   "source": [
    "print(len(np.unique(a['nsa_nsaid'])))\n",
    "print(len(np.unique(a['plateifu'])))"
   ]
  },
  {
   "cell_type": "code",
   "execution_count": null,
   "metadata": {},
   "outputs": [],
   "source": []
  }
 ],
 "metadata": {
  "kernelspec": {
   "display_name": "Python 3",
   "language": "python",
   "name": "python3"
  },
  "language_info": {
   "codemirror_mode": {
    "name": "ipython",
    "version": 3
   },
   "file_extension": ".py",
   "mimetype": "text/x-python",
   "name": "python",
   "nbconvert_exporter": "python",
   "pygments_lexer": "ipython3",
   "version": "3.6.5"
  }
 },
 "nbformat": 4,
 "nbformat_minor": 2
}
