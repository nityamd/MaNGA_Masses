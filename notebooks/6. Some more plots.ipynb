{
 "cells": [
  {
   "cell_type": "code",
   "execution_count": 2,
   "metadata": {},
   "outputs": [],
   "source": [
    "import numpy as np\n",
    "import pandas as pd\n",
    "\n",
    "from scipy.stats import binned_statistic_2d\n",
    "from scipy.interpolate import griddata, interp2d\n",
    "import pickle\n",
    "import os\n",
    "\n",
    "\n",
    "import astropy as ap\n",
    "from astropy.io import fits\n",
    "from astropy import table as t\n",
    "from astropy.table import Table\n",
    "from astropy import wcs\n",
    "from astropy.cosmology import WMAP7\n",
    "\n",
    "import matplotlib.pyplot as plt\n",
    "import matplotlib.patheffects as patheffects\n",
    "from matplotlib import rcParams\n",
    "from matplotlib.path import Path\n",
    "import matplotlib.patches as patches\n",
    "import matplotlib as mpl\n",
    "from matplotlib import rc\n",
    "from matplotlib import colors\n",
    "from matplotlib.colors import LogNorm\n",
    "\n",
    "rcParams[\"font.family\"] = \"sans-serif\"\n",
    "rcParams[\"font.sans-serif\"] = [\"Computer Modern Sans\"]\n",
    "rcParams[\"text.usetex\"] = True\n",
    "rcParams[\"text.latex.preamble\"] = r\"\\usepackage{cmbright}\"\n",
    "rcParams['xtick.major.pad']='10'\n",
    "rcParams['ytick.major.pad']='10'\n",
    "rcParams['font.size'] = 22\n",
    "rcParams['axes.labelsize'] = 22\n",
    "rcParams['axes.labelweight'] = 'bold'\n",
    "rcParams['axes.titlesize'] = 17\n",
    "rcParams['xtick.labelsize'] = 17\n",
    "rcParams['ytick.labelsize'] = 17\n",
    "rcParams['legend.fontsize'] = 15\n",
    "rcParams['figure.titlesize'] = 1"
   ]
  },
  {
   "cell_type": "code",
   "execution_count": 3,
   "metadata": {},
   "outputs": [
    {
     "data": {
      "text/plain": [
       "Index(['Unnamed: 0', 'plate_ifu', 'z', 'hd_z', 'd4_z', 'hd_all', 'd4_all',\n",
       "       'offset_hd', 'offset_d4', 'mlz_z', 'mlz_all', 'offset_mlz'],\n",
       "      dtype='object')"
      ]
     },
     "execution_count": 3,
     "metadata": {},
     "output_type": "execute_result"
    }
   ],
   "source": [
    "os.chdir('/Users/nitya/Work/Data/Project2')\n",
    "\n",
    "d1 = pd.read_csv('offset_mlratio_nearest_nonmodel_0.02.csv')\n",
    "d2 = pd.read_csv('offset_mlratio_nearest_nonmodel_0.06.csv')\n",
    "d3 = pd.read_csv('offset_mlratio_nearest_nonmodel_0.14.csv')\n",
    "d1.columns"
   ]
  },
  {
   "cell_type": "code",
   "execution_count": 35,
   "metadata": {},
   "outputs": [],
   "source": [
    "t1a = binned_statistic_2d(d1['d4_z'],d1['hd_z'],d1['offset_mlz'],\n",
    "                         statistic = 'mean',bins=(20,20))\n",
    "t1b = binned_statistic_2d(d1['d4_z'],d1['hd_z'],d1['offset_mlz'], \n",
    "                          statistic = np.std, bins=(20,20))\n",
    "tcount1 = binned_statistic_2d(d1['d4_z'],d1['hd_z'],d1['z'], \n",
    "                             statistic = 'count',bins=(20,20))\n",
    "yedges1 = t1a[1]\n",
    "xedges1 = t1a[2]\n",
    "\n",
    "t2a = binned_statistic_2d(d2['d4_z'],d2['hd_z'],d2['offset_mlz'], \n",
    "                         statistic = 'mean',bins=(yedges1,xedges1))\n",
    "t2b = binned_statistic_2d(d2['d4_z'],d2['hd_z'],d2['offset_mlz'], \n",
    "                         statistic = np.std,bins=(yedges1,xedges1))\n",
    "tcount2 = binned_statistic_2d(d2['d4_z'],d2['hd_z'],d2['offset_mlz'], \n",
    "                             statistic = 'count',bins=(yedges1,xedges1))\n",
    "\n",
    "t3a = binned_statistic_2d(d3['d4_z'],d3['hd_z'],d3['offset_mlz'], \n",
    "                         statistic = 'mean',bins=(yedges1,xedges1))\n",
    "t3b = binned_statistic_2d(d3['d4_z'],d3['hd_z'],d3['offset_mlz'], \n",
    "                         statistic = np.std,bins=(yedges1,xedges1))\n",
    "tcount3 = binned_statistic_2d(d3['d4_z'],d3['hd_z'],d3['offset_mlz'], \n",
    "                             statistic = 'count',bins=(yedges1,xedges1))\n",
    "\n",
    "\n",
    "offset1 = np.ma.array(t1a[0], mask = tcount1[0] <= 3)\n",
    "offset2 = np.ma.array(t2a[0], mask = tcount2[0] <= 3)\n",
    "offset3 = np.ma.array(t3a[0], mask = tcount3[0] <= 3)\n",
    "disp1 = np.ma.array(t1b[0], mask = tcount1[0] <= 3)\n",
    "disp2 = np.ma.array(t2b[0], mask = tcount2[0] <= 3)\n",
    "disp3 = np.ma.array(t3b[0], mask = tcount3[0] <= 3)"
   ]
  },
  {
   "cell_type": "code",
   "execution_count": 36,
   "metadata": {},
   "outputs": [
    {
     "name": "stdout",
     "output_type": "stream",
     "text": [
      "-0.14698824083365458 -0.46866490579254383 -0.279785702758425\n",
      "0.378550331878125 0.23558278798818205 0.18124436508766\n",
      "0.012702427016746622 0.04300085473717657 0.03373276913638832\n",
      "1.259446844081615 0.9700660434766211 0.6481195864075531\n"
     ]
    }
   ],
   "source": [
    "print(np.min(offset1),np.min(offset2),np.min(offset3))\n",
    "print(np.max(offset1),np.max(offset2),np.max(offset3))\n",
    "print(np.min(disp1),np.min(disp2),np.min(disp3))\n",
    "print(np.max(disp1),np.max(disp2),np.max(disp3))"
   ]
  },
  {
   "cell_type": "code",
   "execution_count": 37,
   "metadata": {},
   "outputs": [
    {
     "name": "stdout",
     "output_type": "stream",
     "text": [
      "[-0.59466631 -0.65938631 -1.04776191]\n"
     ]
    },
    {
     "data": {
      "text/plain": [
       "array([0.44275239, 0.36678883, 0.42926949])"
      ]
     },
     "execution_count": 37,
     "metadata": {},
     "output_type": "execute_result"
    }
   ],
   "source": [
    "print(np.log10([0.25429258331895965, 0.2190855293342584, 0.0895855759235279]))\n",
    "np.log10([2.7717393684489102, 2.3269595233120435, 2.68701127054451])"
   ]
  },
  {
   "cell_type": "code",
   "execution_count": 39,
   "metadata": {},
   "outputs": [
    {
     "data": {
      "image/png": "[encoded data removed]",
      "text/plain": [
       "<Figure size 864x720 with 8 Axes>"
      ]
     },
     "metadata": {
      "needs_background": "light"
     },
     "output_type": "display_data"
    }
   ],
   "source": [
    "fig, ax = plt.subplots(2, 3, figsize = (12,10))\n",
    "\n",
    "bounds2 = np.linspace(-0.5, 0.5, 21)\n",
    "norm2 = colors.BoundaryNorm(boundaries=bounds2, ncolors=256)\n",
    "#bounds1 = np.linspace(0.005, 1.0, 21)\n",
    "norm1 = colors.LogNorm(0.01,1.3)\n",
    "#norm1 = colors.BoundaryNorm(np.linspace(0.01,1.3,21), ncolors=256)\n",
    "\n",
    "\n",
    "cs1a = ax[0,0].pcolormesh(yedges1,xedges1,(np.transpose(offset1)),\n",
    "                         cmap = plt.cm.coolwarm, norm = norm2)\n",
    "cs2a = ax[0,1].pcolormesh(yedges1,xedges1,(np.transpose(offset2)), \n",
    "                         cmap = plt.cm.coolwarm, norm = norm2)\n",
    "cs3a = ax[0,2].pcolormesh(yedges1,xedges1,(np.transpose(offset3)), \n",
    "                         cmap = plt.cm.coolwarm, norm =norm2)\n",
    "\n",
    "cs1b = ax[1,0].pcolormesh(yedges1,xedges1,np.transpose(disp1), \n",
    "                          cmap = plt.cm.YlGn, norm = norm1)\n",
    "cs2b = ax[1,1].pcolormesh(yedges1,xedges1,np.transpose(disp2), \n",
    "                          cmap = plt.cm.YlGn, norm = norm1)\n",
    "cs3b = ax[1,2].pcolormesh(yedges1,xedges1,np.transpose(disp3), \n",
    "                          cmap = plt.cm.YlGn, norm = norm1)\n",
    "ax[0,0].set_xlim(0.8,2.2)\n",
    "ax[0,0].set_ylim(-10,10)\n",
    "ax[0,0].set_xticks([1.0,1.5,2.0])\n",
    "ax[0,0].xaxis.set_ticklabels([])\n",
    "ax[0,0].yaxis.set_ticks([-10,-5,0,5])\n",
    "ax[1,0].set_xlim(0.8,2.2)\n",
    "ax[1,0].set_ylim(-10,10)\n",
    "ax[1,0].set_xticks([1.0,1.5,2.0])\n",
    "ax[1,0].yaxis.set_ticks([-10,-5,0,5])\n",
    "ax[0,1].set_xlim(0.8,2.2)\n",
    "ax[0,1].set_ylim(-10,10)\n",
    "ax[0,1].set_xticks([1.0,1.5,2.0])\n",
    "ax[0,1].set_yticks([-10,-5,0,5])\n",
    "ax[0,1].xaxis.set_ticklabels([])\n",
    "ax[0,1].yaxis.set_ticklabels([])\n",
    "ax[1,1].set_xlim(0.8,2.2)\n",
    "ax[1,1].set_ylim(-10,10)\n",
    "ax[1,1].set_xticks([1.0,1.5,2.0])\n",
    "ax[1,1].yaxis.set_ticklabels([])\n",
    "ax[0,2].set_xlim(0.8,2.2)\n",
    "ax[0,2].set_ylim(-10,10)\n",
    "ax[0,2].set_yticks([-10,-5,0,5])\n",
    "ax[0,2].set_xticks([1.0,1.5,2.0])\n",
    "ax[0,2].yaxis.set_ticklabels([])\n",
    "ax[1,2].set_xlim(0.8,2.2)\n",
    "ax[1,2].set_ylim(-10,10)\n",
    "ax[1,2].yaxis.set_ticklabels([])\n",
    "\n",
    "\n",
    "cbar_ax1 = fig.add_axes([0.14, 0.85, 0.3, 0.01])\n",
    "cb1 = fig.colorbar(cs1a,orientation = 'horizontal', cax=cbar_ax1)\n",
    "cb1.ax.xaxis.set_ticks_position('top')\n",
    "cb1.ax.tick_params(labelsize=13)\n",
    "#cb1.set_clim(-0.16,0.16)\n",
    "#cb1.set_ticks([-0.15,-0.1,-0.05,0,0.05,0.1,0.15])\n",
    "\n",
    "cbar_ax2 = fig.add_axes([0.58, 0.85, 0.3, 0.01])\n",
    "cb2 = fig.colorbar(cs1b,orientation = 'horizontal', cax=cbar_ax2)\n",
    "cb2.ax.xaxis.set_ticks_position('top')\n",
    "cb2.ax.tick_params(labelsize=13)\n",
    "\n",
    "fig.text(0.32, 0.79, 'Mean Offset',\n",
    "         ha='center', va='center', fontsize = 15)\n",
    "fig.text(0.58, 0.79, 'Mean Offset',\n",
    "         ha='center', va='center', fontsize = 15)\n",
    "fig.text(0.84, 0.79, r'Mean Offset',\n",
    "         ha='center', va='center', fontsize = 15)\n",
    "\n",
    "fig.text(0.305, 0.43, 'Mean Dispersion',\n",
    "         ha='center', va='center', fontsize = 15)\n",
    "fig.text(0.565, 0.43, 'Mean Dispersion',\n",
    "         ha='center', va='center', fontsize = 15)\n",
    "fig.text(0.825, 0.43, r'Mean Dispersion',\n",
    "         ha='center', va='center', fontsize = 15)\n",
    "\n",
    "fig.text(0.19, 0.53, r'$z = 0.02$',\n",
    "         ha='center', va='center', fontsize = 20)\n",
    "fig.text(0.45, 0.53, r'$z = 0.06$',\n",
    "         ha='center', va='center', fontsize = 20)\n",
    "fig.text(0.71, 0.53, r'$z = 0.14$',\n",
    "         ha='center', va='center', fontsize = 20)\n",
    "\n",
    "fig.text(0.19, 0.17, r'$z = 0.02$',\n",
    "         ha='center', va='center', fontsize = 20)\n",
    "fig.text(0.45, 0.17, r'$z = 0.06$',\n",
    "         ha='center', va='center', fontsize = 20)\n",
    "fig.text(0.71, 0.17, r'$z = 0.14$',\n",
    "         ha='center', va='center', fontsize = 20)\n",
    "\n",
    "fig.text(0.495, 0.05, r'$D_{\\rm n}4000$', \n",
    "         ha='center', va='center', fontsize = 25)\n",
    "fig.text(0.05, 0.5, r'$H\\delta_{\\rm A}$', \n",
    "          rotation=90, ha='center', va='center', fontsize = 25)\n",
    "\n",
    "fig.text(0.5, 0.95, 'M/L Offset',\n",
    "         ha='center', va='center', fontsize = 25)\n",
    "\n",
    "filename = \"/Users/nitya/Desktop/ml_offset_plot.pdf\"\n",
    "plt.gcf().subplots_adjust(wspace=0, hspace = 0, top = 0.83)\n",
    "plt.savefig(filename)\n",
    "plt.show()"
   ]
  },
  {
   "cell_type": "code",
   "execution_count": 30,
   "metadata": {},
   "outputs": [],
   "source": [
    "t1a = binned_statistic_2d(d1['d4_z'],d1['hd_z'],d1['offset_d4'],\n",
    "                         statistic = 'mean',bins=(20,20))\n",
    "t1b = binned_statistic_2d(d1['d4_z'],d1['hd_z'],d1['offset_d4'], \n",
    "                          statistic = np.std, bins=(20,20))\n",
    "tcount1 = binned_statistic_2d(d1['d4_z'],d1['hd_z'],d1['z'], \n",
    "                             statistic = 'count',bins=(20,20))\n",
    "yedges1 = t1a[1]\n",
    "xedges1 = t1a[2]\n",
    "\n",
    "t2a = binned_statistic_2d(d2['d4_z'],d2['hd_z'],d2['offset_d4'], \n",
    "                         statistic = 'mean',bins=(yedges1,xedges1))\n",
    "t2b = binned_statistic_2d(d2['d4_z'],d2['hd_z'],d2['offset_d4'], \n",
    "                         statistic = np.std,bins=(yedges1,xedges1))\n",
    "tcount2 = binned_statistic_2d(d2['d4_z'],d2['hd_z'],d2['offset_d4'], \n",
    "                             statistic = 'count',bins=(yedges1,xedges1))\n",
    "\n",
    "t3a = binned_statistic_2d(d3['d4_z'],d3['hd_z'],d3['offset_d4'], \n",
    "                         statistic = 'mean',bins=(yedges1,xedges1))\n",
    "t3b = binned_statistic_2d(d3['d4_z'],d3['hd_z'],d3['offset_d4'], \n",
    "                         statistic = np.std,bins=(yedges1,xedges1))\n",
    "tcount3 = binned_statistic_2d(d3['d4_z'],d3['hd_z'],d3['offset_d4'], \n",
    "                             statistic = 'count',bins=(yedges1,xedges1))\n",
    "\n",
    "\n",
    "offset1 = np.ma.array(t1a[0], mask = tcount1[0] <= 3)\n",
    "offset2 = np.ma.array(t2a[0], mask = tcount2[0] <= 3)\n",
    "offset3 = np.ma.array(t3a[0], mask = tcount3[0] <= 3)\n",
    "disp1 = np.ma.array(t1b[0], mask = tcount1[0] <= 3)\n",
    "disp2 = np.ma.array(t2b[0], mask = tcount2[0] <= 3)\n",
    "disp3 = np.ma.array(t3b[0], mask = tcount3[0] <= 3)"
   ]
  },
  {
   "cell_type": "code",
   "execution_count": 31,
   "metadata": {},
   "outputs": [
    {
     "name": "stdout",
     "output_type": "stream",
     "text": [
      "-0.12920174812010884 -0.16845786925625497 -0.10716271716507182\n",
      "0.08521198971347736 0.036362271512624424 0.10053993385536737\n",
      "0.025131534435155548 0.006199634835864043 0.00740722699934003\n",
      "0.15076619426942578 0.33646608281820434 0.19526149105913085\n"
     ]
    }
   ],
   "source": [
    "print(np.min(offset1),np.min(offset2),np.min(offset3))\n",
    "print(np.max(offset1),np.max(offset2),np.max(offset3))\n",
    "print(np.min(disp1),np.min(disp2),np.min(disp3))\n",
    "print(np.max(disp1),np.max(disp2),np.max(disp3))"
   ]
  },
  {
   "cell_type": "code",
   "execution_count": 33,
   "metadata": {},
   "outputs": [
    {
     "data": {
      "image/png": "[encoded data removed]",
      "text/plain": [
       "<Figure size 864x720 with 8 Axes>"
      ]
     },
     "metadata": {
      "needs_background": "light"
     },
     "output_type": "display_data"
    }
   ],
   "source": [
    "fig, ax = plt.subplots(2, 3, figsize = (12,10))\n",
    "\n",
    "bounds2 = np.linspace(-0.15, 0.15, 11)\n",
    "norm2 = colors.BoundaryNorm(boundaries=bounds2, ncolors=256)\n",
    "#bounds1 = np.linspace(0.005, 1.0, 21)\n",
    "norm1 = colors.LogNorm(0.005,0.4)\n",
    "#norm1 = colors.BoundaryNorm(np.linspace(0.01,1.3,21), ncolors=256)\n",
    "\n",
    "\n",
    "cs1a = ax[0,0].pcolormesh(yedges1,xedges1,(np.transpose(offset1)),\n",
    "                         cmap = plt.cm.coolwarm, norm = norm2)\n",
    "cs2a = ax[0,1].pcolormesh(yedges1,xedges1,(np.transpose(offset2)), \n",
    "                         cmap = plt.cm.coolwarm, norm = norm2)\n",
    "cs3a = ax[0,2].pcolormesh(yedges1,xedges1,(np.transpose(offset3)), \n",
    "                         cmap = plt.cm.coolwarm, norm =norm2)\n",
    "\n",
    "cs1b = ax[1,0].pcolormesh(yedges1,xedges1,np.transpose(disp1), \n",
    "                          cmap = plt.cm.jet, norm = norm1)\n",
    "cs2b = ax[1,1].pcolormesh(yedges1,xedges1,np.transpose(disp2), \n",
    "                          cmap = plt.cm.jet, norm = norm1)\n",
    "cs3b = ax[1,2].pcolormesh(yedges1,xedges1,np.transpose(disp3), \n",
    "                          cmap = plt.cm.jet, norm = norm1)\n",
    "ax[0,0].set_xlim(0.8,2.2)\n",
    "ax[0,0].set_ylim(-10,10)\n",
    "ax[0,0].set_xticks([1.0,1.5,2.0])\n",
    "ax[0,0].xaxis.set_ticklabels([])\n",
    "ax[0,0].yaxis.set_ticks([-10,-5,0,5])\n",
    "ax[1,0].set_xlim(0.8,2.2)\n",
    "ax[1,0].set_ylim(-10,10)\n",
    "ax[1,0].set_xticks([1.0,1.5,2.0])\n",
    "ax[1,0].yaxis.set_ticks([-10,-5,0,5])\n",
    "ax[0,1].set_xlim(0.8,2.2)\n",
    "ax[0,1].set_ylim(-10,10)\n",
    "ax[0,1].set_xticks([1.0,1.5,2.0])\n",
    "ax[0,1].set_yticks([-10,-5,0,5])\n",
    "ax[0,1].xaxis.set_ticklabels([])\n",
    "ax[0,1].yaxis.set_ticklabels([])\n",
    "ax[1,1].set_xlim(0.8,2.2)\n",
    "ax[1,1].set_ylim(-10,10)\n",
    "ax[1,1].set_xticks([1.0,1.5,2.0])\n",
    "ax[1,1].yaxis.set_ticklabels([])\n",
    "ax[0,2].set_xlim(0.8,2.2)\n",
    "ax[0,2].set_ylim(-10,10)\n",
    "ax[0,2].set_yticks([-10,-5,0,5])\n",
    "ax[0,2].set_xticks([1.0,1.5,2.0])\n",
    "ax[0,2].yaxis.set_ticklabels([])\n",
    "ax[1,2].set_xlim(0.8,2.2)\n",
    "ax[1,2].set_ylim(-10,10)\n",
    "ax[1,2].yaxis.set_ticklabels([])\n",
    "\n",
    "\n",
    "cbar_ax1 = fig.add_axes([0.14, 0.85, 0.3, 0.01])\n",
    "cb1 = fig.colorbar(cs1a,orientation = 'horizontal', cax=cbar_ax1)\n",
    "cb1.ax.xaxis.set_ticks_position('top')\n",
    "cb1.ax.tick_params(labelsize=13)\n",
    "#cb1.set_clim(-0.16,0.16)\n",
    "#cb1.set_ticks([-0.15,-0.1,-0.05,0,0.05,0.1,0.15])\n",
    "\n",
    "cbar_ax2 = fig.add_axes([0.58, 0.85, 0.3, 0.01])\n",
    "cb2 = fig.colorbar(cs1b,orientation = 'horizontal', cax=cbar_ax2)\n",
    "cb2.ax.xaxis.set_ticks_position('top')\n",
    "cb2.ax.tick_params(labelsize=13)\n",
    "\n",
    "fig.text(0.32, 0.79, 'Mean Offset',\n",
    "         ha='center', va='center', fontsize = 15)\n",
    "fig.text(0.58, 0.79, 'Mean Offset',\n",
    "         ha='center', va='center', fontsize = 15)\n",
    "fig.text(0.84, 0.79, r'Mean Offset',\n",
    "         ha='center', va='center', fontsize = 15)\n",
    "\n",
    "fig.text(0.305, 0.43, 'Mean Dispersion',\n",
    "         ha='center', va='center', fontsize = 15)\n",
    "fig.text(0.565, 0.43, 'Mean Dispersion',\n",
    "         ha='center', va='center', fontsize = 15)\n",
    "fig.text(0.825, 0.43, r'Mean Dispersion',\n",
    "         ha='center', va='center', fontsize = 15)\n",
    "\n",
    "fig.text(0.19, 0.53, r'$z = 0.02$',\n",
    "         ha='center', va='center', fontsize = 20)\n",
    "fig.text(0.45, 0.53, r'$z = 0.06$',\n",
    "         ha='center', va='center', fontsize = 20)\n",
    "fig.text(0.71, 0.53, r'$z = 0.14$',\n",
    "         ha='center', va='center', fontsize = 20)\n",
    "\n",
    "fig.text(0.19, 0.17, r'$z = 0.02$',\n",
    "         ha='center', va='center', fontsize = 20)\n",
    "fig.text(0.45, 0.17, r'$z = 0.06$',\n",
    "         ha='center', va='center', fontsize = 20)\n",
    "fig.text(0.71, 0.17, r'$z = 0.14$',\n",
    "         ha='center', va='center', fontsize = 20)\n",
    "\n",
    "fig.text(0.495, 0.05, r'$D_{\\rm n}4000$', \n",
    "         ha='center', va='center', fontsize = 25)\n",
    "fig.text(0.05, 0.5, r'$H\\delta_{\\rm A}$', \n",
    "          rotation=90, ha='center', va='center', fontsize = 25)\n",
    "\n",
    "fig.text(0.5, 0.95, 'D4000 Offset',\n",
    "         ha='center', va='center', fontsize = 25)\n",
    "\n",
    "filename = \"/Users/nitya/Desktop/d4_offset_plot.pdf\"\n",
    "plt.gcf().subplots_adjust(wspace=0, hspace = 0, top = 0.83)\n",
    "plt.savefig(filename)\n",
    "plt.show()"
   ]
  },
  {
   "cell_type": "code",
   "execution_count": null,
   "metadata": {},
   "outputs": [],
   "source": []
  }
 ],
 "metadata": {
  "kernelspec": {
   "display_name": "Python 3",
   "language": "python",
   "name": "python3"
  },
  "language_info": {
   "codemirror_mode": {
    "name": "ipython",
    "version": 3
   },
   "file_extension": ".py",
   "mimetype": "text/x-python",
   "name": "python",
   "nbconvert_exporter": "python",
   "pygments_lexer": "ipython3",
   "version": "3.6.8"
  }
 },
 "nbformat": 4,
 "nbformat_minor": 2
}
