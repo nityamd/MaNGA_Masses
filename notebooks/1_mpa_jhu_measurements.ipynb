{
 "cells": [
  {
   "cell_type": "code",
   "execution_count": 1,
   "metadata": {},
   "outputs": [
    {
     "name": "stderr",
     "output_type": "stream",
     "text": [
      "/Users/nitya/miniconda3/lib/python3.6/site-packages/pyfits/__init__.py:22: PyFITSDeprecationWarning: PyFITS is deprecated, please use astropy.io.fits\n",
      "  PyFITSDeprecationWarning)  # noqa\n"
     ]
    }
   ],
   "source": [
    "from __future__ import unicode_literals\n",
    "import numpy as np\n",
    "import pandas as pd\n",
    "import matplotlib.pyplot as plt\n",
    "\n",
    "import pickle\n",
    "import os\n",
    "\n",
    "from astropy.io import fits\n",
    "from astropy import table as t\n",
    "from astropy import wcs\n",
    "import numpy as np\n",
    "import pyfits\n",
    "import pydl\n",
    "\n",
    "import matplotlib.pyplot as plt\n",
    "from matplotlib import rc\n",
    "\n",
    "from scipy.stats import binned_statistic\n",
    "from scipy.stats import binned_statistic_2d\n",
    "from scipy import interpolate\n",
    "\n",
    "\n",
    "from astropy.cosmology import WMAP7\n",
    "\n",
    "import matplotlib.patheffects as patheffects\n",
    "from matplotlib import rcParams\n",
    "from matplotlib.path import Path\n",
    "import matplotlib.patches as patches\n",
    "import matplotlib as mpl\n",
    "from matplotlib import rc\n",
    "from matplotlib import colors\n",
    "from matplotlib.colors import LogNorm\n",
    "\n",
    "rcParams[\"font.size\"] = 16\n",
    "rcParams[\"font.family\"] = \"sans-serif\"\n",
    "rcParams[\"font.sans-serif\"] = [\"Computer Modern Sans\"]\n",
    "rcParams[\"text.usetex\"] = True\n",
    "rcParams[\"text.latex.preamble\"] = r\"\\usepackage{cmbright}\"\n",
    "\n",
    "rcParams['xtick.major.pad']='10'\n",
    "rcParams['ytick.major.pad']='10'\n",
    "\n",
    "# rcParams['font.family'] = 'serif'\n",
    "# rcParams['font.serif'] = 'Ubuntu'\n",
    "# rcParams['font.monospace'] = 'Ubuntu Mono'\n",
    "rcParams['font.size'] =15\n",
    "rcParams['axes.labelsize'] = 15\n",
    "rcParams['axes.labelweight'] = 'bold'\n",
    "rcParams['axes.titlesize'] = 15\n",
    "rcParams['xtick.labelsize'] = 15\n",
    "rcParams['ytick.labelsize'] = 15\n",
    "rcParams['legend.fontsize'] = 15\n",
    "rcParams['figure.titlesize'] = 15"
   ]
  },
  {
   "cell_type": "code",
   "execution_count": 2,
   "metadata": {},
   "outputs": [
    {
     "data": {
      "text/html": [
       "<div>\n",
       "<style scoped>\n",
       "    .dataframe tbody tr th:only-of-type {\n",
       "        vertical-align: middle;\n",
       "    }\n",
       "\n",
       "    .dataframe tbody tr th {\n",
       "        vertical-align: top;\n",
       "    }\n",
       "\n",
       "    .dataframe thead th {\n",
       "        text-align: right;\n",
       "    }\n",
       "</style>\n",
       "<table border=\"1\" class=\"dataframe\">\n",
       "  <thead>\n",
       "    <tr style=\"text-align: right;\">\n",
       "      <th></th>\n",
       "      <th>specObjID</th>\n",
       "      <th>plateid</th>\n",
       "      <th>mjd</th>\n",
       "      <th>targettype</th>\n",
       "      <th>z</th>\n",
       "      <th>ra</th>\n",
       "      <th>dec</th>\n",
       "      <th>spectrotype</th>\n",
       "      <th>lick_hd_a</th>\n",
       "      <th>lick_hd_a_err</th>\n",
       "      <th>lick_hd_a_model</th>\n",
       "      <th>lick_hd_a_sub</th>\n",
       "      <th>lick_hd_a_sub_err</th>\n",
       "      <th>d4000_n</th>\n",
       "      <th>d4000_n_err</th>\n",
       "      <th>d4000_n_model</th>\n",
       "      <th>d4000_n_sub</th>\n",
       "      <th>d4000_n_sub_err</th>\n",
       "      <th>lgm_tot_p50</th>\n",
       "      <th>sfr_tot_p50</th>\n",
       "    </tr>\n",
       "  </thead>\n",
       "  <tbody>\n",
       "    <tr>\n",
       "      <th>0</th>\n",
       "      <td>577589709237151744</td>\n",
       "      <td>513</td>\n",
       "      <td>51989</td>\n",
       "      <td>GALAXY</td>\n",
       "      <td>0.133179</td>\n",
       "      <td>174.8802</td>\n",
       "      <td>1.337455</td>\n",
       "      <td>GALAXY</td>\n",
       "      <td>0.578695</td>\n",
       "      <td>2.621818</td>\n",
       "      <td>2.903744</td>\n",
       "      <td>0.578695</td>\n",
       "      <td>2.621818</td>\n",
       "      <td>1.486715</td>\n",
       "      <td>0.070735</td>\n",
       "      <td>1.484149</td>\n",
       "      <td>1.486715</td>\n",
       "      <td>0.070735</td>\n",
       "      <td>10.514130</td>\n",
       "      <td>0.428997</td>\n",
       "    </tr>\n",
       "    <tr>\n",
       "      <th>1</th>\n",
       "      <td>577600979231336448</td>\n",
       "      <td>513</td>\n",
       "      <td>51989</td>\n",
       "      <td>GALAXY</td>\n",
       "      <td>0.076272</td>\n",
       "      <td>174.8448</td>\n",
       "      <td>1.522124</td>\n",
       "      <td>GALAXY</td>\n",
       "      <td>-1.599530</td>\n",
       "      <td>0.711329</td>\n",
       "      <td>-1.793707</td>\n",
       "      <td>-1.599530</td>\n",
       "      <td>0.711329</td>\n",
       "      <td>1.952357</td>\n",
       "      <td>0.027204</td>\n",
       "      <td>1.855160</td>\n",
       "      <td>1.952357</td>\n",
       "      <td>0.027204</td>\n",
       "      <td>10.692400</td>\n",
       "      <td>-1.739615</td>\n",
       "    </tr>\n",
       "    <tr>\n",
       "      <th>2</th>\n",
       "      <td>577613623615055872</td>\n",
       "      <td>513</td>\n",
       "      <td>51989</td>\n",
       "      <td>QSO</td>\n",
       "      <td>0.000070</td>\n",
       "      <td>174.4868</td>\n",
       "      <td>1.543553</td>\n",
       "      <td>STAR</td>\n",
       "      <td>-1.913898</td>\n",
       "      <td>0.392502</td>\n",
       "      <td>-0.819409</td>\n",
       "      <td>-1.913898</td>\n",
       "      <td>0.392502</td>\n",
       "      <td>1.650742</td>\n",
       "      <td>0.012315</td>\n",
       "      <td>1.649250</td>\n",
       "      <td>1.679070</td>\n",
       "      <td>0.012684</td>\n",
       "      <td>-9999.000000</td>\n",
       "      <td>-9999.000000</td>\n",
       "    </tr>\n",
       "    <tr>\n",
       "      <th>3</th>\n",
       "      <td>577627917266216960</td>\n",
       "      <td>513</td>\n",
       "      <td>51989</td>\n",
       "      <td>GALAXY</td>\n",
       "      <td>0.050428</td>\n",
       "      <td>173.8995</td>\n",
       "      <td>1.737907</td>\n",
       "      <td>GALAXY</td>\n",
       "      <td>-1.703762</td>\n",
       "      <td>1.040746</td>\n",
       "      <td>-1.042168</td>\n",
       "      <td>-1.703762</td>\n",
       "      <td>1.040746</td>\n",
       "      <td>1.716901</td>\n",
       "      <td>0.037443</td>\n",
       "      <td>1.774271</td>\n",
       "      <td>1.716901</td>\n",
       "      <td>0.037443</td>\n",
       "      <td>10.367050</td>\n",
       "      <td>-1.641533</td>\n",
       "    </tr>\n",
       "    <tr>\n",
       "      <th>4</th>\n",
       "      <td>577632315312728064</td>\n",
       "      <td>513</td>\n",
       "      <td>51989</td>\n",
       "      <td>GALAXY</td>\n",
       "      <td>0.065045</td>\n",
       "      <td>173.6642</td>\n",
       "      <td>1.723826</td>\n",
       "      <td>GALAXY</td>\n",
       "      <td>3.565736</td>\n",
       "      <td>0.615967</td>\n",
       "      <td>5.506765</td>\n",
       "      <td>5.314827</td>\n",
       "      <td>0.601876</td>\n",
       "      <td>1.183934</td>\n",
       "      <td>0.012487</td>\n",
       "      <td>1.174847</td>\n",
       "      <td>1.182265</td>\n",
       "      <td>0.012476</td>\n",
       "      <td>9.662599</td>\n",
       "      <td>0.265054</td>\n",
       "    </tr>\n",
       "  </tbody>\n",
       "</table>\n",
       "</div>"
      ],
      "text/plain": [
       "            specObjID  plateid    mjd targettype         z        ra  \\\n",
       "0  577589709237151744      513  51989     GALAXY  0.133179  174.8802   \n",
       "1  577600979231336448      513  51989     GALAXY  0.076272  174.8448   \n",
       "2  577613623615055872      513  51989        QSO  0.000070  174.4868   \n",
       "3  577627917266216960      513  51989     GALAXY  0.050428  173.8995   \n",
       "4  577632315312728064      513  51989     GALAXY  0.065045  173.6642   \n",
       "\n",
       "        dec spectrotype  lick_hd_a  lick_hd_a_err  lick_hd_a_model  \\\n",
       "0  1.337455      GALAXY   0.578695       2.621818         2.903744   \n",
       "1  1.522124      GALAXY  -1.599530       0.711329        -1.793707   \n",
       "2  1.543553        STAR  -1.913898       0.392502        -0.819409   \n",
       "3  1.737907      GALAXY  -1.703762       1.040746        -1.042168   \n",
       "4  1.723826      GALAXY   3.565736       0.615967         5.506765   \n",
       "\n",
       "   lick_hd_a_sub  lick_hd_a_sub_err   d4000_n  d4000_n_err  d4000_n_model  \\\n",
       "0       0.578695           2.621818  1.486715     0.070735       1.484149   \n",
       "1      -1.599530           0.711329  1.952357     0.027204       1.855160   \n",
       "2      -1.913898           0.392502  1.650742     0.012315       1.649250   \n",
       "3      -1.703762           1.040746  1.716901     0.037443       1.774271   \n",
       "4       5.314827           0.601876  1.183934     0.012487       1.174847   \n",
       "\n",
       "   d4000_n_sub  d4000_n_sub_err  lgm_tot_p50  sfr_tot_p50  \n",
       "0     1.486715         0.070735    10.514130     0.428997  \n",
       "1     1.952357         0.027204    10.692400    -1.739615  \n",
       "2     1.679070         0.012684 -9999.000000 -9999.000000  \n",
       "3     1.716901         0.037443    10.367050    -1.641533  \n",
       "4     1.182265         0.012476     9.662599     0.265054  "
      ]
     },
     "execution_count": 2,
     "metadata": {},
     "output_type": "execute_result"
    }
   ],
   "source": [
    "a = pd.read_csv('MyTable_0_nityamd.csv', delimiter = ',')\n",
    "a.head()"
   ]
  },
  {
   "cell_type": "code",
   "execution_count": 3,
   "metadata": {},
   "outputs": [
    {
     "name": "stdout",
     "output_type": "stream",
     "text": [
      "1477411 901877\n"
     ]
    }
   ],
   "source": [
    "print(len(a), len(a[a['targettype']== 'GALAXY']))"
   ]
  },
  {
   "cell_type": "code",
   "execution_count": 4,
   "metadata": {},
   "outputs": [
    {
     "name": "stdout",
     "output_type": "stream",
     "text": [
      "98512\n"
     ]
    }
   ],
   "source": [
    "d = a[a['targettype']== 'GALAXY']\n",
    "print(len(d['lgm_tot_p50'][d['lgm_tot_p50']==-9999]))\n",
    "d = d[d['lgm_tot_p50']>=8.5]"
   ]
  },
  {
   "cell_type": "code",
   "execution_count": 5,
   "metadata": {},
   "outputs": [
    {
     "name": "stderr",
     "output_type": "stream",
     "text": [
      "/Users/nitya/miniconda3/lib/python3.6/site-packages/matplotlib/font_manager.py:1241: UserWarning: findfont: Font family ['sans-serif'] not found. Falling back to DejaVu Sans.\n",
      "  (prop.get_family(), self.defaultFamily[fontext]))\n"
     ]
    },
    {
     "data": {
      "image/png": "[encoded data removed]",
      "text/plain": [
       "<Figure size 432x288 with 1 Axes>"
      ]
     },
     "metadata": {
      "needs_background": "light"
     },
     "output_type": "display_data"
    }
   ],
   "source": [
    "plt.scatter(d['d4000_n'], d['lick_hd_a'], s = 0.01)\n",
    "plt.xlim(0,3.0)\n",
    "plt.ylim(-10,10)\n",
    "plt.show()"
   ]
  },
  {
   "cell_type": "code",
   "execution_count": 6,
   "metadata": {},
   "outputs": [
    {
     "data": {
      "text/plain": [
       "<matplotlib.axes._subplots.AxesSubplot at 0x1a19db88d0>"
      ]
     },
     "execution_count": 6,
     "metadata": {},
     "output_type": "execute_result"
    },
    {
     "data": {
      "image/png": "[encoded data removed]",
      "text/plain": [
       "<Figure size 432x288 with 1 Axes>"
      ]
     },
     "metadata": {
      "needs_background": "light"
     },
     "output_type": "display_data"
    }
   ],
   "source": [
    "d['lgm_tot_p50'].hist()"
   ]
  },
  {
   "cell_type": "code",
   "execution_count": 7,
   "metadata": {},
   "outputs": [
    {
     "name": "stdout",
     "output_type": "stream",
     "text": [
      "-1203.903 -7304.026999999999 330.8165 2216.673\n"
     ]
    },
    {
     "name": "stderr",
     "output_type": "stream",
     "text": [
      "/Users/nitya/miniconda3/lib/python3.6/site-packages/ipykernel_launcher.py:2: UserWarning: Boolean Series key will be reindexed to match DataFrame index.\n",
      "  \n"
     ]
    },
    {
     "name": "stdout",
     "output_type": "stream",
     "text": [
      "784435\n"
     ]
    }
   ],
   "source": [
    "print(min(d['d4000_n']), min(d['lick_hd_a']),max(d['d4000_n']),max(d['lick_hd_a']))\n",
    "d = d[(d['d4000_n']>0) & (d['d4000_n']<3)][(d['lick_hd_a']>-10) &(d['lick_hd_a']<15)]\n",
    "print(len(d))"
   ]
  },
  {
   "cell_type": "code",
   "execution_count": 12,
   "metadata": {},
   "outputs": [
    {
     "data": {
      "image/png": "[encoded data removed]",
      "text/plain": [
       "<Figure size 936x504 with 4 Axes>"
      ]
     },
     "metadata": {
      "needs_background": "light"
     },
     "output_type": "display_data"
    }
   ],
   "source": [
    "fig, (ax1, ax2) = plt.subplots(1, 2, figsize = (13,7))\n",
    "t1 = binned_statistic_2d(d['d4000_n'], d['lick_hd_a'],d['lgm_tot_p50'],statistic = 'mean',bins=(100,100))\n",
    "tcount = binned_statistic_2d(d['d4000_n'], d['lick_hd_a'],d['lgm_tot_p50'],statistic = 'count',bins=(100,100))\n",
    "yedges1 = t1[1]\n",
    "xedges1 = t1[2]\n",
    "number = np.ma.array(tcount[0], mask = tcount[0] <= 3)\n",
    "mass = np.ma.array(t1[0], mask = tcount[0] <= 3)\n",
    "\n",
    "cs1 = ax1.pcolormesh(yedges1,xedges1,np.transpose(number), cmap = plt.cm.Greys_r, norm = LogNorm())\n",
    "ax1.set_xlim(0.8,2.5)\n",
    "ax1.set_ylim(-10,10)\n",
    "cs2 = ax2.pcolormesh(yedges1,xedges1,(np.transpose(mass)))\n",
    "ax2.set_xlim(0.8,2.5)\n",
    "ax2.set_ylim(-10,10)\n",
    "\n",
    "cbar_ax1 = fig.add_axes([0.14, 0.85, 0.3, 0.01])\n",
    "cb1 = fig.colorbar(cs1,orientation = 'horizontal', cax=cbar_ax1)\n",
    "cb1.ax.xaxis.set_ticks_position('top')\n",
    "cb1.ax.tick_params(labelsize=13)\n",
    "cbar_ax2 = fig.add_axes([0.58, 0.85, 0.3, 0.01])\n",
    "cb2 = fig.colorbar(cs2,orientation = 'horizontal', cax=cbar_ax2)\n",
    "cb2.ax.xaxis.set_ticks_position('top')\n",
    "cb2.ax.tick_params(labelsize=13)\n",
    "\n",
    "fig.text(0.84, 0.79, r'Mass',\n",
    "         ha='center', va='center', fontsize = 15)\n",
    "fig.text(0.42, 0.79, 'Number',\n",
    "         ha='center', va='center', fontsize = 15)\n",
    "fig.text(0.495, 0.1, r'$D_{\\rm n}4000$', \n",
    "         ha='center', va='center', fontsize = 25)\n",
    "fig.text(0.03, 0.55, r'$H\\delta_{\\rm A}$', \n",
    "          rotation=90, ha='center', va='center', fontsize = 25)\n",
    "\n",
    "plt.gcf().subplots_adjust(wspace=0.2, hspace = 0, top = 0.83, bottom = 0.2)\n",
    "plt.savefig('/Users/Nitya/Desktop/hd_d4000_masses.pdf')\n",
    "plt.show()"
   ]
  },
  {
   "cell_type": "code",
   "execution_count": 16,
   "metadata": {},
   "outputs": [
    {
     "name": "stdout",
     "output_type": "stream",
     "text": [
      "1290136 843575\n"
     ]
    },
    {
     "data": {
      "text/html": [
       "<div>\n",
       "<style scoped>\n",
       "    .dataframe tbody tr th:only-of-type {\n",
       "        vertical-align: middle;\n",
       "    }\n",
       "\n",
       "    .dataframe tbody tr th {\n",
       "        vertical-align: top;\n",
       "    }\n",
       "\n",
       "    .dataframe thead th {\n",
       "        text-align: right;\n",
       "    }\n",
       "</style>\n",
       "<table border=\"1\" class=\"dataframe\">\n",
       "  <thead>\n",
       "    <tr style=\"text-align: right;\">\n",
       "      <th></th>\n",
       "      <th>specObjID</th>\n",
       "      <th>plateid</th>\n",
       "      <th>mjd</th>\n",
       "      <th>targettype</th>\n",
       "      <th>z</th>\n",
       "      <th>ra</th>\n",
       "      <th>dec</th>\n",
       "      <th>spectrotype</th>\n",
       "      <th>psfFlux_z</th>\n",
       "      <th>fiberFlux_z</th>\n",
       "      <th>modelMag_z</th>\n",
       "      <th>fiberMag_z</th>\n",
       "      <th>petroMag_z</th>\n",
       "      <th>psfMag_z</th>\n",
       "      <th>cModelMag_z</th>\n",
       "    </tr>\n",
       "  </thead>\n",
       "  <tbody>\n",
       "    <tr>\n",
       "      <th>0</th>\n",
       "      <td>2221489359343872000</td>\n",
       "      <td>1973</td>\n",
       "      <td>53432</td>\n",
       "      <td>GALAXY</td>\n",
       "      <td>0.106930</td>\n",
       "      <td>156.7245</td>\n",
       "      <td>37.81742</td>\n",
       "      <td>GALAXY</td>\n",
       "      <td>41.30691</td>\n",
       "      <td>44.27812</td>\n",
       "      <td>17.14370</td>\n",
       "      <td>18.38422</td>\n",
       "      <td>17.21950</td>\n",
       "      <td>18.45959</td>\n",
       "      <td>17.16346</td>\n",
       "    </tr>\n",
       "    <tr>\n",
       "      <th>1</th>\n",
       "      <td>2221491283489220608</td>\n",
       "      <td>1973</td>\n",
       "      <td>53432</td>\n",
       "      <td>QA</td>\n",
       "      <td>0.105522</td>\n",
       "      <td>157.0155</td>\n",
       "      <td>37.94542</td>\n",
       "      <td>GALAXY</td>\n",
       "      <td>115.93210</td>\n",
       "      <td>116.46590</td>\n",
       "      <td>15.50232</td>\n",
       "      <td>17.33446</td>\n",
       "      <td>15.55499</td>\n",
       "      <td>17.33945</td>\n",
       "      <td>15.29645</td>\n",
       "    </tr>\n",
       "    <tr>\n",
       "      <th>2</th>\n",
       "      <td>2221490733733406720</td>\n",
       "      <td>1973</td>\n",
       "      <td>53432</td>\n",
       "      <td>QA</td>\n",
       "      <td>0.167102</td>\n",
       "      <td>157.1610</td>\n",
       "      <td>38.05308</td>\n",
       "      <td>GALAXY</td>\n",
       "      <td>77.03185</td>\n",
       "      <td>74.64256</td>\n",
       "      <td>16.45179</td>\n",
       "      <td>17.81743</td>\n",
       "      <td>16.75446</td>\n",
       "      <td>17.78322</td>\n",
       "      <td>16.66410</td>\n",
       "    </tr>\n",
       "    <tr>\n",
       "      <th>3</th>\n",
       "      <td>2221500629338056704</td>\n",
       "      <td>1973</td>\n",
       "      <td>53432</td>\n",
       "      <td>GALAXY</td>\n",
       "      <td>0.164161</td>\n",
       "      <td>157.3284</td>\n",
       "      <td>38.15210</td>\n",
       "      <td>GALAXY</td>\n",
       "      <td>76.41125</td>\n",
       "      <td>75.88276</td>\n",
       "      <td>16.95885</td>\n",
       "      <td>17.79954</td>\n",
       "      <td>17.09626</td>\n",
       "      <td>17.79201</td>\n",
       "      <td>17.11255</td>\n",
       "    </tr>\n",
       "    <tr>\n",
       "      <th>4</th>\n",
       "      <td>2249639880688691200</td>\n",
       "      <td>1998</td>\n",
       "      <td>53433</td>\n",
       "      <td>QA</td>\n",
       "      <td>0.143637</td>\n",
       "      <td>159.0103</td>\n",
       "      <td>38.42761</td>\n",
       "      <td>GALAXY</td>\n",
       "      <td>59.67904</td>\n",
       "      <td>59.26440</td>\n",
       "      <td>16.49447</td>\n",
       "      <td>18.06785</td>\n",
       "      <td>16.78261</td>\n",
       "      <td>18.06028</td>\n",
       "      <td>16.63495</td>\n",
       "    </tr>\n",
       "  </tbody>\n",
       "</table>\n",
       "</div>"
      ],
      "text/plain": [
       "             specObjID  plateid    mjd targettype         z        ra  \\\n",
       "0  2221489359343872000     1973  53432     GALAXY  0.106930  156.7245   \n",
       "1  2221491283489220608     1973  53432         QA  0.105522  157.0155   \n",
       "2  2221490733733406720     1973  53432         QA  0.167102  157.1610   \n",
       "3  2221500629338056704     1973  53432     GALAXY  0.164161  157.3284   \n",
       "4  2249639880688691200     1998  53433         QA  0.143637  159.0103   \n",
       "\n",
       "        dec spectrotype  psfFlux_z  fiberFlux_z  modelMag_z  fiberMag_z  \\\n",
       "0  37.81742      GALAXY   41.30691     44.27812    17.14370    18.38422   \n",
       "1  37.94542      GALAXY  115.93210    116.46590    15.50232    17.33446   \n",
       "2  38.05308      GALAXY   77.03185     74.64256    16.45179    17.81743   \n",
       "3  38.15210      GALAXY   76.41125     75.88276    16.95885    17.79954   \n",
       "4  38.42761      GALAXY   59.67904     59.26440    16.49447    18.06785   \n",
       "\n",
       "   petroMag_z  psfMag_z  cModelMag_z  \n",
       "0    17.21950  18.45959     17.16346  \n",
       "1    15.55499  17.33945     15.29645  \n",
       "2    16.75446  17.78322     16.66410  \n",
       "3    17.09626  17.79201     17.11255  \n",
       "4    16.78261  18.06028     16.63495  "
      ]
     },
     "execution_count": 16,
     "metadata": {},
     "output_type": "execute_result"
    }
   ],
   "source": [
    "b = pd.read_csv('phototable_nityamd.csv', delimiter = ',')\n",
    "print(len(b), len(b[b['targettype']=='GALAXY']))\n",
    "b.head()"
   ]
  },
  {
   "cell_type": "code",
   "execution_count": 38,
   "metadata": {},
   "outputs": [
    {
     "name": "stdout",
     "output_type": "stream",
     "text": [
      "1477411 1290136 1290136\n"
     ]
    },
    {
     "data": {
      "text/html": [
       "<div>\n",
       "<style scoped>\n",
       "    .dataframe tbody tr th:only-of-type {\n",
       "        vertical-align: middle;\n",
       "    }\n",
       "\n",
       "    .dataframe tbody tr th {\n",
       "        vertical-align: top;\n",
       "    }\n",
       "\n",
       "    .dataframe thead th {\n",
       "        text-align: right;\n",
       "    }\n",
       "</style>\n",
       "<table border=\"1\" class=\"dataframe\">\n",
       "  <thead>\n",
       "    <tr style=\"text-align: right;\">\n",
       "      <th></th>\n",
       "      <th>specObjID</th>\n",
       "      <th>plateid_x</th>\n",
       "      <th>mjd_x</th>\n",
       "      <th>targettype_x</th>\n",
       "      <th>z_x</th>\n",
       "      <th>ra_x</th>\n",
       "      <th>dec_x</th>\n",
       "      <th>spectrotype_x</th>\n",
       "      <th>lick_hd_a</th>\n",
       "      <th>lick_hd_a_err</th>\n",
       "      <th>...</th>\n",
       "      <th>ra_y</th>\n",
       "      <th>dec_y</th>\n",
       "      <th>spectrotype_y</th>\n",
       "      <th>psfFlux_z</th>\n",
       "      <th>fiberFlux_z</th>\n",
       "      <th>modelMag_z</th>\n",
       "      <th>fiberMag_z</th>\n",
       "      <th>petroMag_z</th>\n",
       "      <th>psfMag_z</th>\n",
       "      <th>cModelMag_z</th>\n",
       "    </tr>\n",
       "  </thead>\n",
       "  <tbody>\n",
       "    <tr>\n",
       "      <th>0</th>\n",
       "      <td>577589709237151744</td>\n",
       "      <td>513</td>\n",
       "      <td>51989</td>\n",
       "      <td>GALAXY</td>\n",
       "      <td>0.133179</td>\n",
       "      <td>174.8802</td>\n",
       "      <td>1.337455</td>\n",
       "      <td>GALAXY</td>\n",
       "      <td>0.578695</td>\n",
       "      <td>2.621818</td>\n",
       "      <td>...</td>\n",
       "      <td>174.8802</td>\n",
       "      <td>1.337455</td>\n",
       "      <td>GALAXY</td>\n",
       "      <td>16.58161</td>\n",
       "      <td>21.27037</td>\n",
       "      <td>17.04241</td>\n",
       "      <td>19.17925</td>\n",
       "      <td>17.13538</td>\n",
       "      <td>19.44878</td>\n",
       "      <td>17.01567</td>\n",
       "    </tr>\n",
       "    <tr>\n",
       "      <th>1</th>\n",
       "      <td>577600979231336448</td>\n",
       "      <td>513</td>\n",
       "      <td>51989</td>\n",
       "      <td>GALAXY</td>\n",
       "      <td>0.076272</td>\n",
       "      <td>174.8448</td>\n",
       "      <td>1.522124</td>\n",
       "      <td>GALAXY</td>\n",
       "      <td>-1.599530</td>\n",
       "      <td>0.711329</td>\n",
       "      <td>...</td>\n",
       "      <td>174.8448</td>\n",
       "      <td>1.522124</td>\n",
       "      <td>GALAXY</td>\n",
       "      <td>164.85580</td>\n",
       "      <td>155.43230</td>\n",
       "      <td>15.91677</td>\n",
       "      <td>17.02112</td>\n",
       "      <td>16.02447</td>\n",
       "      <td>16.95722</td>\n",
       "      <td>15.95866</td>\n",
       "    </tr>\n",
       "    <tr>\n",
       "      <th>2</th>\n",
       "      <td>577613623615055872</td>\n",
       "      <td>513</td>\n",
       "      <td>51989</td>\n",
       "      <td>QSO</td>\n",
       "      <td>0.000070</td>\n",
       "      <td>174.4868</td>\n",
       "      <td>1.543553</td>\n",
       "      <td>STAR</td>\n",
       "      <td>-1.913898</td>\n",
       "      <td>0.392502</td>\n",
       "      <td>...</td>\n",
       "      <td>174.4868</td>\n",
       "      <td>1.543553</td>\n",
       "      <td>STAR</td>\n",
       "      <td>306.91540</td>\n",
       "      <td>226.59930</td>\n",
       "      <td>16.27307</td>\n",
       "      <td>16.61184</td>\n",
       "      <td>16.33516</td>\n",
       "      <td>16.28245</td>\n",
       "      <td>16.28226</td>\n",
       "    </tr>\n",
       "    <tr>\n",
       "      <th>3</th>\n",
       "      <td>577627917266216960</td>\n",
       "      <td>513</td>\n",
       "      <td>51989</td>\n",
       "      <td>GALAXY</td>\n",
       "      <td>0.050428</td>\n",
       "      <td>173.8995</td>\n",
       "      <td>1.737907</td>\n",
       "      <td>GALAXY</td>\n",
       "      <td>-1.703762</td>\n",
       "      <td>1.040746</td>\n",
       "      <td>...</td>\n",
       "      <td>173.8995</td>\n",
       "      <td>1.737907</td>\n",
       "      <td>GALAXY</td>\n",
       "      <td>88.87761</td>\n",
       "      <td>92.10589</td>\n",
       "      <td>15.63758</td>\n",
       "      <td>17.58921</td>\n",
       "      <td>15.70567</td>\n",
       "      <td>17.62794</td>\n",
       "      <td>15.74431</td>\n",
       "    </tr>\n",
       "    <tr>\n",
       "      <th>4</th>\n",
       "      <td>577632315312728064</td>\n",
       "      <td>513</td>\n",
       "      <td>51989</td>\n",
       "      <td>GALAXY</td>\n",
       "      <td>0.065045</td>\n",
       "      <td>173.6642</td>\n",
       "      <td>1.723826</td>\n",
       "      <td>GALAXY</td>\n",
       "      <td>3.565736</td>\n",
       "      <td>0.615967</td>\n",
       "      <td>...</td>\n",
       "      <td>173.6642</td>\n",
       "      <td>1.723826</td>\n",
       "      <td>GALAXY</td>\n",
       "      <td>38.75483</td>\n",
       "      <td>49.84200</td>\n",
       "      <td>16.72657</td>\n",
       "      <td>18.25577</td>\n",
       "      <td>16.83160</td>\n",
       "      <td>18.52879</td>\n",
       "      <td>16.71808</td>\n",
       "    </tr>\n",
       "  </tbody>\n",
       "</table>\n",
       "<p>5 rows × 34 columns</p>\n",
       "</div>"
      ],
      "text/plain": [
       "            specObjID  plateid_x  mjd_x targettype_x       z_x      ra_x  \\\n",
       "0  577589709237151744        513  51989       GALAXY  0.133179  174.8802   \n",
       "1  577600979231336448        513  51989       GALAXY  0.076272  174.8448   \n",
       "2  577613623615055872        513  51989          QSO  0.000070  174.4868   \n",
       "3  577627917266216960        513  51989       GALAXY  0.050428  173.8995   \n",
       "4  577632315312728064        513  51989       GALAXY  0.065045  173.6642   \n",
       "\n",
       "      dec_x spectrotype_x  lick_hd_a  lick_hd_a_err     ...           ra_y  \\\n",
       "0  1.337455        GALAXY   0.578695       2.621818     ...       174.8802   \n",
       "1  1.522124        GALAXY  -1.599530       0.711329     ...       174.8448   \n",
       "2  1.543553          STAR  -1.913898       0.392502     ...       174.4868   \n",
       "3  1.737907        GALAXY  -1.703762       1.040746     ...       173.8995   \n",
       "4  1.723826        GALAXY   3.565736       0.615967     ...       173.6642   \n",
       "\n",
       "      dec_y  spectrotype_y  psfFlux_z  fiberFlux_z  modelMag_z  fiberMag_z  \\\n",
       "0  1.337455         GALAXY   16.58161     21.27037    17.04241    19.17925   \n",
       "1  1.522124         GALAXY  164.85580    155.43230    15.91677    17.02112   \n",
       "2  1.543553           STAR  306.91540    226.59930    16.27307    16.61184   \n",
       "3  1.737907         GALAXY   88.87761     92.10589    15.63758    17.58921   \n",
       "4  1.723826         GALAXY   38.75483     49.84200    16.72657    18.25577   \n",
       "\n",
       "   petroMag_z  psfMag_z  cModelMag_z  \n",
       "0    17.13538  19.44878     17.01567  \n",
       "1    16.02447  16.95722     15.95866  \n",
       "2    16.33516  16.28245     16.28226  \n",
       "3    15.70567  17.62794     15.74431  \n",
       "4    16.83160  18.52879     16.71808  \n",
       "\n",
       "[5 rows x 34 columns]"
      ]
     },
     "execution_count": 38,
     "metadata": {},
     "output_type": "execute_result"
    }
   ],
   "source": [
    "df = pd.merge(a, b, on=['specObjID'])\n",
    "print(len(a), len(b), len(df))\n",
    "df.head()"
   ]
  },
  {
   "cell_type": "code",
   "execution_count": null,
   "metadata": {},
   "outputs": [],
   "source": [
    "#lum = 4*3.14159*(ldist**2.0)*(3.087**2.0)*(10**25.0)*flux_in_jansky"
   ]
  },
  {
   "cell_type": "code",
   "execution_count": 64,
   "metadata": {},
   "outputs": [
    {
     "name": "stdout",
     "output_type": "stream",
     "text": [
      "2506754\n"
     ]
    },
    {
     "data": {
      "text/plain": [
       "ColDefs(\n",
       "    name = 'RA'; format = 'D'\n",
       "    name = 'DEC'; format = 'D'\n",
       "    name = 'ABMAGGIES'; format = '8E'\n",
       "    name = 'ABMAGGIES_IVAR'; format = '8E'\n",
       "    name = 'Z'; format = 'E'\n",
       "    name = 'ABSMAG'; format = '8E'\n",
       "    name = 'ABSMAG_IVAR'; format = '8E'\n",
       "    name = 'KCORRECT'; format = '8E'\n",
       "    name = 'MTOL'; format = '8E'\n",
       "    name = 'MASS'; format = 'E'\n",
       "    name = 'INTSFH'; format = 'E'\n",
       "    name = 'METS'; format = 'E'\n",
       "    name = 'B300'; format = 'E'\n",
       "    name = 'B1000'; format = 'E'\n",
       "    name = 'COEFFS'; format = '5E'\n",
       ")"
      ]
     },
     "execution_count": 64,
     "metadata": {},
     "output_type": "execute_result"
    }
   ],
   "source": [
    "kc = pyfits.open('kcorrect.none.model.z0.00.fits')\n",
    "kc = kc[1].data\n",
    "print(len(kc))\n",
    "kc.columns"
   ]
  },
  {
   "cell_type": "code",
   "execution_count": 54,
   "metadata": {},
   "outputs": [],
   "source": [
    "from pydl.pydlutils import spheregroup"
   ]
  },
  {
   "cell_type": "markdown",
   "metadata": {},
   "source": [
    "Matchlength of 3\""
   ]
  },
  {
   "cell_type": "code",
   "execution_count": 66,
   "metadata": {},
   "outputs": [],
   "source": [
    "matches = spheregroup.spherematch(df['ra_x'],df['dec_x'],\n",
    "                                  kc['RA'],kc['DEC'],\n",
    "                                  matchlength = 0.000833333)\n",
    "df_ind,kc_ind,dist = matches\n",
    "df_ind = np.array([np.int(x) for x in df_ind])\n",
    "kc_ind = np.array([np.int(x) for x in kc_ind])\n",
    "print(len(df),len(df_ind))"
   ]
  },
  {
   "cell_type": "code",
   "execution_count": 128,
   "metadata": {},
   "outputs": [
    {
     "name": "stderr",
     "output_type": "stream",
     "text": [
      "/Users/nitya/miniconda3/lib/python3.6/site-packages/ipykernel_launcher.py:6: SettingWithCopyWarning: \n",
      "A value is trying to be set on a copy of a slice from a DataFrame.\n",
      "Try using .loc[row_indexer,col_indexer] = value instead\n",
      "\n",
      "See the caveats in the documentation: http://pandas.pydata.org/pandas-docs/stable/indexing.html#indexing-view-versus-copy\n",
      "  \n"
     ]
    }
   ],
   "source": [
    "newdf = df.iloc[df_ind]\n",
    "absmags = kc['ABSMAG'][kc_ind]\n",
    "#sun's absmag in z band: 4.6\n",
    "solar_z_band_mag = 4.6\n",
    "z_band_lum = [(4.6 - x)/2.5 for x in absmags[:,4]]\n",
    "newdf['zband_lum'] = z_band_lum"
   ]
  },
  {
   "cell_type": "code",
   "execution_count": 129,
   "metadata": {},
   "outputs": [
    {
     "data": {
      "text/html": [
       "<div>\n",
       "<style scoped>\n",
       "    .dataframe tbody tr th:only-of-type {\n",
       "        vertical-align: middle;\n",
       "    }\n",
       "\n",
       "    .dataframe tbody tr th {\n",
       "        vertical-align: top;\n",
       "    }\n",
       "\n",
       "    .dataframe thead th {\n",
       "        text-align: right;\n",
       "    }\n",
       "</style>\n",
       "<table border=\"1\" class=\"dataframe\">\n",
       "  <thead>\n",
       "    <tr style=\"text-align: right;\">\n",
       "      <th></th>\n",
       "      <th>specObjID</th>\n",
       "      <th>plateid_x</th>\n",
       "      <th>mjd_x</th>\n",
       "      <th>targettype_x</th>\n",
       "      <th>z_x</th>\n",
       "      <th>ra_x</th>\n",
       "      <th>dec_x</th>\n",
       "      <th>spectrotype_x</th>\n",
       "      <th>lick_hd_a</th>\n",
       "      <th>lick_hd_a_err</th>\n",
       "      <th>...</th>\n",
       "      <th>dec_y</th>\n",
       "      <th>spectrotype_y</th>\n",
       "      <th>psfFlux_z</th>\n",
       "      <th>fiberFlux_z</th>\n",
       "      <th>modelMag_z</th>\n",
       "      <th>fiberMag_z</th>\n",
       "      <th>petroMag_z</th>\n",
       "      <th>psfMag_z</th>\n",
       "      <th>cModelMag_z</th>\n",
       "      <th>zband_lum</th>\n",
       "    </tr>\n",
       "  </thead>\n",
       "  <tbody>\n",
       "    <tr>\n",
       "      <th>1288098</th>\n",
       "      <td>571978357969807360</td>\n",
       "      <td>508</td>\n",
       "      <td>52366</td>\n",
       "      <td>GALAXY</td>\n",
       "      <td>0.065824</td>\n",
       "      <td>166.478300</td>\n",
       "      <td>2.094602</td>\n",
       "      <td>GALAXY</td>\n",
       "      <td>2.151605</td>\n",
       "      <td>2.371614</td>\n",
       "      <td>...</td>\n",
       "      <td>2.094602</td>\n",
       "      <td>GALAXY</td>\n",
       "      <td>28.06302</td>\n",
       "      <td>33.45266</td>\n",
       "      <td>16.86503</td>\n",
       "      <td>18.68839</td>\n",
       "      <td>16.92087</td>\n",
       "      <td>18.87891</td>\n",
       "      <td>16.92317</td>\n",
       "      <td>9.759862</td>\n",
       "    </tr>\n",
       "    <tr>\n",
       "      <th>400208</th>\n",
       "      <td>1562851102729201664</td>\n",
       "      <td>1388</td>\n",
       "      <td>53119</td>\n",
       "      <td>GALAXY</td>\n",
       "      <td>0.111108</td>\n",
       "      <td>232.158100</td>\n",
       "      <td>32.259860</td>\n",
       "      <td>GALAXY</td>\n",
       "      <td>2.135609</td>\n",
       "      <td>1.160977</td>\n",
       "      <td>...</td>\n",
       "      <td>32.259860</td>\n",
       "      <td>GALAXY</td>\n",
       "      <td>68.12619</td>\n",
       "      <td>89.96645</td>\n",
       "      <td>15.89000</td>\n",
       "      <td>17.61473</td>\n",
       "      <td>15.95821</td>\n",
       "      <td>17.91659</td>\n",
       "      <td>15.79503</td>\n",
       "      <td>10.615238</td>\n",
       "    </tr>\n",
       "    <tr>\n",
       "      <th>893090</th>\n",
       "      <td>1222891443304032256</td>\n",
       "      <td>1086</td>\n",
       "      <td>52525</td>\n",
       "      <td>QSO</td>\n",
       "      <td>-0.000018</td>\n",
       "      <td>9.536514</td>\n",
       "      <td>0.731605</td>\n",
       "      <td>STAR</td>\n",
       "      <td>-5.912721</td>\n",
       "      <td>0.552870</td>\n",
       "      <td>...</td>\n",
       "      <td>0.731605</td>\n",
       "      <td>STAR</td>\n",
       "      <td>516.96740</td>\n",
       "      <td>378.92180</td>\n",
       "      <td>15.70670</td>\n",
       "      <td>16.05362</td>\n",
       "      <td>15.75440</td>\n",
       "      <td>15.71634</td>\n",
       "      <td>15.70687</td>\n",
       "      <td>3.146642</td>\n",
       "    </tr>\n",
       "    <tr>\n",
       "      <th>590268</th>\n",
       "      <td>2187701916006377472</td>\n",
       "      <td>1943</td>\n",
       "      <td>53386</td>\n",
       "      <td>GALAXY</td>\n",
       "      <td>0.061661</td>\n",
       "      <td>142.969900</td>\n",
       "      <td>32.348130</td>\n",
       "      <td>GALAXY</td>\n",
       "      <td>3.941239</td>\n",
       "      <td>0.945998</td>\n",
       "      <td>...</td>\n",
       "      <td>32.348130</td>\n",
       "      <td>GALAXY</td>\n",
       "      <td>42.61896</td>\n",
       "      <td>50.59392</td>\n",
       "      <td>17.25803</td>\n",
       "      <td>18.23952</td>\n",
       "      <td>17.33761</td>\n",
       "      <td>18.42566</td>\n",
       "      <td>17.28630</td>\n",
       "      <td>9.512923</td>\n",
       "    </tr>\n",
       "    <tr>\n",
       "      <th>989578</th>\n",
       "      <td>487552899115673600</td>\n",
       "      <td>433</td>\n",
       "      <td>51873</td>\n",
       "      <td>GALAXY</td>\n",
       "      <td>0.106914</td>\n",
       "      <td>116.239100</td>\n",
       "      <td>37.233990</td>\n",
       "      <td>GALAXY</td>\n",
       "      <td>2.766207</td>\n",
       "      <td>0.786529</td>\n",
       "      <td>...</td>\n",
       "      <td>37.233990</td>\n",
       "      <td>GALAXY</td>\n",
       "      <td>26.55329</td>\n",
       "      <td>39.21035</td>\n",
       "      <td>16.65694</td>\n",
       "      <td>18.51611</td>\n",
       "      <td>16.68685</td>\n",
       "      <td>18.93886</td>\n",
       "      <td>16.56544</td>\n",
       "      <td>10.268623</td>\n",
       "    </tr>\n",
       "  </tbody>\n",
       "</table>\n",
       "<p>5 rows × 35 columns</p>\n",
       "</div>"
      ],
      "text/plain": [
       "                   specObjID  plateid_x  mjd_x targettype_x       z_x  \\\n",
       "1288098   571978357969807360        508  52366       GALAXY  0.065824   \n",
       "400208   1562851102729201664       1388  53119       GALAXY  0.111108   \n",
       "893090   1222891443304032256       1086  52525          QSO -0.000018   \n",
       "590268   2187701916006377472       1943  53386       GALAXY  0.061661   \n",
       "989578    487552899115673600        433  51873       GALAXY  0.106914   \n",
       "\n",
       "               ra_x      dec_x spectrotype_x  lick_hd_a  lick_hd_a_err  \\\n",
       "1288098  166.478300   2.094602        GALAXY   2.151605       2.371614   \n",
       "400208   232.158100  32.259860        GALAXY   2.135609       1.160977   \n",
       "893090     9.536514   0.731605          STAR  -5.912721       0.552870   \n",
       "590268   142.969900  32.348130        GALAXY   3.941239       0.945998   \n",
       "989578   116.239100  37.233990        GALAXY   2.766207       0.786529   \n",
       "\n",
       "           ...          dec_y  spectrotype_y  psfFlux_z  fiberFlux_z  \\\n",
       "1288098    ...       2.094602         GALAXY   28.06302     33.45266   \n",
       "400208     ...      32.259860         GALAXY   68.12619     89.96645   \n",
       "893090     ...       0.731605           STAR  516.96740    378.92180   \n",
       "590268     ...      32.348130         GALAXY   42.61896     50.59392   \n",
       "989578     ...      37.233990         GALAXY   26.55329     39.21035   \n",
       "\n",
       "         modelMag_z  fiberMag_z  petroMag_z  psfMag_z  cModelMag_z  zband_lum  \n",
       "1288098    16.86503    18.68839    16.92087  18.87891     16.92317   9.759862  \n",
       "400208     15.89000    17.61473    15.95821  17.91659     15.79503  10.615238  \n",
       "893090     15.70670    16.05362    15.75440  15.71634     15.70687   3.146642  \n",
       "590268     17.25803    18.23952    17.33761  18.42566     17.28630   9.512923  \n",
       "989578     16.65694    18.51611    16.68685  18.93886     16.56544  10.268623  \n",
       "\n",
       "[5 rows x 35 columns]"
      ]
     },
     "execution_count": 129,
     "metadata": {},
     "output_type": "execute_result"
    }
   ],
   "source": [
    "newdf.head()"
   ]
  },
  {
   "cell_type": "code",
   "execution_count": 130,
   "metadata": {},
   "outputs": [
    {
     "data": {
      "text/plain": [
       "Index(['specObjID', 'plateid_x', 'mjd_x', 'targettype_x', 'z_x', 'ra_x',\n",
       "       'dec_x', 'spectrotype_x', 'lick_hd_a', 'lick_hd_a_err',\n",
       "       'lick_hd_a_model', 'lick_hd_a_sub', 'lick_hd_a_sub_err', 'd4000_n',\n",
       "       'd4000_n_err', 'd4000_n_model', 'd4000_n_sub', 'd4000_n_sub_err',\n",
       "       'lgm_tot_p50', 'sfr_tot_p50', 'plateid_y', 'mjd_y', 'targettype_y',\n",
       "       'z_y', 'ra_y', 'dec_y', 'spectrotype_y', 'psfFlux_z', 'fiberFlux_z',\n",
       "       'modelMag_z', 'fiberMag_z', 'petroMag_z', 'psfMag_z', 'cModelMag_z',\n",
       "       'zband_lum'],\n",
       "      dtype='object')"
      ]
     },
     "execution_count": 130,
     "metadata": {},
     "output_type": "execute_result"
    }
   ],
   "source": [
    "newdf.columns"
   ]
  },
  {
   "cell_type": "code",
   "execution_count": 136,
   "metadata": {},
   "outputs": [
    {
     "name": "stdout",
     "output_type": "stream",
     "text": [
      "1213533 73679\n"
     ]
    }
   ],
   "source": [
    "print(len(newdf['zband_lum']),len(newdf['zband_lum'][newdf['zband_lum']<0]))\n",
    "mlratio_z = [newdf['lgm_tot_p50'].iloc[i] - newdf['zband_lum'].iloc[i] for i in range(len(newdf))]\n",
    "newdf['mlratio_z'] = mlratio_z\n",
    "d = newdf[newdf['zband_lum']>0]"
   ]
  },
  {
   "cell_type": "code",
   "execution_count": 144,
   "metadata": {},
   "outputs": [
    {
     "name": "stdout",
     "output_type": "stream",
     "text": [
      "86174\n",
      "-1203.903 -7304.026999999999 24.45944 2216.673\n"
     ]
    },
    {
     "name": "stderr",
     "output_type": "stream",
     "text": [
      "/Users/nitya/miniconda3/lib/python3.6/site-packages/ipykernel_launcher.py:5: UserWarning: Boolean Series key will be reindexed to match DataFrame index.\n",
      "  \"\"\"\n"
     ]
    },
    {
     "name": "stdout",
     "output_type": "stream",
     "text": [
      "735915\n"
     ]
    }
   ],
   "source": [
    "d = d[d['targettype_x']== 'GALAXY']\n",
    "print(len(d['lgm_tot_p50'][d['lgm_tot_p50']==-9999]))\n",
    "d = d[d['lgm_tot_p50']>=8.5]\n",
    "print(min(d['d4000_n']), min(d['lick_hd_a']),max(d['d4000_n']),max(d['lick_hd_a']))\n",
    "d = d[(d['d4000_n']>0) & (d['d4000_n']<3)][(d['lick_hd_a']>-10) &(d['lick_hd_a']<15)]\n",
    "print(len(d))"
   ]
  },
  {
   "cell_type": "code",
   "execution_count": 133,
   "metadata": {},
   "outputs": [
    {
     "data": {
      "image/png": "[encoded data removed]",
      "text/plain": [
       "<Figure size 936x504 with 4 Axes>"
      ]
     },
     "metadata": {
      "needs_background": "light"
     },
     "output_type": "display_data"
    }
   ],
   "source": [
    "fig, (ax1, ax2) = plt.subplots(1, 2, figsize = (13,7))\n",
    "t1 = binned_statistic_2d(d['d4000_n'], d['lick_hd_a'],d['lgm_tot_p50'],statistic = 'mean',bins=(100,100))\n",
    "tcount = binned_statistic_2d(d['d4000_n'], d['lick_hd_a'],d['lgm_tot_p50'],statistic = 'count',bins=(100,100))\n",
    "yedges1 = t1[1]\n",
    "xedges1 = t1[2]\n",
    "number = np.ma.array(tcount[0], mask = tcount[0] <= 3)\n",
    "mass = np.ma.array(t1[0], mask = tcount[0] <= 3)\n",
    "\n",
    "cs1 = ax1.pcolormesh(yedges1,xedges1,np.transpose(number), cmap = plt.cm.Greys_r, norm = LogNorm())\n",
    "ax1.set_xlim(0.8,2.5)\n",
    "ax1.set_ylim(-10,10)\n",
    "cs2 = ax2.pcolormesh(yedges1,xedges1,(np.transpose(mass)))\n",
    "ax2.set_xlim(0.8,2.5)\n",
    "ax2.set_ylim(-10,10)\n",
    "\n",
    "cbar_ax1 = fig.add_axes([0.14, 0.85, 0.3, 0.01])\n",
    "cb1 = fig.colorbar(cs1,orientation = 'horizontal', cax=cbar_ax1)\n",
    "cb1.ax.xaxis.set_ticks_position('top')\n",
    "cb1.ax.tick_params(labelsize=13)\n",
    "cbar_ax2 = fig.add_axes([0.58, 0.85, 0.3, 0.01])\n",
    "cb2 = fig.colorbar(cs2,orientation = 'horizontal', cax=cbar_ax2)\n",
    "cb2.ax.xaxis.set_ticks_position('top')\n",
    "cb2.ax.tick_params(labelsize=13)\n",
    "\n",
    "fig.text(0.84, 0.79, r'Mass',\n",
    "         ha='center', va='center', fontsize = 15)\n",
    "fig.text(0.42, 0.79, 'Number',\n",
    "         ha='center', va='center', fontsize = 15)\n",
    "fig.text(0.495, 0.1, r'$D_{\\rm n}4000$', \n",
    "         ha='center', va='center', fontsize = 25)\n",
    "fig.text(0.03, 0.55, r'$H\\delta_{\\rm A}$', \n",
    "          rotation=90, ha='center', va='center', fontsize = 25)\n",
    "\n",
    "plt.gcf().subplots_adjust(wspace=0.2, hspace = 0, top = 0.83, bottom = 0.2)\n",
    "#plt.savefig('/Users/Nitya/Desktop/hd_d4000_mlratio.pdf')\n",
    "plt.show()"
   ]
  },
  {
   "cell_type": "code",
   "execution_count": 159,
   "metadata": {},
   "outputs": [
    {
     "data": {
      "image/png": "[encoded data removed]",
      "text/plain": [
       "<Figure size 936x504 with 4 Axes>"
      ]
     },
     "metadata": {
      "needs_background": "light"
     },
     "output_type": "display_data"
    }
   ],
   "source": [
    "fig, (ax1, ax2) = plt.subplots(1, 2, figsize = (13,7))\n",
    "t1 = binned_statistic_2d(d['d4000_n'], d['lick_hd_a'],d['mlratio_z'],statistic = 'mean',bins=(100,100))\n",
    "tcount = binned_statistic_2d(d['d4000_n'], d['lick_hd_a'],d['mlratio_z'],statistic = 'count',bins=(100,100))\n",
    "yedges1 = t1[1]\n",
    "xedges1 = t1[2]\n",
    "number = np.ma.array(tcount[0], mask = tcount[0] <= 3)\n",
    "mass = np.ma.array(t1[0], mask = tcount[0] <= 3)\n",
    "\n",
    "cs1 = ax1.pcolormesh(yedges1,xedges1,np.transpose(number), cmap = plt.cm.Greys_r, norm = LogNorm())\n",
    "ax1.set_xlim(0.8,2.5)\n",
    "ax1.set_ylim(-10,10)\n",
    "cs2 = ax2.pcolormesh(yedges1,xedges1,(np.transpose(mass)), cmap = plt.cm.coolwarm)\n",
    "ax2.set_xlim(0.8,2.5)\n",
    "ax2.set_ylim(-10,10)\n",
    "\n",
    "cbar_ax1 = fig.add_axes([0.14, 0.85, 0.3, 0.01])\n",
    "cb1 = fig.colorbar(cs1,orientation = 'horizontal', cax=cbar_ax1)\n",
    "cb1.ax.xaxis.set_ticks_position('top')\n",
    "cb1.ax.tick_params(labelsize=13)\n",
    "cbar_ax2 = fig.add_axes([0.58, 0.85, 0.3, 0.01])\n",
    "cb2 = fig.colorbar(cs2,orientation = 'horizontal', cax=cbar_ax2)\n",
    "cb2.ax.xaxis.set_ticks_position('top')\n",
    "cb2.ax.tick_params(labelsize=13)\n",
    "\n",
    "fig.text(0.84, 0.79, r'${\\rm log}_{10}(\\rm M/L)_{z}$',\n",
    "         ha='center', va='center', fontsize = 15)\n",
    "fig.text(0.42, 0.79, 'Number',\n",
    "         ha='center', va='center', fontsize = 15)\n",
    "fig.text(0.495, 0.1, r'$D_{\\rm n}4000$', \n",
    "         ha='center', va='center', fontsize = 25)\n",
    "fig.text(0.03, 0.55, r'$H\\delta_{\\rm A}$', \n",
    "          rotation=90, ha='center', va='center', fontsize = 25)\n",
    "\n",
    "plt.gcf().subplots_adjust(wspace=0.2, hspace = 0, top = 0.83, bottom = 0.2)\n",
    "plt.savefig('/Users/Nitya/Desktop/hd_d4000_mlratio_fine_binning.pdf')\n",
    "plt.show()"
   ]
  },
  {
   "cell_type": "code",
   "execution_count": 153,
   "metadata": {},
   "outputs": [
    {
     "data": {
      "text/plain": [
       "(-3.205787213867188, 9.413400084648133, 735915)"
      ]
     },
     "execution_count": 153,
     "metadata": {},
     "output_type": "execute_result"
    }
   ],
   "source": [
    "min(d['mlratio_z']), max(d['mlratio_z']), len(d)"
   ]
  },
  {
   "cell_type": "code",
   "execution_count": 154,
   "metadata": {},
   "outputs": [
    {
     "data": {
      "text/plain": [
       "318.23947939262473"
      ]
     },
     "execution_count": 154,
     "metadata": {},
     "output_type": "execute_result"
    }
   ],
   "source": [
    "np.mean(number)"
   ]
  },
  {
   "cell_type": "code",
   "execution_count": 158,
   "metadata": {},
   "outputs": [
    {
     "data": {
      "image/png": "[encoded data removed]",
      "text/plain": [
       "<Figure size 936x504 with 4 Axes>"
      ]
     },
     "metadata": {
      "needs_background": "light"
     },
     "output_type": "display_data"
    }
   ],
   "source": [
    "fig, (ax1, ax2) = plt.subplots(1, 2, figsize = (13,7))\n",
    "t1 = binned_statistic_2d(d['d4000_n'], d['lick_hd_a'],d['mlratio_z'],statistic = 'mean',bins=(50,50))\n",
    "tcount = binned_statistic_2d(d['d4000_n'], d['lick_hd_a'],d['mlratio_z'],statistic = 'count',bins=(50,50))\n",
    "yedges1 = t1[1]\n",
    "xedges1 = t1[2]\n",
    "number = np.ma.array(tcount[0], mask = tcount[0] <= 10)\n",
    "mass = np.ma.array(t1[0], mask = tcount[0] <= 10)\n",
    "\n",
    "cs1 = ax1.pcolormesh(yedges1,xedges1,np.transpose(number), cmap = plt.cm.Greys_r, norm = LogNorm())\n",
    "ax1.set_xlim(0.8,2.5)\n",
    "ax1.set_ylim(-10,10)\n",
    "cs2 = ax2.pcolormesh(yedges1,xedges1,(np.transpose(mass)), cmap = plt.cm.coolwarm)\n",
    "ax2.set_xlim(0.8,2.5)\n",
    "ax2.set_ylim(-10,10)\n",
    "\n",
    "cbar_ax1 = fig.add_axes([0.14, 0.85, 0.3, 0.01])\n",
    "cb1 = fig.colorbar(cs1,orientation = 'horizontal', cax=cbar_ax1)\n",
    "cb1.ax.xaxis.set_ticks_position('top')\n",
    "cb1.ax.tick_params(labelsize=13)\n",
    "cbar_ax2 = fig.add_axes([0.58, 0.85, 0.3, 0.01])\n",
    "cb2 = fig.colorbar(cs2,orientation = 'horizontal', cax=cbar_ax2)\n",
    "cb2.ax.xaxis.set_ticks_position('top')\n",
    "cb2.ax.tick_params(labelsize=13)\n",
    "\n",
    "fig.text(0.84, 0.79, r'${\\rm log}_{10}(\\rm M/L)_{z}$',\n",
    "         ha='center', va='center', fontsize = 15)\n",
    "fig.text(0.42, 0.79, 'Number',\n",
    "         ha='center', va='center', fontsize = 15)\n",
    "fig.text(0.495, 0.1, r'$D_{\\rm n}4000$', \n",
    "         ha='center', va='center', fontsize = 25)\n",
    "fig.text(0.03, 0.55, r'$H\\delta_{\\rm A}$', \n",
    "          rotation=90, ha='center', va='center', fontsize = 25)\n",
    "\n",
    "plt.gcf().subplots_adjust(wspace=0.2, hspace = 0, top = 0.83, bottom = 0.2)\n",
    "plt.savefig('/Users/Nitya/Desktop/hd_d4000_mlratio_coarser_binning.pdf')\n",
    "plt.show()"
   ]
  },
  {
   "cell_type": "code",
   "execution_count": 160,
   "metadata": {},
   "outputs": [],
   "source": [
    "d.to_csv('hd_d4000_mlratio_z.csv')"
   ]
  },
  {
   "cell_type": "code",
   "execution_count": null,
   "metadata": {},
   "outputs": [],
   "source": []
  }
 ],
 "metadata": {
  "kernelspec": {
   "display_name": "Python 3",
   "language": "python",
   "name": "python3"
  },
  "language_info": {
   "codemirror_mode": {
    "name": "ipython",
    "version": 3
   },
   "file_extension": ".py",
   "mimetype": "text/x-python",
   "name": "python",
   "nbconvert_exporter": "python",
   "pygments_lexer": "ipython3",
   "version": "3.6.6"
  }
 },
 "nbformat": 4,
 "nbformat_minor": 2
}
