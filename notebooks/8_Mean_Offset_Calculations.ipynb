{
 "cells": [
  {
   "cell_type": "code",
   "execution_count": 1,
   "metadata": {},
   "outputs": [],
   "source": [
    "import numpy as np\n",
    "import pandas as pd\n",
    "\n",
    "from scipy.stats import binned_statistic_2d\n",
    "from scipy.interpolate import griddata, interp2d\n",
    "import pickle\n",
    "import os\n",
    "\n",
    "\n",
    "import astropy as ap\n",
    "from astropy.io import fits\n",
    "from astropy import table as t\n",
    "from astropy.table import Table\n",
    "from astropy import wcs\n",
    "from astropy.cosmology import WMAP7\n",
    "\n",
    "import matplotlib.pyplot as plt\n",
    "import matplotlib.patheffects as patheffects\n",
    "from matplotlib import rcParams\n",
    "from matplotlib.path import Path\n",
    "import matplotlib.patches as patches\n",
    "import matplotlib as mpl\n",
    "from matplotlib import rc\n",
    "from matplotlib import colors\n",
    "from matplotlib.colors import LogNorm\n",
    "\n",
    "rcParams[\"font.family\"] = \"sans-serif\"\n",
    "rcParams[\"font.sans-serif\"] = [\"Computer Modern Sans\"]\n",
    "rcParams[\"text.usetex\"] = True\n",
    "rcParams[\"text.latex.preamble\"] = r\"\\usepackage{cmbright}\"\n",
    "rcParams['xtick.major.pad']='10'\n",
    "rcParams['ytick.major.pad']='10'\n",
    "rcParams['font.size'] = 22\n",
    "rcParams['axes.labelsize'] = 22\n",
    "rcParams['axes.labelweight'] = 'bold'\n",
    "rcParams['axes.titlesize'] = 17\n",
    "rcParams['xtick.labelsize'] = 17\n",
    "rcParams['ytick.labelsize'] = 17\n",
    "rcParams['legend.fontsize'] = 15\n",
    "rcParams['figure.titlesize'] = 1"
   ]
  },
  {
   "cell_type": "code",
   "execution_count": 2,
   "metadata": {},
   "outputs": [],
   "source": [
    "os.chdir(\"/Users/nitya/Work/data/Project2\")"
   ]
  },
  {
   "cell_type": "code",
   "execution_count": 3,
   "metadata": {},
   "outputs": [],
   "source": [
    "d1 = pd.read_csv('offset_mlratio_nearest_nonmodel_0.02.csv')\n",
    "d2 = pd.read_csv('offset_mlratio_nearest_nonmodel_0.06.csv')\n",
    "d3 = pd.read_csv('offset_mlratio_nearest_nonmodel_0.14.csv')"
   ]
  },
  {
   "cell_type": "code",
   "execution_count": 4,
   "metadata": {},
   "outputs": [
    {
     "data": {
      "text/html": [
       "<div>\n",
       "<style scoped>\n",
       "    .dataframe tbody tr th:only-of-type {\n",
       "        vertical-align: middle;\n",
       "    }\n",
       "\n",
       "    .dataframe tbody tr th {\n",
       "        vertical-align: top;\n",
       "    }\n",
       "\n",
       "    .dataframe thead th {\n",
       "        text-align: right;\n",
       "    }\n",
       "</style>\n",
       "<table border=\"1\" class=\"dataframe\">\n",
       "  <thead>\n",
       "    <tr style=\"text-align: right;\">\n",
       "      <th></th>\n",
       "      <th>Unnamed: 0</th>\n",
       "      <th>plate_ifu</th>\n",
       "      <th>z</th>\n",
       "      <th>hd_z</th>\n",
       "      <th>d4_z</th>\n",
       "      <th>hd_all</th>\n",
       "      <th>d4_all</th>\n",
       "      <th>offset_hd</th>\n",
       "      <th>offset_d4</th>\n",
       "      <th>mlz_z</th>\n",
       "      <th>mlz_all</th>\n",
       "      <th>offset_mlz</th>\n",
       "    </tr>\n",
       "  </thead>\n",
       "  <tbody>\n",
       "    <tr>\n",
       "      <th>0</th>\n",
       "      <td>0</td>\n",
       "      <td>10001-12704</td>\n",
       "      <td>0.014122</td>\n",
       "      <td>2.756831</td>\n",
       "      <td>1.399400</td>\n",
       "      <td>3.090909</td>\n",
       "      <td>1.342825</td>\n",
       "      <td>0.334078</td>\n",
       "      <td>-0.056574</td>\n",
       "      <td>0.344417</td>\n",
       "      <td>0.028020</td>\n",
       "      <td>-0.316397</td>\n",
       "    </tr>\n",
       "    <tr>\n",
       "      <th>1</th>\n",
       "      <td>1</td>\n",
       "      <td>10213-9102</td>\n",
       "      <td>0.018773</td>\n",
       "      <td>4.271750</td>\n",
       "      <td>1.249259</td>\n",
       "      <td>1.470337</td>\n",
       "      <td>1.453276</td>\n",
       "      <td>-2.801413</td>\n",
       "      <td>0.204017</td>\n",
       "      <td>-0.030698</td>\n",
       "      <td>0.343930</td>\n",
       "      <td>0.374627</td>\n",
       "    </tr>\n",
       "    <tr>\n",
       "      <th>2</th>\n",
       "      <td>2</td>\n",
       "      <td>10214-6101</td>\n",
       "      <td>0.017492</td>\n",
       "      <td>4.622316</td>\n",
       "      <td>1.166559</td>\n",
       "      <td>4.413039</td>\n",
       "      <td>1.250179</td>\n",
       "      <td>-0.209277</td>\n",
       "      <td>0.083619</td>\n",
       "      <td>-0.022858</td>\n",
       "      <td>-0.031050</td>\n",
       "      <td>-0.008192</td>\n",
       "    </tr>\n",
       "    <tr>\n",
       "      <th>3</th>\n",
       "      <td>3</td>\n",
       "      <td>10214-6103</td>\n",
       "      <td>0.017672</td>\n",
       "      <td>2.833827</td>\n",
       "      <td>1.270369</td>\n",
       "      <td>4.025033</td>\n",
       "      <td>1.153019</td>\n",
       "      <td>1.191206</td>\n",
       "      <td>-0.117350</td>\n",
       "      <td>0.198610</td>\n",
       "      <td>0.327126</td>\n",
       "      <td>0.128515</td>\n",
       "    </tr>\n",
       "    <tr>\n",
       "      <th>4</th>\n",
       "      <td>4</td>\n",
       "      <td>10217-9102</td>\n",
       "      <td>0.015578</td>\n",
       "      <td>2.689720</td>\n",
       "      <td>1.019599</td>\n",
       "      <td>4.028885</td>\n",
       "      <td>1.070501</td>\n",
       "      <td>1.339166</td>\n",
       "      <td>0.050902</td>\n",
       "      <td>-0.032487</td>\n",
       "      <td>-0.280032</td>\n",
       "      <td>-0.247545</td>\n",
       "    </tr>\n",
       "  </tbody>\n",
       "</table>\n",
       "</div>"
      ],
      "text/plain": [
       "   Unnamed: 0    plate_ifu         z      hd_z      d4_z    hd_all    d4_all  \\\n",
       "0           0  10001-12704  0.014122  2.756831  1.399400  3.090909  1.342825   \n",
       "1           1   10213-9102  0.018773  4.271750  1.249259  1.470337  1.453276   \n",
       "2           2   10214-6101  0.017492  4.622316  1.166559  4.413039  1.250179   \n",
       "3           3   10214-6103  0.017672  2.833827  1.270369  4.025033  1.153019   \n",
       "4           4   10217-9102  0.015578  2.689720  1.019599  4.028885  1.070501   \n",
       "\n",
       "   offset_hd  offset_d4     mlz_z   mlz_all  offset_mlz  \n",
       "0   0.334078  -0.056574  0.344417  0.028020   -0.316397  \n",
       "1  -2.801413   0.204017 -0.030698  0.343930    0.374627  \n",
       "2  -0.209277   0.083619 -0.022858 -0.031050   -0.008192  \n",
       "3   1.191206  -0.117350  0.198610  0.327126    0.128515  \n",
       "4   1.339166   0.050902 -0.032487 -0.280032   -0.247545  "
      ]
     },
     "execution_count": 4,
     "metadata": {},
     "output_type": "execute_result"
    }
   ],
   "source": [
    "d1.head()"
   ]
  },
  {
   "cell_type": "code",
   "execution_count": 5,
   "metadata": {},
   "outputs": [
    {
     "data": {
      "text/html": [
       "<div>\n",
       "<style scoped>\n",
       "    .dataframe tbody tr th:only-of-type {\n",
       "        vertical-align: middle;\n",
       "    }\n",
       "\n",
       "    .dataframe tbody tr th {\n",
       "        vertical-align: top;\n",
       "    }\n",
       "\n",
       "    .dataframe thead th {\n",
       "        text-align: right;\n",
       "    }\n",
       "</style>\n",
       "<table border=\"1\" class=\"dataframe\">\n",
       "  <thead>\n",
       "    <tr style=\"text-align: right;\">\n",
       "      <th></th>\n",
       "      <th>Unnamed: 0</th>\n",
       "      <th>specObjID</th>\n",
       "      <th>plateid_x</th>\n",
       "      <th>mjd_x</th>\n",
       "      <th>targettype_x</th>\n",
       "      <th>z_x</th>\n",
       "      <th>ra_x</th>\n",
       "      <th>dec_x</th>\n",
       "      <th>spectrotype_x</th>\n",
       "      <th>lick_hd_a</th>\n",
       "      <th>...</th>\n",
       "      <th>spectrotype_y</th>\n",
       "      <th>psfFlux_z</th>\n",
       "      <th>fiberFlux_z</th>\n",
       "      <th>modelMag_z</th>\n",
       "      <th>fiberMag_z</th>\n",
       "      <th>petroMag_z</th>\n",
       "      <th>psfMag_z</th>\n",
       "      <th>cModelMag_z</th>\n",
       "      <th>zband_lum</th>\n",
       "      <th>mlratio_z</th>\n",
       "    </tr>\n",
       "  </thead>\n",
       "  <tbody>\n",
       "    <tr>\n",
       "      <th>0</th>\n",
       "      <td>1288098</td>\n",
       "      <td>571978357969807360</td>\n",
       "      <td>508</td>\n",
       "      <td>52366</td>\n",
       "      <td>GALAXY</td>\n",
       "      <td>0.065824</td>\n",
       "      <td>166.4783</td>\n",
       "      <td>2.094602</td>\n",
       "      <td>GALAXY</td>\n",
       "      <td>2.151605</td>\n",
       "      <td>...</td>\n",
       "      <td>GALAXY</td>\n",
       "      <td>28.06302</td>\n",
       "      <td>33.45266</td>\n",
       "      <td>16.86503</td>\n",
       "      <td>18.68839</td>\n",
       "      <td>16.92087</td>\n",
       "      <td>18.87891</td>\n",
       "      <td>16.92317</td>\n",
       "      <td>9.759862</td>\n",
       "      <td>0.189329</td>\n",
       "    </tr>\n",
       "    <tr>\n",
       "      <th>1</th>\n",
       "      <td>400208</td>\n",
       "      <td>1562851102729201664</td>\n",
       "      <td>1388</td>\n",
       "      <td>53119</td>\n",
       "      <td>GALAXY</td>\n",
       "      <td>0.111108</td>\n",
       "      <td>232.1581</td>\n",
       "      <td>32.259860</td>\n",
       "      <td>GALAXY</td>\n",
       "      <td>2.135609</td>\n",
       "      <td>...</td>\n",
       "      <td>GALAXY</td>\n",
       "      <td>68.12619</td>\n",
       "      <td>89.96645</td>\n",
       "      <td>15.89000</td>\n",
       "      <td>17.61473</td>\n",
       "      <td>15.95821</td>\n",
       "      <td>17.91659</td>\n",
       "      <td>15.79503</td>\n",
       "      <td>10.615238</td>\n",
       "      <td>0.347252</td>\n",
       "    </tr>\n",
       "    <tr>\n",
       "      <th>2</th>\n",
       "      <td>590268</td>\n",
       "      <td>2187701916006377472</td>\n",
       "      <td>1943</td>\n",
       "      <td>53386</td>\n",
       "      <td>GALAXY</td>\n",
       "      <td>0.061661</td>\n",
       "      <td>142.9699</td>\n",
       "      <td>32.348130</td>\n",
       "      <td>GALAXY</td>\n",
       "      <td>3.941239</td>\n",
       "      <td>...</td>\n",
       "      <td>GALAXY</td>\n",
       "      <td>42.61896</td>\n",
       "      <td>50.59392</td>\n",
       "      <td>17.25803</td>\n",
       "      <td>18.23952</td>\n",
       "      <td>17.33761</td>\n",
       "      <td>18.42566</td>\n",
       "      <td>17.28630</td>\n",
       "      <td>9.512923</td>\n",
       "      <td>0.006772</td>\n",
       "    </tr>\n",
       "    <tr>\n",
       "      <th>3</th>\n",
       "      <td>989578</td>\n",
       "      <td>487552899115673600</td>\n",
       "      <td>433</td>\n",
       "      <td>51873</td>\n",
       "      <td>GALAXY</td>\n",
       "      <td>0.106914</td>\n",
       "      <td>116.2391</td>\n",
       "      <td>37.233990</td>\n",
       "      <td>GALAXY</td>\n",
       "      <td>2.766207</td>\n",
       "      <td>...</td>\n",
       "      <td>GALAXY</td>\n",
       "      <td>26.55329</td>\n",
       "      <td>39.21035</td>\n",
       "      <td>16.65694</td>\n",
       "      <td>18.51611</td>\n",
       "      <td>16.68685</td>\n",
       "      <td>18.93886</td>\n",
       "      <td>16.56544</td>\n",
       "      <td>10.268623</td>\n",
       "      <td>-0.021323</td>\n",
       "    </tr>\n",
       "    <tr>\n",
       "      <th>4</th>\n",
       "      <td>169894</td>\n",
       "      <td>1130466224317163520</td>\n",
       "      <td>1004</td>\n",
       "      <td>52723</td>\n",
       "      <td>GALAXY</td>\n",
       "      <td>0.045666</td>\n",
       "      <td>167.0256</td>\n",
       "      <td>6.661255</td>\n",
       "      <td>GALAXY</td>\n",
       "      <td>2.404512</td>\n",
       "      <td>...</td>\n",
       "      <td>GALAXY</td>\n",
       "      <td>66.11886</td>\n",
       "      <td>75.75258</td>\n",
       "      <td>16.86960</td>\n",
       "      <td>17.80140</td>\n",
       "      <td>16.82482</td>\n",
       "      <td>17.94905</td>\n",
       "      <td>16.68491</td>\n",
       "      <td>9.409395</td>\n",
       "      <td>0.201458</td>\n",
       "    </tr>\n",
       "  </tbody>\n",
       "</table>\n",
       "<p>5 rows × 37 columns</p>\n",
       "</div>"
      ],
      "text/plain": [
       "   Unnamed: 0            specObjID  plateid_x  mjd_x targettype_x       z_x  \\\n",
       "0     1288098   571978357969807360        508  52366       GALAXY  0.065824   \n",
       "1      400208  1562851102729201664       1388  53119       GALAXY  0.111108   \n",
       "2      590268  2187701916006377472       1943  53386       GALAXY  0.061661   \n",
       "3      989578   487552899115673600        433  51873       GALAXY  0.106914   \n",
       "4      169894  1130466224317163520       1004  52723       GALAXY  0.045666   \n",
       "\n",
       "       ra_x      dec_x spectrotype_x  lick_hd_a    ...      spectrotype_y  \\\n",
       "0  166.4783   2.094602        GALAXY   2.151605    ...             GALAXY   \n",
       "1  232.1581  32.259860        GALAXY   2.135609    ...             GALAXY   \n",
       "2  142.9699  32.348130        GALAXY   3.941239    ...             GALAXY   \n",
       "3  116.2391  37.233990        GALAXY   2.766207    ...             GALAXY   \n",
       "4  167.0256   6.661255        GALAXY   2.404512    ...             GALAXY   \n",
       "\n",
       "   psfFlux_z  fiberFlux_z  modelMag_z  fiberMag_z  petroMag_z  psfMag_z  \\\n",
       "0   28.06302     33.45266    16.86503    18.68839    16.92087  18.87891   \n",
       "1   68.12619     89.96645    15.89000    17.61473    15.95821  17.91659   \n",
       "2   42.61896     50.59392    17.25803    18.23952    17.33761  18.42566   \n",
       "3   26.55329     39.21035    16.65694    18.51611    16.68685  18.93886   \n",
       "4   66.11886     75.75258    16.86960    17.80140    16.82482  17.94905   \n",
       "\n",
       "   cModelMag_z  zband_lum  mlratio_z  \n",
       "0     16.92317   9.759862   0.189329  \n",
       "1     15.79503  10.615238   0.347252  \n",
       "2     17.28630   9.512923   0.006772  \n",
       "3     16.56544  10.268623  -0.021323  \n",
       "4     16.68491   9.409395   0.201458  \n",
       "\n",
       "[5 rows x 37 columns]"
      ]
     },
     "execution_count": 5,
     "metadata": {},
     "output_type": "execute_result"
    }
   ],
   "source": [
    "df = pd.read_csv('hd_d4000_mlratio_z.csv')\n",
    "df.head()"
   ]
  },
  {
   "cell_type": "code",
   "execution_count": 6,
   "metadata": {},
   "outputs": [
    {
     "name": "stderr",
     "output_type": "stream",
     "text": [
      "/Users/nitya/miniconda3/lib/python3.6/site-packages/ipykernel_launcher.py:2: UserWarning: Boolean Series key will be reindexed to match DataFrame index.\n",
      "  \n"
     ]
    },
    {
     "name": "stdout",
     "output_type": "stream",
     "text": [
      "735808\n"
     ]
    }
   ],
   "source": [
    "df = df[df['lick_hd_a']>-10][df['lick_hd_a']<=12]\n",
    "df = df[df['d4000_n']>0.5][df['lick_hd_a']<=12]\n",
    "print(len(df))"
   ]
  },
  {
   "cell_type": "code",
   "execution_count": 7,
   "metadata": {},
   "outputs": [
    {
     "name": "stdout",
     "output_type": "stream",
     "text": [
      "35.0\n",
      "-45.0\n"
     ]
    }
   ],
   "source": [
    "slope = (7.5+10)/(1.5-1.0)\n",
    "print(slope)\n",
    "intercept = -10-slope\n",
    "print(intercept)"
   ]
  },
  {
   "cell_type": "code",
   "execution_count": 8,
   "metadata": {},
   "outputs": [
    {
     "name": "stderr",
     "output_type": "stream",
     "text": [
      "/Users/nitya/miniconda3/lib/python3.6/site-packages/scipy/stats/_binned_statistic.py:607: FutureWarning: Using a non-tuple sequence for multidimensional indexing is deprecated; use `arr[tuple(seq)]` instead of `arr[seq]`. In the future this will be interpreted as an array index, `arr[np.array(seq)]`, which will result either in an error or a different result.\n",
      "  result = result[core]\n",
      "/Users/nitya/miniconda3/lib/python3.6/site-packages/matplotlib/font_manager.py:1241: UserWarning: findfont: Font family ['sans-serif'] not found. Falling back to DejaVu Sans.\n",
      "  (prop.get_family(), self.defaultFamily[fontext]))\n"
     ]
    },
    {
     "data": {
      "image/png": "[encoded data removed]",
      "text/plain": [
       "<Figure size 936x504 with 4 Axes>"
      ]
     },
     "metadata": {
      "needs_background": "light"
     },
     "output_type": "display_data"
    }
   ],
   "source": [
    "fig, (ax1, ax2) = plt.subplots(1, 2, figsize = (13,7))\n",
    "t1 = binned_statistic_2d(df['d4000_n'], df['lick_hd_a'],\n",
    "                         df['mlratio_z'],statistic = 'mean',bins=(50,50))\n",
    "\n",
    "yedges1 = t1[1]\n",
    "xedges1 = t1[2]\n",
    "tcount = binned_statistic_2d(df['d4000_n'], df['lick_hd_a'],\n",
    "                             df['mlratio_z'],statistic = 'count',bins=(yedges1,xedges1))\n",
    "\n",
    "number = np.ma.array(tcount[0], mask = tcount[0] <= 10)\n",
    "mass = np.ma.array(t1[0], mask = tcount[0] <= 10)\n",
    "\n",
    "cs1 = ax1.pcolormesh(yedges1,xedges1,np.transpose(number), cmap = plt.cm.Greys_r, norm = LogNorm())\n",
    "ax1.grid(linestyle = '--')\n",
    "ax1.set_xlim(0.8,2.5)\n",
    "ax1.set_ylim(-10,12)\n",
    "#ax1.xaxis.set_ticklabels([1,1.25,1.5,2,2.25])\n",
    "\n",
    "cs2 = ax2.pcolormesh(yedges1,xedges1,(np.transpose(mass)), cmap = plt.cm.coolwarm)\n",
    "ax2.grid(linestyle = '--')\n",
    "ax2.yaxis.set_ticklabels([])\n",
    "ax2.set_xlim(0.8,2.5)\n",
    "ax2.set_ylim(-10,12)\n",
    "ax2.plot([1.0, 2.5],[-10.0,slope*2.5+intercept], linestyle = '--', color = 'k')\n",
    "\n",
    "cbar_ax1 = fig.add_axes([0.14, 0.85, 0.3, 0.01])\n",
    "cb1 = fig.colorbar(cs1,orientation = 'horizontal', cax=cbar_ax1)\n",
    "cb1.ax.xaxis.set_ticks_position('top')\n",
    "cb1.ax.tick_params(labelsize=13)\n",
    "cbar_ax2 = fig.add_axes([0.58, 0.85, 0.3, 0.01])\n",
    "cb2 = fig.colorbar(cs2,orientation = 'horizontal', cax=cbar_ax2)\n",
    "cb2.ax.xaxis.set_ticks_position('top')\n",
    "cb2.ax.tick_params(labelsize=13)\n",
    "\n",
    "fig.text(0.84, 0.79, r'${\\rm log}_{10}(\\rm M/L)_{z}$',\n",
    "         ha='center', va='center', fontsize = 15)\n",
    "fig.text(0.42, 0.79, 'Number',\n",
    "         ha='center', va='center', fontsize = 15)\n",
    "fig.text(0.495, 0.1, r'$D_{\\rm n}4000$', \n",
    "         ha='center', va='center', fontsize = 25)\n",
    "fig.text(0.03, 0.55, r'$H\\delta_{\\rm A}$', \n",
    "          rotation=90, ha='center', va='center', fontsize = 25)\n",
    "\n",
    "plt.gcf().subplots_adjust(wspace=0, hspace = 0, top = 0.83, bottom = 0.2)\n",
    "plt.savefig('/Users/Nitya/Desktop/hd_d4000_mlratio_coarser_binning.pdf')\n",
    "plt.show()"
   ]
  },
  {
   "cell_type": "code",
   "execution_count": 9,
   "metadata": {},
   "outputs": [
    {
     "data": {
      "text/plain": [
       "Index(['Unnamed: 0', 'specObjID', 'plateid_x', 'mjd_x', 'targettype_x', 'z_x',\n",
       "       'ra_x', 'dec_x', 'spectrotype_x', 'lick_hd_a', 'lick_hd_a_err',\n",
       "       'lick_hd_a_model', 'lick_hd_a_sub', 'lick_hd_a_sub_err', 'd4000_n',\n",
       "       'd4000_n_err', 'd4000_n_model', 'd4000_n_sub', 'd4000_n_sub_err',\n",
       "       'lgm_tot_p50', 'sfr_tot_p50', 'plateid_y', 'mjd_y', 'targettype_y',\n",
       "       'z_y', 'ra_y', 'dec_y', 'spectrotype_y', 'psfFlux_z', 'fiberFlux_z',\n",
       "       'modelMag_z', 'fiberMag_z', 'petroMag_z', 'psfMag_z', 'cModelMag_z',\n",
       "       'zband_lum', 'mlratio_z'],\n",
       "      dtype='object')"
      ]
     },
     "execution_count": 9,
     "metadata": {},
     "output_type": "execute_result"
    }
   ],
   "source": [
    "df.columns"
   ]
  },
  {
   "cell_type": "code",
   "execution_count": 10,
   "metadata": {},
   "outputs": [
    {
     "name": "stdout",
     "output_type": "stream",
     "text": [
      "0.36439355021371866 0.13373581768744314\n"
     ]
    }
   ],
   "source": [
    "newdf1 = df.query('lick_hd_a - @slope*d4000_n < @intercept')\n",
    "#plt.scatter(newdf1['d4000_n'], newdf1['lick_hd_a'], s = 0.01)\n",
    "#plt.show()\n",
    "newdf2 = df.query('lick_hd_a - @slope*d4000_n > @intercept')\n",
    "#plt.scatter(newdf2['d4000_n'], newdf2['lick_hd_a'], s = 0.01)\n",
    "#plt.show()\n",
    "mean_mlratio_lesser = np.mean(newdf1['mlratio_z'].values)\n",
    "mean_mlratio_greater = np.mean(newdf2['mlratio_z'].values)\n",
    "\n",
    "print(mean_mlratio_lesser, mean_mlratio_greater)"
   ]
  },
  {
   "cell_type": "code",
   "execution_count": 11,
   "metadata": {},
   "outputs": [
    {
     "data": {
      "text/plain": [
       "Index(['Unnamed: 0', 'plate_ifu', 'z', 'hd_z', 'd4_z', 'hd_all', 'd4_all',\n",
       "       'offset_hd', 'offset_d4', 'mlz_z', 'mlz_all', 'offset_mlz'],\n",
       "      dtype='object')"
      ]
     },
     "execution_count": 11,
     "metadata": {},
     "output_type": "execute_result"
    }
   ],
   "source": [
    "d1.columns"
   ]
  },
  {
   "cell_type": "code",
   "execution_count": 12,
   "metadata": {},
   "outputs": [
    {
     "data": {
      "text/html": [
       "<div>\n",
       "<style scoped>\n",
       "    .dataframe tbody tr th:only-of-type {\n",
       "        vertical-align: middle;\n",
       "    }\n",
       "\n",
       "    .dataframe tbody tr th {\n",
       "        vertical-align: top;\n",
       "    }\n",
       "\n",
       "    .dataframe thead th {\n",
       "        text-align: right;\n",
       "    }\n",
       "</style>\n",
       "<table border=\"1\" class=\"dataframe\">\n",
       "  <thead>\n",
       "    <tr style=\"text-align: right;\">\n",
       "      <th></th>\n",
       "      <th>Unnamed: 0</th>\n",
       "      <th>plate_ifu</th>\n",
       "      <th>z</th>\n",
       "      <th>hd_z</th>\n",
       "      <th>d4_z</th>\n",
       "      <th>hd_all</th>\n",
       "      <th>d4_all</th>\n",
       "      <th>offset_hd</th>\n",
       "      <th>offset_d4</th>\n",
       "      <th>mlz_z</th>\n",
       "      <th>mlz_all</th>\n",
       "      <th>offset_mlz</th>\n",
       "    </tr>\n",
       "  </thead>\n",
       "  <tbody>\n",
       "    <tr>\n",
       "      <th>0</th>\n",
       "      <td>0</td>\n",
       "      <td>10001-12704</td>\n",
       "      <td>0.014122</td>\n",
       "      <td>2.756831</td>\n",
       "      <td>1.399400</td>\n",
       "      <td>3.090909</td>\n",
       "      <td>1.342825</td>\n",
       "      <td>0.334078</td>\n",
       "      <td>-0.056574</td>\n",
       "      <td>0.344417</td>\n",
       "      <td>0.028020</td>\n",
       "      <td>-0.316397</td>\n",
       "    </tr>\n",
       "    <tr>\n",
       "      <th>1</th>\n",
       "      <td>1</td>\n",
       "      <td>10213-9102</td>\n",
       "      <td>0.018773</td>\n",
       "      <td>4.271750</td>\n",
       "      <td>1.249259</td>\n",
       "      <td>1.470337</td>\n",
       "      <td>1.453276</td>\n",
       "      <td>-2.801413</td>\n",
       "      <td>0.204017</td>\n",
       "      <td>-0.030698</td>\n",
       "      <td>0.343930</td>\n",
       "      <td>0.374627</td>\n",
       "    </tr>\n",
       "    <tr>\n",
       "      <th>2</th>\n",
       "      <td>2</td>\n",
       "      <td>10214-6101</td>\n",
       "      <td>0.017492</td>\n",
       "      <td>4.622316</td>\n",
       "      <td>1.166559</td>\n",
       "      <td>4.413039</td>\n",
       "      <td>1.250179</td>\n",
       "      <td>-0.209277</td>\n",
       "      <td>0.083619</td>\n",
       "      <td>-0.022858</td>\n",
       "      <td>-0.031050</td>\n",
       "      <td>-0.008192</td>\n",
       "    </tr>\n",
       "    <tr>\n",
       "      <th>3</th>\n",
       "      <td>3</td>\n",
       "      <td>10214-6103</td>\n",
       "      <td>0.017672</td>\n",
       "      <td>2.833827</td>\n",
       "      <td>1.270369</td>\n",
       "      <td>4.025033</td>\n",
       "      <td>1.153019</td>\n",
       "      <td>1.191206</td>\n",
       "      <td>-0.117350</td>\n",
       "      <td>0.198610</td>\n",
       "      <td>0.327126</td>\n",
       "      <td>0.128515</td>\n",
       "    </tr>\n",
       "    <tr>\n",
       "      <th>4</th>\n",
       "      <td>4</td>\n",
       "      <td>10217-9102</td>\n",
       "      <td>0.015578</td>\n",
       "      <td>2.689720</td>\n",
       "      <td>1.019599</td>\n",
       "      <td>4.028885</td>\n",
       "      <td>1.070501</td>\n",
       "      <td>1.339166</td>\n",
       "      <td>0.050902</td>\n",
       "      <td>-0.032487</td>\n",
       "      <td>-0.280032</td>\n",
       "      <td>-0.247545</td>\n",
       "    </tr>\n",
       "  </tbody>\n",
       "</table>\n",
       "</div>"
      ],
      "text/plain": [
       "   Unnamed: 0    plate_ifu         z      hd_z      d4_z    hd_all    d4_all  \\\n",
       "0           0  10001-12704  0.014122  2.756831  1.399400  3.090909  1.342825   \n",
       "1           1   10213-9102  0.018773  4.271750  1.249259  1.470337  1.453276   \n",
       "2           2   10214-6101  0.017492  4.622316  1.166559  4.413039  1.250179   \n",
       "3           3   10214-6103  0.017672  2.833827  1.270369  4.025033  1.153019   \n",
       "4           4   10217-9102  0.015578  2.689720  1.019599  4.028885  1.070501   \n",
       "\n",
       "   offset_hd  offset_d4     mlz_z   mlz_all  offset_mlz  \n",
       "0   0.334078  -0.056574  0.344417  0.028020   -0.316397  \n",
       "1  -2.801413   0.204017 -0.030698  0.343930    0.374627  \n",
       "2  -0.209277   0.083619 -0.022858 -0.031050   -0.008192  \n",
       "3   1.191206  -0.117350  0.198610  0.327126    0.128515  \n",
       "4   1.339166   0.050902 -0.032487 -0.280032   -0.247545  "
      ]
     },
     "execution_count": 12,
     "metadata": {},
     "output_type": "execute_result"
    }
   ],
   "source": [
    "d1.head()"
   ]
  },
  {
   "cell_type": "code",
   "execution_count": 13,
   "metadata": {},
   "outputs": [
    {
     "data": {
      "image/png": "[encoded data removed]",
      "text/plain": [
       "<Figure size 432x288 with 1 Axes>"
      ]
     },
     "metadata": {
      "needs_background": "light"
     },
     "output_type": "display_data"
    },
    {
     "name": "stdout",
     "output_type": "stream",
     "text": [
      "0.34499662160434397 0.09410462897609957\n",
      "-0.0316397516029416 -0.005860542994972394\n"
     ]
    }
   ],
   "source": [
    "newdf1 = d1.query('hd_z - @slope*d4_z < @intercept')\n",
    "\n",
    "newdf2 = d1.query('hd_z - @slope*d4_z > @intercept')\n",
    "\n",
    "\n",
    "plt.scatter(newdf1['d4_z'], newdf1['hd_z'], s = 10)\n",
    "plt.scatter(newdf2['d4_z'], newdf2['hd_z'], s = 10)\n",
    "plt.show()\n",
    "mean_mlratio_lesser_1 = np.mean(newdf1['mlz_z'].values)\n",
    "mean_mlratio_greater_1 = np.mean(newdf2['mlz_z'].values)\n",
    "mean_offset_lesser_1 = np.mean(newdf1['offset_mlz'].values)\n",
    "mean_offset_greater_1 = np.mean(newdf2['offset_mlz'].values)\n",
    "\n",
    "print(mean_mlratio_lesser_1, mean_mlratio_greater_1)\n",
    "print(mean_offset_lesser_1, mean_offset_greater_1)"
   ]
  },
  {
   "cell_type": "code",
   "execution_count": 14,
   "metadata": {},
   "outputs": [
    {
     "data": {
      "image/png": "[encoded data removed]",
      "text/plain": [
       "<Figure size 432x288 with 1 Axes>"
      ]
     },
     "metadata": {
      "needs_background": "light"
     },
     "output_type": "display_data"
    },
    {
     "name": "stdout",
     "output_type": "stream",
     "text": [
      "0.3438216332705667 0.09527779790707513\n",
      "-0.030836826531198003 -0.02295000837506006\n"
     ]
    }
   ],
   "source": [
    "newdf1 = d2.query('hd_z - @slope*d4_z < @intercept')\n",
    "\n",
    "newdf2 = d2.query('hd_z - @slope*d4_z > @intercept')\n",
    "\n",
    "\n",
    "plt.scatter(newdf1['d4_z'], newdf1['hd_z'], s = 10)\n",
    "plt.scatter(newdf2['d4_z'], newdf2['hd_z'], s = 10)\n",
    "plt.show()\n",
    "mean_mlratio_lesser_2 = np.mean(newdf1['mlz_z'].values)\n",
    "mean_mlratio_greater_2 = np.mean(newdf2['mlz_z'].values)\n",
    "mean_offset_lesser_2 = np.mean(newdf1['offset_mlz'].values)\n",
    "mean_offset_greater_2 = np.mean(newdf2['offset_mlz'].values)\n",
    "\n",
    "print(mean_mlratio_lesser_2, mean_mlratio_greater_2)\n",
    "print(mean_offset_lesser_2, mean_offset_greater_2)"
   ]
  },
  {
   "cell_type": "code",
   "execution_count": 15,
   "metadata": {},
   "outputs": [
    {
     "data": {
      "image/png": "[encoded data removed]",
      "text/plain": [
       "<Figure size 432x288 with 1 Axes>"
      ]
     },
     "metadata": {
      "needs_background": "light"
     },
     "output_type": "display_data"
    },
    {
     "name": "stdout",
     "output_type": "stream",
     "text": [
      "0.3515875469022856 0.08656038064332172\n",
      "-0.021156091049345595 -0.009868642041769064\n"
     ]
    }
   ],
   "source": [
    "newdf1 = d3.query('hd_z - @slope*d4_z < @intercept')\n",
    "\n",
    "newdf2 = d3.query('hd_z - @slope*d4_z > @intercept')\n",
    "\n",
    "\n",
    "plt.scatter(newdf1['d4_z'], newdf1['hd_z'], s = 5)\n",
    "plt.scatter(newdf2['d4_z'], newdf2['hd_z'], s = 5)\n",
    "plt.show()\n",
    "mean_mlratio_lesser_3 = np.mean(newdf1['mlz_z'].values)\n",
    "mean_mlratio_greater_3 = np.mean(newdf2['mlz_z'].values)\n",
    "mean_offset_lesser_3 = np.mean(newdf1['offset_mlz'].values)\n",
    "mean_offset_greater_3 = np.mean(newdf2['offset_mlz'].values)\n",
    "\n",
    "print(mean_mlratio_lesser_3, mean_mlratio_greater_3)\n",
    "print(mean_offset_lesser_3, mean_offset_greater_3)"
   ]
  },
  {
   "cell_type": "code",
   "execution_count": 105,
   "metadata": {},
   "outputs": [],
   "source": [
    "cell_text = [[mean_mlratio_lesser_1, mean_mlratio_lesser_2, mean_mlratio_lesser_3],\n",
    "            [mean_offset_lesser_1,mean_offset_lesser_2,mean_offset_lesser_3],\n",
    "             [mean_mlratio_greater_1, mean_mlratio_greater_2, mean_mlratio_greater_3],\n",
    "             [mean_offset_greater_1,mean_offset_greater_2,mean_offset_greater_3]]\n",
    "rows = ['Mean M/L Ratio (below line)','Mean Offset (below line)', \n",
    "        'Mean M/L Ratio (above line)','Mean Offset (above line)']\n",
    "columns = [r'$z = 0.02$', r'$z = 0.06$', r'$z = 0.14$']"
   ]
  },
  {
   "cell_type": "code",
   "execution_count": 106,
   "metadata": {},
   "outputs": [],
   "source": [
    "cell_text = np.around(cell_text, decimals = 4)"
   ]
  },
  {
   "cell_type": "code",
   "execution_count": 107,
   "metadata": {},
   "outputs": [
    {
     "data": {
      "image/png": "[encoded data removed]",
      "text/plain": [
       "<Figure size 576x216 with 1 Axes>"
      ]
     },
     "metadata": {
      "needs_background": "light"
     },
     "output_type": "display_data"
    }
   ],
   "source": [
    "\n",
    "\n",
    "# Adjust layout to make room for the table:\n",
    "# plt.subplots_adjust(left=0.2, bottom=0.2)\n",
    "\n",
    "# plt.ylabel(\"Loss in ${0}'s\".format(value_increment))\n",
    "# plt.yticks(values * value_increment, ['%d' % val for val in values])\n",
    "# plt.xticks([])\n",
    "# plt.subplots_adjust(left=0.2, top=0.8)\n",
    "# plt.title('Loss by Disaster')\n",
    "\n",
    "# plt.show()\n",
    "\n",
    "\n",
    "fig, axs = plt.subplots(figsize = (8,3))\n",
    "\n",
    "# Hide axes\n",
    "axs.axis(\"off\") \n",
    "#axs.axis('tight')\n",
    "the_table = axs.table(cellText=cell_text,\n",
    "                      rowLabels=rows,\n",
    "                      colLabels=columns,\n",
    "                      loc = 'center')\n",
    "the_table.set_fontsize(22)\n",
    "#fig.set_size_inches(w=3, h=2)\n",
    "fig.tight_layout()\n",
    "plt.subplots_adjust(left=0.6, top= 1.3, bottom = -0.4)\n",
    "plt.savefig('/Users/Nitya/Desktop/table.pdf')\n",
    "plt.show()"
   ]
  },
  {
   "cell_type": "code",
   "execution_count": 73,
   "metadata": {},
   "outputs": [
    {
     "data": {
      "text/plain": [
       "1.236"
      ]
     },
     "execution_count": 73,
     "metadata": {},
     "output_type": "execute_result"
    }
   ],
   "source": [
    "np.around(1.2356324, decimals = 3)"
   ]
  },
  {
   "cell_type": "code",
   "execution_count": null,
   "metadata": {},
   "outputs": [],
   "source": []
  },
  {
   "cell_type": "code",
   "execution_count": null,
   "metadata": {},
   "outputs": [],
   "source": []
  }
 ],
 "metadata": {
  "kernelspec": {
   "display_name": "Python 3",
   "language": "python",
   "name": "python3"
  },
  "language_info": {
   "codemirror_mode": {
    "name": "ipython",
    "version": 3
   },
   "file_extension": ".py",
   "mimetype": "text/x-python",
   "name": "python",
   "nbconvert_exporter": "python",
   "pygments_lexer": "ipython3",
   "version": "3.6.6"
  }
 },
 "nbformat": 4,
 "nbformat_minor": 2
}
