{
 "cells": [
  {
   "cell_type": "code",
   "execution_count": 59,
   "metadata": {},
   "outputs": [],
   "source": [
    "import numpy as np\n",
    "import scipy\n",
    "from scipy.stats import binned_statistic\n",
    "from scipy.stats import binned_statistic_2d\n",
    "import scipy.interpolate as interp\n",
    "import scipy.stats as st\n",
    "import scipy.signal as sig\n",
    "from scipy.optimize import curve_fit\n",
    "\n",
    "\n",
    "import h5py\n",
    "import gc\n",
    "import sys\n",
    "import subprocess\n",
    "import pickle\n",
    "import os\n",
    "\n",
    "\n",
    "import astropy as ap\n",
    "from astropy.io import fits\n",
    "from astropy import table as t\n",
    "from astropy.table import Table\n",
    "from astropy import wcs\n",
    "from astropy.cosmology import WMAP7\n",
    "\n",
    "\n",
    "import matplotlib.pyplot as plt\n",
    "import matplotlib.patheffects as patheffects\n",
    "from matplotlib import rcParams\n",
    "from matplotlib.path import Path\n",
    "import matplotlib.patches as patches\n",
    "import matplotlib as mpl\n",
    "from matplotlib import rc\n",
    "from matplotlib import colors\n",
    "\n",
    "rcParams[\"font.family\"] = \"DejaVu Sans\"\n",
    "rcParams[\"font.sans-serif\"] = [\"Computer Modern Sans\"]\n",
    "rcParams[\"text.usetex\"] = True\n",
    "rcParams[\"text.latex.preamble\"] = r\"\\usepackage{cmbright}\"\n",
    "rcParams['xtick.major.pad']='10'\n",
    "rcParams['ytick.major.pad']='10'\n",
    "rcParams['font.size'] = 22\n",
    "rcParams['axes.labelsize'] = 22\n",
    "rcParams['axes.labelweight'] = 'bold'\n",
    "rcParams['axes.titlesize'] = 17\n",
    "rcParams['xtick.labelsize'] = 17\n",
    "rcParams['ytick.labelsize'] = 17\n",
    "rcParams['legend.fontsize'] = 15\n",
    "rcParams['figure.titlesize'] = 1"
   ]
  },
  {
   "cell_type": "code",
   "execution_count": 22,
   "metadata": {},
   "outputs": [],
   "source": [
    "os.chdir(\"/Volumes/500GB/nmd299/data/mpl7\")\n",
    "\n",
    "drpall = t.Table.read('drpall-v2_5_3.fits')\n",
    "drpall.add_index('plateifu')\n",
    "\n",
    "index = np.where(drpall['srvymode']=='MaNGA dither')[0]\n",
    "plate_ifu = drpall['plateifu'][index]\n",
    "# drp_logcube = fits.open('manga-7977-12701-LOGCUBE.fits')\n",
    "# wave = drp_logcube['WAVE'].data\n",
    "\n",
    "print(np.unique(drpall['srvymode']))\n",
    "\n",
    "index = np.where(drpall['srvymode']=='MaNGA dither')[0]\n",
    "plate_ifu = drpall['plateifu'][index]\n",
    "index2 = np.where(drpall['srvymode']=='MaNGA 10min')[0]\n",
    "plate_ifu2 = drpall['plateifu'][index2]\n",
    "\n",
    "print(len(drpall))\n",
    "print(len(index))\n",
    "print(len(index2))\n",
    "print(plate_ifu[0:1300])\n",
    "\n",
    "print(plate_ifu[0:1500])\n",
    "drpall2 = drpall[index]\n",
    "print(len(drpall))\n",
    "print(len(drpall2))\n",
    "q = drpall2['drp3qual'][0:1300]\n",
    "#np.unique(q)\n",
    "print(len(plate_ifu[0:1300][q==66]))\n",
    "print(len(plate_ifu[0:1300][q==64]))\n",
    "print(len(plate_ifu[0:1300][q==2]))\n",
    "\n",
    "print(len(plate_ifu[0:1300][q==1073742080]))\n",
    "print(np.unique(q[q!=0]))\n",
    "\n",
    "\n",
    "\n",
    "print(plate_ifu[0:1300][q==0])\n",
    "print(plate_ifu[0:1300][q==64])\n",
    "print(a)\n",
    "drpall.info()\n",
    "drpnos = plate_ifu[0:1300]"
   ]
  },
  {
   "cell_type": "code",
   "execution_count": 32,
   "metadata": {},
   "outputs": [
    {
     "name": "stdout",
     "output_type": "stream",
     "text": [
      "1194\n",
      "1194\n",
      "1300\n"
     ]
    }
   ],
   "source": [
    "tings = os.listdir(\"/Volumes/500GB/nmd299/data/mpl7\")[2:]\n",
    "print(tings)\n",
    "print(len(tings))\n",
    "print(len(np.unique(tings)))\n",
    "print(len(np.unique(drpnos)))\n",
    "print(len(a))\n",
    "print(a)\n",
    "a = np.setdiff1d(drpnos,tings)"
   ]
  },
  {
   "cell_type": "code",
   "execution_count": 8,
   "metadata": {},
   "outputs": [
    {
     "data": {
      "text/html": [
       "&lt;Column name=&apos;srvymode&apos; dtype=&apos;bytes12&apos; length=2&gt;\n",
       "<table>\n",
       "<tr><td>MaNGA 10min</td></tr>\n",
       "<tr><td>MaNGA dither</td></tr>\n",
       "</table>"
      ],
      "text/plain": [
       "<Column name='srvymode' dtype='bytes12' length=2>\n",
       " MaNGA 10min\n",
       "MaNGA dither"
      ]
     },
     "execution_count": 8,
     "metadata": {},
     "output_type": "execute_result"
    }
   ],
   "source": [
    "np.unique(drpall['srvymode'])"
   ]
  },
  {
   "cell_type": "code",
   "execution_count": 3,
   "metadata": {},
   "outputs": [],
   "source": [
    "def dn4000_red(wave,spec):\n",
    "        interp_spec = interp.interp1d(wave,spec)\n",
    "        red_wav = np.linspace(4000,4100,100)\n",
    "        d4000_r = np.sum(interp_spec(red_wav))\n",
    "        return d4000_r\n",
    "\n",
    "def dn4000_blue(wave,spec):\n",
    "    interp_spec = interp.interp1d(wave,spec)\n",
    "    blue_wav = np.linspace(3850,3950,100)\n",
    "    d4000_b =  np.sum(interp_spec(blue_wav))\n",
    "    return d4000_b\n",
    "\n",
    "def dn_4000(wave,specs):\n",
    "    dn_4000 = np.sum([dn4000_red(wave,specs[i]) for i in\n",
    "        range(len(specs))]) / np.sum([dn4000_blue(wave,specs[i])\n",
    "            for i in range(len(specs))])\n",
    "    return dn_4000"
   ]
  },
  {
   "cell_type": "code",
   "execution_count": 4,
   "metadata": {},
   "outputs": [],
   "source": [
    "#Hdelta\n",
    "bandw_HdA = np.logical_and(wave > 4083.500, wave < 4122.250)\n",
    "bandw_HdA_blueside = np.logical_and(wave > 4041.600, wave < 4079.750)\n",
    "bandw_HdA_redside = np.logical_and(wave > 4128.500, wave < 4161.000)\n",
    "blues = len(wave[bandw_HdA_blueside])\n",
    "reds = len(wave[bandw_HdA_redside])"
   ]
  },
  {
   "cell_type": "code",
   "execution_count": 5,
   "metadata": {},
   "outputs": [],
   "source": [
    "def tsum(xin, yin):\n",
    "    tsum = np.sum(np.abs((xin[1:]-xin[:-1]))*(yin[1:]+yin[:-1])/2. )\n",
    "    return tsum"
   ]
  },
  {
   "cell_type": "code",
   "execution_count": 6,
   "metadata": {},
   "outputs": [],
   "source": [
    "def HdA(specs):\n",
    "    spec_av_blueside = np.sum([np.sum(specs[i][bandw_HdA_blueside])\n",
    "        for i in range(len(specs))])/(blues*len(specs))\n",
    "    spec_av_redside = np.sum([np.sum(specs[i][bandw_HdA_redside])\n",
    "        for i in range(len(specs))])/(reds*len(specs))\n",
    "\n",
    "    a_spec = (spec_av_redside - spec_av_blueside)/(\n",
    "            (4161.000+4128.500)/2.0 - (4079.750+4041.600)/2.0)\n",
    "    b_spec = spec_av_blueside - a_spec * (4079.750+4041.600)/2\n",
    "    spec_cont_HdA = wave[bandw_HdA] * a_spec + b_spec\n",
    "    mean_dip = np.mean([specs[i][bandw_HdA] for i in range(len(specs))])\n",
    "    HdA = tsum(wave[bandw_HdA], np.divide(spec_cont_HdA - mean_dip, spec_cont_HdA))\n",
    "    return HdA"
   ]
  },
  {
   "cell_type": "code",
   "execution_count": 7,
   "metadata": {},
   "outputs": [],
   "source": [
    "def get_specs(galaxy, NX, NY):\n",
    "    x_ax = np.arange(0, NX) + 0.5 - (NX/2.0)\n",
    "    y = np.outer((np.arange(0, NX) + 0.5) - (NX/2.0), np.ones(NX))\n",
    "    x = np.transpose(y)\n",
    "    grid = np.sqrt((x*x+y*y))\n",
    "    #unravel the cube\n",
    "    spectra = []\n",
    "    for i in range(NX):\n",
    "        for j in range(NY):\n",
    "            thing = galaxy[:,i,j]\n",
    "            spectra.append(thing)\n",
    "\n",
    "    spectra = np.array(spectra)\n",
    "    #3 arcsec aperture\n",
    "    radii = np.ravel(grid)\n",
    "    index = np.where(radii<=3.0)[0]\n",
    "    spaxels_within = spectra[index]\n",
    "    return(spaxels_within)\n"
   ]
  },
  {
   "cell_type": "code",
   "execution_count": 8,
   "metadata": {},
   "outputs": [],
   "source": [
    "fits_files = ['manga-'+ str(plate_ifu[i]) + '-LOGCUBE.fits' for i in range(470)]"
   ]
  },
  {
   "cell_type": "code",
   "execution_count": 9,
   "metadata": {},
   "outputs": [
    {
     "name": "stdout",
     "output_type": "stream",
     "text": [
      "321\n",
      "322\n",
      "323\n",
      "324\n"
     ]
    }
   ],
   "source": [
    "n = []\n",
    "dn4 = []\n",
    "hda = []\n",
    "\n",
    "# drp_logcube = fits.open(fits_files[i])\n",
    "# wave = drp_logcube['WAVE'].data\n",
    "\n",
    "for i in range(321,325):\n",
    "    drp_logcube = fits.open(fits_files[i])\n",
    "    wave = drp_logcube['WAVE'].data\n",
    "    print(i)\n",
    "    #print(wavez)\n",
    "#     NL, NY, NX = drp_logcube['FLUX'].data.shape\n",
    "#     n.append([NX,NY])\n",
    "#     flux = drp_logcube['FLUX'].data\n",
    "#     specs = get_specs(flux, NX, NY)\n",
    "#     hdelta = HdA(specs)\n",
    "#     dn4000 = dn_4000(wave,specs)\n",
    "#     dn4.append(dn4000)\n",
    "#     hda.append(hdelta)\n",
    "\n",
    "#print(dn4, hda)\n",
    "dn4 = np.array(dn4)\n",
    "hda = np.array(hda)\n",
    "stuff = np.column_stack((dn4,hda))"
   ]
  },
  {
   "cell_type": "code",
   "execution_count": null,
   "metadata": {},
   "outputs": [],
   "source": [
    "plt.scatter(dn4,hda)\n",
    "plt.show()"
   ]
  },
  {
   "cell_type": "code",
   "execution_count": 21,
   "metadata": {},
   "outputs": [
    {
     "data": {
      "text/plain": [
       "4"
      ]
     },
     "execution_count": 21,
     "metadata": {},
     "output_type": "execute_result"
    }
   ],
   "source": [
    "print(plate_ifu[0:250], min(plate_ifu[0:250]), max(plate_ifu[0:250]))\n",
    "woo = [plate_ifu[i] for i in range(318,322)]\n",
    "print(fits_files[320], len(woo))\n",
    "drp_logcube = fits.open(fits_files[320])\n",
    "wave = drp_logcube['WAVE'].data"
   ]
  }
 ],
 "metadata": {
  "kernelspec": {
   "display_name": "Python 3",
   "language": "python",
   "name": "python3"
  },
  "language_info": {
   "codemirror_mode": {
    "name": "ipython",
    "version": 3
   },
   "file_extension": ".py",
   "mimetype": "text/x-python",
   "name": "python",
   "nbconvert_exporter": "python",
   "pygments_lexer": "ipython3",
   "version": "3.6.6"
  }
 },
 "nbformat": 4,
 "nbformat_minor": 2
}
